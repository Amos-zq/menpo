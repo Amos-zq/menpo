{
 "metadata": {
  "name": "medical_import"
 },
 "nbformat": 3,
 "nbformat_minor": 0,
 "worksheets": [
  {
   "cells": [
    {
     "cell_type": "markdown",
     "metadata": {},
     "source": [
      "**Great Ormand Street data importer**"
     ]
    },
    {
     "cell_type": "code",
     "collapsed": false,
     "input": [
      "import os\n",
      "from ibugMM.importer.model import import_face\n",
      "from ibugMM.importer.model import process_with_meshlabserver\n",
      "from ibugMM.importer.metadata import medical_landmarks\n",
      "import re"
     ],
     "language": "python",
     "metadata": {},
     "outputs": [],
     "prompt_number": 1
    },
    {
     "cell_type": "code",
     "collapsed": false,
     "input": [
      "medical_dir = '/home/jab08/Dropbox/testData/medicaldata/'"
     ],
     "language": "python",
     "metadata": {},
     "outputs": [],
     "prompt_number": 2
    },
    {
     "cell_type": "code",
     "collapsed": false,
     "input": [
      "all_files = os.listdir(medical_dir)\n",
      "med_stls = [f for f in all_files if f.lower().endswith('.stl')]\n",
      "med_lms = [f for f in all_files if f.lower().endswith('.lan')]\n",
      "print 'found ' + `len(med_stls)` + ' medical .stl files'\n",
      "print 'found ' + `len(med_lms)` + ' medical .lan files'"
     ],
     "language": "python",
     "metadata": {},
     "outputs": [
      {
       "output_type": "stream",
       "stream": "stdout",
       "text": [
        "found 95 medical .stl files\n",
        "found 96 medical .lan files\n"
       ]
      }
     ],
     "prompt_number": 3
    },
    {
     "cell_type": "markdown",
     "metadata": {},
     "source": [
      "*Find the unique identifiers on the lm's and on the stl files*"
     ]
    },
    {
     "cell_type": "code",
     "collapsed": false,
     "input": [
      "lm_names = [f.split('.')[0].lower() for f in med_lms]\n",
      "lm_names_tuple = [(f.split('.')[0].lower(), f) for f in med_lms]\n",
      "unique_lm_names = set(lm_names)\n",
      "print `len(lm_names)` + ' lm names found'\n",
      "print `len(unique_lm_names)` + ' of which are unique'"
     ],
     "language": "python",
     "metadata": {},
     "outputs": [
      {
       "output_type": "stream",
       "stream": "stdout",
       "text": [
        "96 lm names found\n",
        "90 of which are unique\n"
       ]
      }
     ],
     "prompt_number": 4
    },
    {
     "cell_type": "code",
     "collapsed": false,
     "input": [
      "# find any letters optionally followed by letters before the \n",
      "# file extension\n",
      "prog = re.compile(r'([a-z]+\\d*)[.]', re.IGNORECASE)\n",
      "stl_names = [prog.findall(f)[0].lower() for f in med_stls]\n",
      "stl_names_tuple = [(prog.findall(f)[0].lower(), f) for f in med_stls]\n",
      "unique_stl_names = set(stl_names)\n",
      "print `len(stl_names)` + ' stl names found'\n",
      "print `len(unique_stl_names)` + ' of which are unique'"
     ],
     "language": "python",
     "metadata": {},
     "outputs": [
      {
       "output_type": "stream",
       "stream": "stdout",
       "text": [
        "95 stl names found\n",
        "86 of which are unique\n"
       ]
      }
     ],
     "prompt_number": 5
    },
    {
     "cell_type": "markdown",
     "metadata": {},
     "source": [
      "*Find what lm and stl names are fully shared and build a list of tuples, each element* `(stl_filename, matching_lm_filename)`"
     ]
    },
    {
     "cell_type": "code",
     "collapsed": false,
     "input": [
      "faces_with_lms = unique_stl_names.intersection(unique_lm_names)\n",
      "stl_lookup = dict(stl_names_tuple)\n",
      "lm_lookup = dict(lm_names_tuple)\n",
      "paired_stl_lm = []\n",
      "for id_ in faces_with_lms:\n",
      "    paired_stl_lm.append((stl_lookup[id_], lm_lookup[id_]))"
     ],
     "language": "python",
     "metadata": {},
     "outputs": [],
     "prompt_number": 6
    },
    {
     "cell_type": "code",
     "collapsed": false,
     "input": [
      "faces = []\n",
      "for i in paired_stl_lm:\n",
      "    lm_path = os.path.join(medical_dir, i[1])\n",
      "    obj_filename = os.path.splitext(i[0])[0] + '.obj'\n",
      "    obj_path = os.path.join(medical_dir, obj_filename)\n",
      "    face = import_face(obj_path)\n",
      "    face.lm = medical_landmarks(lm_path)\n",
      "    faces.append(face)"
     ],
     "language": "python",
     "metadata": {},
     "outputs": [
      {
       "output_type": "stream",
       "stream": "stdout",
       "text": [
        "importing without cleanup\n",
        "/home/jab08/Dropbox/testData/medicaldata/110611173557CK.jpg"
       ]
      },
      {
       "output_type": "stream",
       "stream": "stdout",
       "text": [
        "\n",
        "Warning, no texture found\n",
        "(there are no texture coordinates anyway so this is expected)\n",
        "no landmarks found\n",
        "Building new face with no texture, yet you supplied texture_coords or a texture_tri_index (these will be ignored)"
       ]
      },
      {
       "output_type": "stream",
       "stream": "stdout",
       "text": [
        "\n",
        "importing without cleanup"
       ]
      },
      {
       "output_type": "stream",
       "stream": "stdout",
       "text": [
        "\n",
        "/home/jab08/Dropbox/testData/medicaldata/110611160437EO.jpg"
       ]
      },
      {
       "output_type": "stream",
       "stream": "stdout",
       "text": [
        "\n",
        "Warning, no texture found\n",
        "(there are no texture coordinates anyway so this is expected)\n",
        "no landmarks found\n",
        "Building new face with no texture, yet you supplied texture_coords or a texture_tri_index (these will be ignored)"
       ]
      },
      {
       "output_type": "stream",
       "stream": "stdout",
       "text": [
        "\n",
        "importing without cleanup\n",
        "/home/jab08/Dropbox/testData/medicaldata/110714112123GT.jpg"
       ]
      },
      {
       "output_type": "stream",
       "stream": "stdout",
       "text": [
        "\n",
        "Warning, no texture found\n",
        "(there are no texture coordinates anyway so this is expected)\n",
        "no landmarks found\n",
        "Building new face with no texture, yet you supplied texture_coords or a texture_tri_index (these will be ignored)"
       ]
      },
      {
       "output_type": "stream",
       "stream": "stdout",
       "text": [
        "\n",
        "importing without cleanup\n",
        "/home/jab08/Dropbox/testData/medicaldata/111101155434ZI.jpg"
       ]
      },
      {
       "output_type": "stream",
       "stream": "stdout",
       "text": [
        "\n",
        "Warning, no texture found\n",
        "(there are no texture coordinates anyway so this is expected)\n",
        "no landmarks found\n",
        "Building new face with no texture, yet you supplied texture_coords or a texture_tri_index (these will be ignored)"
       ]
      },
      {
       "output_type": "stream",
       "stream": "stdout",
       "text": [
        "\n",
        "importing without cleanup"
       ]
      },
      {
       "output_type": "stream",
       "stream": "stdout",
       "text": [
        "\n",
        "/home/jab08/Dropbox/testData/medicaldata/110611160101GP.jpg"
       ]
      },
      {
       "output_type": "stream",
       "stream": "stdout",
       "text": [
        "\n",
        "Warning, no texture found\n",
        "(there are no texture coordinates anyway so this is expected)\n",
        "no landmarks found\n",
        "Building new face with no texture, yet you supplied texture_coords or a texture_tri_index (these will be ignored)"
       ]
      },
      {
       "output_type": "stream",
       "stream": "stdout",
       "text": [
        "\n",
        "importing without cleanup"
       ]
      },
      {
       "output_type": "stream",
       "stream": "stdout",
       "text": [
        "\n",
        "/home/jab08/Dropbox/testData/medicaldata/110611172214CC.jpg"
       ]
      },
      {
       "output_type": "stream",
       "stream": "stdout",
       "text": [
        "\n",
        "Warning, no texture found\n",
        "(there are no texture coordinates anyway so this is expected)\n",
        "no landmarks found\n",
        "Building new face with no texture, yet you supplied texture_coords or a texture_tri_index (these will be ignored)"
       ]
      },
      {
       "output_type": "stream",
       "stream": "stdout",
       "text": [
        "\n",
        "importing without cleanup\n",
        "/home/jab08/Dropbox/testData/medicaldata/110611174027AH.jpg"
       ]
      },
      {
       "output_type": "stream",
       "stream": "stdout",
       "text": [
        "\n",
        "Warning, no texture found\n",
        "(there are no texture coordinates anyway so this is expected)\n",
        "no landmarks found\n",
        "Building new face with no texture, yet you supplied texture_coords or a texture_tri_index (these will be ignored)"
       ]
      },
      {
       "output_type": "stream",
       "stream": "stdout",
       "text": [
        "\n",
        "importing without cleanup\n",
        "/home/jab08/Dropbox/testData/medicaldata/111013124105ROB.jpg"
       ]
      },
      {
       "output_type": "stream",
       "stream": "stdout",
       "text": [
        "\n",
        "Warning, no texture found\n",
        "(there are no texture coordinates anyway so this is expected)\n",
        "no landmarks found\n",
        "Building new face with no texture, yet you supplied texture_coords or a texture_tri_index (these will be ignored)"
       ]
      },
      {
       "output_type": "stream",
       "stream": "stdout",
       "text": [
        "\n",
        "importing without cleanup\n",
        "/home/jab08/Dropbox/testData/medicaldata/110611174839IR.jpg"
       ]
      },
      {
       "output_type": "stream",
       "stream": "stdout",
       "text": [
        "\n",
        "Warning, no texture found\n",
        "(there are no texture coordinates anyway so this is expected)\n",
        "no landmarks found\n",
        "Building new face with no texture, yet you supplied texture_coords or a texture_tri_index (these will be ignored)"
       ]
      },
      {
       "output_type": "stream",
       "stream": "stdout",
       "text": [
        "\n",
        "importing without cleanup"
       ]
      },
      {
       "output_type": "stream",
       "stream": "stdout",
       "text": [
        "\n",
        "/home/jab08/Dropbox/testData/medicaldata/110714133710ac.jpg"
       ]
      },
      {
       "output_type": "stream",
       "stream": "stdout",
       "text": [
        "\n",
        "Warning, no texture found\n",
        "(there are no texture coordinates anyway so this is expected)\n",
        "no landmarks found\n",
        "Building new face with no texture, yet you supplied texture_coords or a texture_tri_index (these will be ignored)"
       ]
      },
      {
       "output_type": "stream",
       "stream": "stdout",
       "text": [
        "\n",
        "importing without cleanup\n",
        "/home/jab08/Dropbox/testData/medicaldata/110611174510SS3.jpg"
       ]
      },
      {
       "output_type": "stream",
       "stream": "stdout",
       "text": [
        "\n",
        "Warning, no texture found\n",
        "(there are no texture coordinates anyway so this is expected)\n",
        "no landmarks found\n",
        "Building new face with no texture, yet you supplied texture_coords or a texture_tri_index (these will be ignored)"
       ]
      },
      {
       "output_type": "stream",
       "stream": "stdout",
       "text": [
        "\n",
        "importing without cleanup\n"
       ]
      },
      {
       "output_type": "stream",
       "stream": "stdout",
       "text": [
        "/home/jab08/Dropbox/testData/medicaldata/110611171728SS2.jpg\n",
        "Warning, no texture found\n",
        "(there are no texture coordinates anyway so this is expected)\n",
        "no landmarks found\n",
        "Building new face with no texture, yet you supplied texture_coords or a texture_tri_index (these will be ignored)"
       ]
      },
      {
       "output_type": "stream",
       "stream": "stdout",
       "text": [
        "\n",
        "importing without cleanup\n",
        "/home/jab08/Dropbox/testData/medicaldata/110712160114AS.jpg"
       ]
      },
      {
       "output_type": "stream",
       "stream": "stdout",
       "text": [
        "\n",
        "Warning, no texture found\n",
        "(there are no texture coordinates anyway so this is expected)\n",
        "no landmarks found\n",
        "Building new face with no texture, yet you supplied texture_coords or a texture_tri_index (these will be ignored)"
       ]
      },
      {
       "output_type": "stream",
       "stream": "stdout",
       "text": [
        "\n",
        "importing without cleanup\n",
        "/home/jab08/Dropbox/testData/medicaldata/110707103755AB.jpg"
       ]
      },
      {
       "output_type": "stream",
       "stream": "stdout",
       "text": [
        "\n",
        "Warning, no texture found\n",
        "(there are no texture coordinates anyway so this is expected)\n",
        "no landmarks found\n",
        "Building new face with no texture, yet you supplied texture_coords or a texture_tri_index (these will be ignored)"
       ]
      },
      {
       "output_type": "stream",
       "stream": "stdout",
       "text": [
        "\n",
        "importing without cleanup\n",
        "/home/jab08/Dropbox/testData/medicaldata/110611162417JG.jpg"
       ]
      },
      {
       "output_type": "stream",
       "stream": "stdout",
       "text": [
        "\n",
        "Warning, no texture found\n",
        "(there are no texture coordinates anyway so this is expected)\n",
        "no landmarks found\n",
        "Building new face with no texture, yet you supplied texture_coords or a texture_tri_index (these will be ignored)"
       ]
      },
      {
       "output_type": "stream",
       "stream": "stdout",
       "text": [
        "\n",
        "importing without cleanup\n",
        "/home/jab08/Dropbox/testData/medicaldata/110712172440FN.jpg"
       ]
      },
      {
       "output_type": "stream",
       "stream": "stdout",
       "text": [
        "\n",
        "Warning, no texture found\n",
        "(there are no texture coordinates anyway so this is expected)\n",
        "no landmarks found\n",
        "Building new face with no texture, yet you supplied texture_coords or a texture_tri_index (these will be ignored)"
       ]
      },
      {
       "output_type": "stream",
       "stream": "stdout",
       "text": [
        "\n",
        "importing without cleanup\n",
        "/home/jab08/Dropbox/testData/medicaldata/110611174350GM.jpg"
       ]
      },
      {
       "output_type": "stream",
       "stream": "stdout",
       "text": [
        "\n",
        "Warning, no texture found\n",
        "(there are no texture coordinates anyway so this is expected)\n",
        "no landmarks found\n",
        "Building new face with no texture, yet you supplied texture_coords or a texture_tri_index (these will be ignored)"
       ]
      },
      {
       "output_type": "stream",
       "stream": "stdout",
       "text": [
        "\n",
        "importing without cleanup\n",
        "/home/jab08/Dropbox/testData/medicaldata/110712164226AW.jpg"
       ]
      },
      {
       "output_type": "stream",
       "stream": "stdout",
       "text": [
        "\n",
        "Warning, no texture found\n",
        "(there are no texture coordinates anyway so this is expected)\n",
        "no landmarks found\n",
        "Building new face with no texture, yet you supplied texture_coords or a texture_tri_index (these will be ignored)"
       ]
      },
      {
       "output_type": "stream",
       "stream": "stdout",
       "text": [
        "\n",
        "importing without cleanup\n",
        "/home/jab08/Dropbox/testData/medicaldata/110526110903EP.jpg"
       ]
      },
      {
       "output_type": "stream",
       "stream": "stdout",
       "text": [
        "\n",
        "Warning, no texture found\n",
        "(there are no texture coordinates anyway so this is expected)\n",
        "no landmarks found\n",
        "Building new face with no texture, yet you supplied texture_coords or a texture_tri_index (these will be ignored)"
       ]
      },
      {
       "output_type": "stream",
       "stream": "stdout",
       "text": [
        "\n",
        "importing without cleanup"
       ]
      },
      {
       "output_type": "stream",
       "stream": "stdout",
       "text": [
        "\n",
        "/home/jab08/Dropbox/testData/medicaldata/110707111301GR.jpg"
       ]
      },
      {
       "output_type": "stream",
       "stream": "stdout",
       "text": [
        "\n",
        "Warning, no texture found\n",
        "(there are no texture coordinates anyway so this is expected)\n",
        "no landmarks found\n",
        "Building new face with no texture, yet you supplied texture_coords or a texture_tri_index (these will be ignored)"
       ]
      },
      {
       "output_type": "stream",
       "stream": "stdout",
       "text": [
        "\n",
        "importing without cleanup"
       ]
      },
      {
       "output_type": "stream",
       "stream": "stdout",
       "text": [
        "\n",
        "/home/jab08/Dropbox/testData/medicaldata/110526105520SJ.jpg"
       ]
      },
      {
       "output_type": "stream",
       "stream": "stdout",
       "text": [
        "\n",
        "Warning, no texture found\n",
        "(there are no texture coordinates anyway so this is expected)\n",
        "no landmarks found\n",
        "Building new face with no texture, yet you supplied texture_coords or a texture_tri_index (these will be ignored)"
       ]
      },
      {
       "output_type": "stream",
       "stream": "stdout",
       "text": [
        "\n",
        "importing without cleanup\n",
        "/home/jab08/Dropbox/testData/medicaldata/111101155137RW.jpg"
       ]
      },
      {
       "output_type": "stream",
       "stream": "stdout",
       "text": [
        "\n",
        "Warning, no texture found\n",
        "(there are no texture coordinates anyway so this is expected)\n",
        "no landmarks found\n",
        "Building new face with no texture, yet you supplied texture_coords or a texture_tri_index (these will be ignored)"
       ]
      },
      {
       "output_type": "stream",
       "stream": "stdout",
       "text": [
        "\n",
        "importing without cleanup\n",
        "/home/jab08/Dropbox/testData/medicaldata/110611173255RP.jpg"
       ]
      },
      {
       "output_type": "stream",
       "stream": "stdout",
       "text": [
        "\n",
        "Warning, no texture found\n",
        "(there are no texture coordinates anyway so this is expected)\n",
        "no landmarks found\n",
        "Building new face with no texture, yet you supplied texture_coords or a texture_tri_index (these will be ignored)"
       ]
      },
      {
       "output_type": "stream",
       "stream": "stdout",
       "text": [
        "\n",
        "importing without cleanup\n",
        "/home/jab08/Dropbox/testData/medicaldata/110611165440RS.jpg"
       ]
      },
      {
       "output_type": "stream",
       "stream": "stdout",
       "text": [
        "\n",
        "Warning, no texture found\n",
        "(there are no texture coordinates anyway so this is expected)\n",
        "no landmarks found\n",
        "Building new face with no texture, yet you supplied texture_coords or a texture_tri_index (these will be ignored)"
       ]
      },
      {
       "output_type": "stream",
       "stream": "stdout",
       "text": [
        "\n",
        "importing without cleanup\n",
        "/home/jab08/Dropbox/testData/medicaldata/110707111120NB.jpg"
       ]
      },
      {
       "output_type": "stream",
       "stream": "stdout",
       "text": [
        "\n",
        "Warning, no texture found\n",
        "(there are no texture coordinates anyway so this is expected)\n",
        "no landmarks found\n",
        "Building new face with no texture, yet you supplied texture_coords or a texture_tri_index (these will be ignored)"
       ]
      },
      {
       "output_type": "stream",
       "stream": "stdout",
       "text": [
        "\n",
        "importing without cleanup"
       ]
      },
      {
       "output_type": "stream",
       "stream": "stdout",
       "text": [
        "\n",
        "/home/jab08/Dropbox/testData/medicaldata/110611175608TR.jpg"
       ]
      },
      {
       "output_type": "stream",
       "stream": "stdout",
       "text": [
        "\n",
        "Warning, no texture found\n",
        "(there are no texture coordinates anyway so this is expected)\n",
        "no landmarks found\n",
        "Building new face with no texture, yet you supplied texture_coords or a texture_tri_index (these will be ignored)"
       ]
      },
      {
       "output_type": "stream",
       "stream": "stdout",
       "text": [
        "\n",
        "importing without cleanup"
       ]
      },
      {
       "output_type": "stream",
       "stream": "stdout",
       "text": [
        "\n",
        "/home/jab08/Dropbox/testData/medicaldata/111020121449LK.jpg"
       ]
      },
      {
       "output_type": "stream",
       "stream": "stdout",
       "text": [
        "\n",
        "Warning, no texture found\n",
        "(there are no texture coordinates anyway so this is expected)\n",
        "no landmarks found\n",
        "Building new face with no texture, yet you supplied texture_coords or a texture_tri_index (these will be ignored)"
       ]
      },
      {
       "output_type": "stream",
       "stream": "stdout",
       "text": [
        "\n",
        "importing without cleanup"
       ]
      },
      {
       "output_type": "stream",
       "stream": "stdout",
       "text": [
        "\n",
        "/home/jab08/Dropbox/testData/medicaldata/110611160839LH.jpg"
       ]
      },
      {
       "output_type": "stream",
       "stream": "stdout",
       "text": [
        "\n",
        "Warning, no texture found\n",
        "(there are no texture coordinates anyway so this is expected)\n",
        "no landmarks found\n",
        "Building new face with no texture, yet you supplied texture_coords or a texture_tri_index (these will be ignored)"
       ]
      },
      {
       "output_type": "stream",
       "stream": "stdout",
       "text": [
        "\n",
        "importing without cleanup\n",
        "/home/jab08/Dropbox/testData/medicaldata/110714111046KH.jpg"
       ]
      },
      {
       "output_type": "stream",
       "stream": "stdout",
       "text": [
        "\n",
        "Warning, no texture found\n",
        "(there are no texture coordinates anyway so this is expected)\n",
        "no landmarks found\n",
        "Building new face with no texture, yet you supplied texture_coords or a texture_tri_index (these will be ignored)"
       ]
      },
      {
       "output_type": "stream",
       "stream": "stdout",
       "text": [
        "\n",
        "importing without cleanup"
       ]
      },
      {
       "output_type": "stream",
       "stream": "stdout",
       "text": [
        "\n",
        "/home/jab08/Dropbox/testData/medicaldata/110712154349LT.jpg"
       ]
      },
      {
       "output_type": "stream",
       "stream": "stdout",
       "text": [
        "\n",
        "Warning, no texture found\n",
        "(there are no texture coordinates anyway so this is expected)\n",
        "no landmarks found\n",
        "Building new face with no texture, yet you supplied texture_coords or a texture_tri_index (these will be ignored)"
       ]
      },
      {
       "output_type": "stream",
       "stream": "stdout",
       "text": [
        "\n",
        "importing without cleanup"
       ]
      },
      {
       "output_type": "stream",
       "stream": "stdout",
       "text": [
        "\n",
        "/home/jab08/Dropbox/testData/medicaldata/110712162125TM.jpg"
       ]
      },
      {
       "output_type": "stream",
       "stream": "stdout",
       "text": [
        "\n",
        "Warning, no texture found\n",
        "(there are no texture coordinates anyway so this is expected)\n",
        "no landmarks found\n",
        "Building new face with no texture, yet you supplied texture_coords or a texture_tri_index (these will be ignored)"
       ]
      },
      {
       "output_type": "stream",
       "stream": "stdout",
       "text": [
        "\n",
        "importing without cleanup\n",
        "/home/jab08/Dropbox/testData/medicaldata/111101164751LS.jpg"
       ]
      },
      {
       "output_type": "stream",
       "stream": "stdout",
       "text": [
        "\n",
        "Warning, no texture found\n",
        "(there are no texture coordinates anyway so this is expected)\n",
        "no landmarks found\n",
        "Building new face with no texture, yet you supplied texture_coords or a texture_tri_index (these will be ignored)"
       ]
      },
      {
       "output_type": "stream",
       "stream": "stdout",
       "text": [
        "\n",
        "importing without cleanup\n",
        "/home/jab08/Dropbox/testData/medicaldata/110611175224TH.jpg"
       ]
      },
      {
       "output_type": "stream",
       "stream": "stdout",
       "text": [
        "\n",
        "Warning, no texture found\n",
        "(there are no texture coordinates anyway so this is expected)\n",
        "no landmarks found\n",
        "Building new face with no texture, yet you supplied texture_coords or a texture_tri_index (these will be ignored)"
       ]
      },
      {
       "output_type": "stream",
       "stream": "stdout",
       "text": [
        "\n",
        "importing without cleanup"
       ]
      },
      {
       "output_type": "stream",
       "stream": "stdout",
       "text": [
        "\n",
        "/home/jab08/Dropbox/testData/medicaldata/110714125706NP.jpg"
       ]
      },
      {
       "output_type": "stream",
       "stream": "stdout",
       "text": [
        "\n",
        "Warning, no texture found\n",
        "(there are no texture coordinates anyway so this is expected)\n",
        "no landmarks found\n",
        "Building new face with no texture, yet you supplied texture_coords or a texture_tri_index (these will be ignored)"
       ]
      },
      {
       "output_type": "stream",
       "stream": "stdout",
       "text": [
        "\n",
        "importing without cleanup"
       ]
      },
      {
       "output_type": "stream",
       "stream": "stdout",
       "text": [
        "\n",
        "/home/jab08/Dropbox/testData/medicaldata/110707105343JCM.jpg"
       ]
      },
      {
       "output_type": "stream",
       "stream": "stdout",
       "text": [
        "\n",
        "Warning, no texture found\n",
        "(there are no texture coordinates anyway so this is expected)\n",
        "no landmarks found\n",
        "Building new face with no texture, yet you supplied texture_coords or a texture_tri_index (these will be ignored)"
       ]
      },
      {
       "output_type": "stream",
       "stream": "stdout",
       "text": [
        "\n",
        "importing without cleanup"
       ]
      },
      {
       "output_type": "stream",
       "stream": "stdout",
       "text": [
        "\n",
        "/home/jab08/Dropbox/testData/medicaldata/111101165155FADI.jpg"
       ]
      },
      {
       "output_type": "stream",
       "stream": "stdout",
       "text": [
        "\n",
        "Warning, no texture found\n",
        "(there are no texture coordinates anyway so this is expected)\n",
        "no landmarks found\n",
        "Building new face with no texture, yet you supplied texture_coords or a texture_tri_index (these will be ignored)"
       ]
      },
      {
       "output_type": "stream",
       "stream": "stdout",
       "text": [
        "\n",
        "importing without cleanup"
       ]
      },
      {
       "output_type": "stream",
       "stream": "stdout",
       "text": [
        "\n",
        "/home/jab08/Dropbox/testData/medicaldata/110712162604ER.jpg"
       ]
      },
      {
       "output_type": "stream",
       "stream": "stdout",
       "text": [
        "\n",
        "Warning, no texture found\n",
        "(there are no texture coordinates anyway so this is expected)\n",
        "no landmarks found\n",
        "Building new face with no texture, yet you supplied texture_coords or a texture_tri_index (these will be ignored)"
       ]
      },
      {
       "output_type": "stream",
       "stream": "stdout",
       "text": [
        "\n",
        "importing without cleanup"
       ]
      },
      {
       "output_type": "stream",
       "stream": "stdout",
       "text": [
        "\n",
        "/home/jab08/Dropbox/testData/medicaldata/110715130211tb.jpg"
       ]
      },
      {
       "output_type": "stream",
       "stream": "stdout",
       "text": [
        "\n",
        "Warning, no texture found\n",
        "(there are no texture coordinates anyway so this is expected)\n",
        "no landmarks found\n",
        "Building new face with no texture, yet you supplied texture_coords or a texture_tri_index (these will be ignored)"
       ]
      },
      {
       "output_type": "stream",
       "stream": "stdout",
       "text": [
        "\n",
        "importing without cleanup\n",
        "/home/jab08/Dropbox/testData/medicaldata/111013123235CA.jpg"
       ]
      },
      {
       "output_type": "stream",
       "stream": "stdout",
       "text": [
        "\n",
        "Warning, no texture found\n",
        "(there are no texture coordinates anyway so this is expected)\n",
        "no landmarks found\n",
        "Building new face with no texture, yet you supplied texture_coords or a texture_tri_index (these will be ignored)"
       ]
      },
      {
       "output_type": "stream",
       "stream": "stdout",
       "text": [
        "\n",
        "importing without cleanup"
       ]
      },
      {
       "output_type": "stream",
       "stream": "stdout",
       "text": [
        "\n",
        "/home/jab08/Dropbox/testData/medicaldata/110712164704NV.jpg"
       ]
      },
      {
       "output_type": "stream",
       "stream": "stdout",
       "text": [
        "\n",
        "Warning, no texture found\n",
        "(there are no texture coordinates anyway so this is expected)\n",
        "no landmarks found\n",
        "Building new face with no texture, yet you supplied texture_coords or a texture_tri_index (these will be ignored)"
       ]
      },
      {
       "output_type": "stream",
       "stream": "stdout",
       "text": [
        "\n",
        "importing without cleanup"
       ]
      },
      {
       "output_type": "stream",
       "stream": "stdout",
       "text": [
        "\n",
        "/home/jab08/Dropbox/testData/medicaldata/110611173121RP2.jpg"
       ]
      },
      {
       "output_type": "stream",
       "stream": "stdout",
       "text": [
        "\n",
        "Warning, no texture found\n",
        "(there are no texture coordinates anyway so this is expected)\n",
        "no landmarks found\n",
        "Building new face with no texture, yet you supplied texture_coords or a texture_tri_index (these will be ignored)"
       ]
      },
      {
       "output_type": "stream",
       "stream": "stdout",
       "text": [
        "\n",
        "importing without cleanup\n",
        "/home/jab08/Dropbox/testData/medicaldata/110715131832HV.jpg"
       ]
      },
      {
       "output_type": "stream",
       "stream": "stdout",
       "text": [
        "\n",
        "Warning, no texture found\n",
        "(there are no texture coordinates anyway so this is expected)\n",
        "no landmarks found\n",
        "Building new face with no texture, yet you supplied texture_coords or a texture_tri_index (these will be ignored)"
       ]
      },
      {
       "output_type": "stream",
       "stream": "stdout",
       "text": [
        "\n",
        "importing without cleanup"
       ]
      },
      {
       "output_type": "stream",
       "stream": "stdout",
       "text": [
        "\n",
        "/home/jab08/Dropbox/testData/medicaldata/110725155202DD.jpg"
       ]
      },
      {
       "output_type": "stream",
       "stream": "stdout",
       "text": [
        "\n",
        "Warning, no texture found\n",
        "(there are no texture coordinates anyway so this is expected)\n",
        "no landmarks found\n",
        "Building new face with no texture, yet you supplied texture_coords or a texture_tri_index (these will be ignored)"
       ]
      },
      {
       "output_type": "stream",
       "stream": "stdout",
       "text": [
        "\n",
        "importing without cleanup"
       ]
      },
      {
       "output_type": "stream",
       "stream": "stdout",
       "text": [
        "\n",
        "/home/jab08/Dropbox/testData/medicaldata/110715135552JP.jpg"
       ]
      },
      {
       "output_type": "stream",
       "stream": "stdout",
       "text": [
        "\n",
        "Warning, no texture found\n",
        "(there are no texture coordinates anyway so this is expected)\n",
        "no landmarks found\n",
        "Building new face with no texture, yet you supplied texture_coords or a texture_tri_index (these will be ignored)"
       ]
      },
      {
       "output_type": "stream",
       "stream": "stdout",
       "text": [
        "\n",
        "importing without cleanup\n",
        "/home/jab08/Dropbox/testData/medicaldata/110712164435HW.jpg"
       ]
      },
      {
       "output_type": "stream",
       "stream": "stdout",
       "text": [
        "\n",
        "Warning, no texture found\n",
        "(there are no texture coordinates anyway so this is expected)\n",
        "no landmarks found\n",
        "Building new face with no texture, yet you supplied texture_coords or a texture_tri_index (these will be ignored)"
       ]
      },
      {
       "output_type": "stream",
       "stream": "stdout",
       "text": [
        "\n",
        "importing without cleanup\n",
        "/home/jab08/Dropbox/testData/medicaldata/120116112055jr.jpg"
       ]
      },
      {
       "output_type": "stream",
       "stream": "stdout",
       "text": [
        "\n",
        "Warning, no texture found\n",
        "(there are no texture coordinates anyway so this is expected)\n",
        "no landmarks found\n",
        "Building new face with no texture, yet you supplied texture_coords or a texture_tri_index (these will be ignored)"
       ]
      },
      {
       "output_type": "stream",
       "stream": "stdout",
       "text": [
        "\n",
        "importing without cleanup"
       ]
      },
      {
       "output_type": "stream",
       "stream": "stdout",
       "text": [
        "\n",
        "/home/jab08/Dropbox/testData/medicaldata/110611085840JS.jpg"
       ]
      },
      {
       "output_type": "stream",
       "stream": "stdout",
       "text": [
        "\n",
        "Warning, no texture found\n",
        "(there are no texture coordinates anyway so this is expected)\n",
        "no landmarks found\n",
        "Building new face with no texture, yet you supplied texture_coords or a texture_tri_index (these will be ignored)"
       ]
      },
      {
       "output_type": "stream",
       "stream": "stdout",
       "text": [
        "\n",
        "importing without cleanup\n",
        "/home/jab08/Dropbox/testData/medicaldata/110518130617AR.jpg"
       ]
      },
      {
       "output_type": "stream",
       "stream": "stdout",
       "text": [
        "\n",
        "Warning, no texture found\n",
        "(there are no texture coordinates anyway so this is expected)\n",
        "no landmarks found\n",
        "Building new face with no texture, yet you supplied texture_coords or a texture_tri_index (these will be ignored)"
       ]
      },
      {
       "output_type": "stream",
       "stream": "stdout",
       "text": [
        "\n",
        "importing without cleanup"
       ]
      },
      {
       "output_type": "stream",
       "stream": "stdout",
       "text": [
        "\n",
        "/home/jab08/Dropbox/testData/medicaldata/110611175040JM.jpg"
       ]
      },
      {
       "output_type": "stream",
       "stream": "stdout",
       "text": [
        "\n",
        "Warning, no texture found\n",
        "(there are no texture coordinates anyway so this is expected)\n",
        "no landmarks found\n",
        "Building new face with no texture, yet you supplied texture_coords or a texture_tri_index (these will be ignored)"
       ]
      },
      {
       "output_type": "stream",
       "stream": "stdout",
       "text": [
        "\n",
        "importing without cleanup\n",
        "/home/jab08/Dropbox/testData/medicaldata/110712161833HH.jpg"
       ]
      },
      {
       "output_type": "stream",
       "stream": "stdout",
       "text": [
        "\n",
        "Warning, no texture found\n",
        "(there are no texture coordinates anyway so this is expected)\n",
        "no landmarks found\n",
        "Building new face with no texture, yet you supplied texture_coords or a texture_tri_index (these will be ignored)"
       ]
      },
      {
       "output_type": "stream",
       "stream": "stdout",
       "text": [
        "\n",
        "importing without cleanup\n",
        "/home/jab08/Dropbox/testData/medicaldata/110611175425MMK.jpg"
       ]
      },
      {
       "output_type": "stream",
       "stream": "stdout",
       "text": [
        "\n",
        "Warning, no texture found\n",
        "(there are no texture coordinates anyway so this is expected)\n",
        "no landmarks found\n",
        "Building new face with no texture, yet you supplied texture_coords or a texture_tri_index (these will be ignored)"
       ]
      },
      {
       "output_type": "stream",
       "stream": "stdout",
       "text": [
        "\n",
        "importing without cleanup\n",
        "/home/jab08/Dropbox/testData/medicaldata/110712160709POOK.jpg"
       ]
      },
      {
       "output_type": "stream",
       "stream": "stdout",
       "text": [
        "\n",
        "Warning, no texture found\n",
        "(there are no texture coordinates anyway so this is expected)\n",
        "no landmarks found\n",
        "Building new face with no texture, yet you supplied texture_coords or a texture_tri_index (these will be ignored)"
       ]
      },
      {
       "output_type": "stream",
       "stream": "stdout",
       "text": [
        "\n",
        "importing without cleanup\n",
        "/home/jab08/Dropbox/testData/medicaldata/111101154803ZC.jpg"
       ]
      },
      {
       "output_type": "stream",
       "stream": "stdout",
       "text": [
        "\n",
        "Warning, no texture found\n",
        "(there are no texture coordinates anyway so this is expected)\n",
        "no landmarks found\n",
        "Building new face with no texture, yet you supplied texture_coords or a texture_tri_index (these will be ignored)"
       ]
      },
      {
       "output_type": "stream",
       "stream": "stdout",
       "text": [
        "\n",
        "importing without cleanup\n",
        "/home/jab08/Dropbox/testData/medicaldata/111101154932NR.jpg"
       ]
      },
      {
       "output_type": "stream",
       "stream": "stdout",
       "text": [
        "\n",
        "Warning, no texture found\n",
        "(there are no texture coordinates anyway so this is expected)\n",
        "no landmarks found\n",
        "Building new face with no texture, yet you supplied texture_coords or a texture_tri_index (these will be ignored)"
       ]
      },
      {
       "output_type": "stream",
       "stream": "stdout",
       "text": [
        "\n",
        "importing without cleanup"
       ]
      },
      {
       "output_type": "stream",
       "stream": "stdout",
       "text": [
        "\n",
        "/home/jab08/Dropbox/testData/medicaldata/110725161028jb.jpg"
       ]
      },
      {
       "output_type": "stream",
       "stream": "stdout",
       "text": [
        "\n",
        "Warning, no texture found\n",
        "(there are no texture coordinates anyway so this is expected)\n",
        "no landmarks found\n",
        "Building new face with no texture, yet you supplied texture_coords or a texture_tri_index (these will be ignored)"
       ]
      },
      {
       "output_type": "stream",
       "stream": "stdout",
       "text": [
        "\n",
        "importing without cleanup"
       ]
      },
      {
       "output_type": "stream",
       "stream": "stdout",
       "text": [
        "\n",
        "/home/jab08/Dropbox/testData/medicaldata/110707104859JC.jpg"
       ]
      },
      {
       "output_type": "stream",
       "stream": "stdout",
       "text": [
        "\n",
        "Warning, no texture found\n",
        "(there are no texture coordinates anyway so this is expected)\n",
        "no landmarks found\n",
        "Building new face with no texture, yet you supplied texture_coords or a texture_tri_index (these will be ignored)"
       ]
      },
      {
       "output_type": "stream",
       "stream": "stdout",
       "text": [
        "\n",
        "importing without cleanup"
       ]
      },
      {
       "output_type": "stream",
       "stream": "stdout",
       "text": [
        "\n",
        "/home/jab08/Dropbox/testData/medicaldata/110611165537ME.jpg"
       ]
      },
      {
       "output_type": "stream",
       "stream": "stdout",
       "text": [
        "\n",
        "Warning, no texture found\n",
        "(there are no texture coordinates anyway so this is expected)\n",
        "no landmarks found\n",
        "Building new face with no texture, yet you supplied texture_coords or a texture_tri_index (these will be ignored)"
       ]
      },
      {
       "output_type": "stream",
       "stream": "stdout",
       "text": [
        "\n",
        "importing without cleanup"
       ]
      },
      {
       "output_type": "stream",
       "stream": "stdout",
       "text": [
        "\n",
        "/home/jab08/Dropbox/testData/medicaldata/111101164525KB.jpg"
       ]
      },
      {
       "output_type": "stream",
       "stream": "stdout",
       "text": [
        "\n",
        "Warning, no texture found\n",
        "(there are no texture coordinates anyway so this is expected)\n",
        "no landmarks found\n",
        "Building new face with no texture, yet you supplied texture_coords or a texture_tri_index (these will be ignored)"
       ]
      },
      {
       "output_type": "stream",
       "stream": "stdout",
       "text": [
        "\n",
        "importing without cleanup\n",
        "/home/jab08/Dropbox/testData/medicaldata/110518130831KG.jpg"
       ]
      },
      {
       "output_type": "stream",
       "stream": "stdout",
       "text": [
        "\n",
        "Warning, no texture found\n",
        "(there are no texture coordinates anyway so this is expected)\n",
        "no landmarks found\n",
        "Building new face with no texture, yet you supplied texture_coords or a texture_tri_index (these will be ignored)"
       ]
      },
      {
       "output_type": "stream",
       "stream": "stdout",
       "text": [
        "\n",
        "importing without cleanup\n",
        "/home/jab08/Dropbox/testData/medicaldata/110518130936MC.jpg"
       ]
      },
      {
       "output_type": "stream",
       "stream": "stdout",
       "text": [
        "\n",
        "Warning, no texture found\n",
        "(there are no texture coordinates anyway so this is expected)\n",
        "no landmarks found\n",
        "Building new face with no texture, yet you supplied texture_coords or a texture_tri_index (these will be ignored)"
       ]
      },
      {
       "output_type": "stream",
       "stream": "stdout",
       "text": [
        "\n",
        "importing without cleanup\n",
        "/home/jab08/Dropbox/testData/medicaldata/111101165004MONTUE.jpg"
       ]
      },
      {
       "output_type": "stream",
       "stream": "stdout",
       "text": [
        "\n",
        "Warning, no texture found\n",
        "(there are no texture coordinates anyway so this is expected)\n",
        "no landmarks found\n",
        "Building new face with no texture, yet you supplied texture_coords or a texture_tri_index (these will be ignored)"
       ]
      },
      {
       "output_type": "stream",
       "stream": "stdout",
       "text": [
        "\n",
        "importing without cleanup"
       ]
      },
      {
       "output_type": "stream",
       "stream": "stdout",
       "text": [
        "\n",
        "/home/jab08/Dropbox/testData/medicaldata/110611173835MB.jpg"
       ]
      },
      {
       "output_type": "stream",
       "stream": "stdout",
       "text": [
        "\n",
        "Warning, no texture found\n",
        "(there are no texture coordinates anyway so this is expected)\n",
        "no landmarks found\n",
        "Building new face with no texture, yet you supplied texture_coords or a texture_tri_index (these will be ignored)"
       ]
      },
      {
       "output_type": "stream",
       "stream": "stdout",
       "text": [
        "\n",
        "importing without cleanup\n",
        "/home/jab08/Dropbox/testData/medicaldata/110712153939MM.jpg"
       ]
      },
      {
       "output_type": "stream",
       "stream": "stdout",
       "text": [
        "\n",
        "Warning, no texture found\n",
        "(there are no texture coordinates anyway so this is expected)\n",
        "no landmarks found\n",
        "Building new face with no texture, yet you supplied texture_coords or a texture_tri_index (these will be ignored)"
       ]
      },
      {
       "output_type": "stream",
       "stream": "stdout",
       "text": [
        "\n",
        "importing without cleanup\n",
        "/home/jab08/Dropbox/testData/medicaldata/110611172944PN.jpg"
       ]
      },
      {
       "output_type": "stream",
       "stream": "stdout",
       "text": [
        "\n",
        "Warning, no texture found\n",
        "(there are no texture coordinates anyway so this is expected)\n",
        "no landmarks found\n",
        "Building new face with no texture, yet you supplied texture_coords or a texture_tri_index (these will be ignored)"
       ]
      },
      {
       "output_type": "stream",
       "stream": "stdout",
       "text": [
        "\n",
        "importing without cleanup"
       ]
      },
      {
       "output_type": "stream",
       "stream": "stdout",
       "text": [
        "\n",
        "/home/jab08/Dropbox/testData/medicaldata/110518125736SP.jpg"
       ]
      },
      {
       "output_type": "stream",
       "stream": "stdout",
       "text": [
        "\n",
        "Warning, no texture found\n",
        "(there are no texture coordinates anyway so this is expected)\n",
        "no landmarks found\n",
        "Building new face with no texture, yet you supplied texture_coords or a texture_tri_index (these will be ignored)"
       ]
      },
      {
       "output_type": "stream",
       "stream": "stdout",
       "text": [
        "\n",
        "importing without cleanup\n",
        "/home/jab08/Dropbox/testData/medicaldata/110518130104MH.jpg"
       ]
      },
      {
       "output_type": "stream",
       "stream": "stdout",
       "text": [
        "\n",
        "Warning, no texture found\n",
        "(there are no texture coordinates anyway so this is expected)\n",
        "no landmarks found\n",
        "Building new face with no texture, yet you supplied texture_coords or a texture_tri_index (these will be ignored)"
       ]
      },
      {
       "output_type": "stream",
       "stream": "stdout",
       "text": [
        "\n",
        "importing without cleanup\n",
        "/home/jab08/Dropbox/testData/medicaldata/110611155939SK.jpg"
       ]
      },
      {
       "output_type": "stream",
       "stream": "stdout",
       "text": [
        "\n",
        "Warning, no texture found\n",
        "(there are no texture coordinates anyway so this is expected)\n",
        "no landmarks found\n",
        "Building new face with no texture, yet you supplied texture_coords or a texture_tri_index (these will be ignored)"
       ]
      },
      {
       "output_type": "stream",
       "stream": "stdout",
       "text": [
        "\n",
        "importing without cleanup"
       ]
      },
      {
       "output_type": "stream",
       "stream": "stdout",
       "text": [
        "\n",
        "/home/jab08/Dropbox/testData/medicaldata/110518130241SS.jpg"
       ]
      },
      {
       "output_type": "stream",
       "stream": "stdout",
       "text": [
        "\n",
        "Warning, no texture found\n",
        "(there are no texture coordinates anyway so this is expected)\n",
        "no landmarks found\n",
        "Building new face with no texture, yet you supplied texture_coords or a texture_tri_index (these will be ignored)"
       ]
      },
      {
       "output_type": "stream",
       "stream": "stdout",
       "text": [
        "\n",
        "importing without cleanup\n",
        "/home/jab08/Dropbox/testData/medicaldata/110526113335RDF.jpg"
       ]
      },
      {
       "output_type": "stream",
       "stream": "stdout",
       "text": [
        "\n",
        "Warning, no texture found\n",
        "(there are no texture coordinates anyway so this is expected)\n",
        "no landmarks found\n",
        "Building new face with no texture, yet you supplied texture_coords or a texture_tri_index (these will be ignored)"
       ]
      },
      {
       "output_type": "stream",
       "stream": "stdout",
       "text": [
        "\n",
        "importing without cleanup"
       ]
      },
      {
       "output_type": "stream",
       "stream": "stdout",
       "text": [
        "\n",
        "/home/jab08/Dropbox/testData/medicaldata/110611174702KV.jpg"
       ]
      },
      {
       "output_type": "stream",
       "stream": "stdout",
       "text": [
        "\n",
        "Warning, no texture found\n",
        "(there are no texture coordinates anyway so this is expected)\n",
        "no landmarks found\n",
        "Building new face with no texture, yet you supplied texture_coords or a texture_tri_index (these will be ignored)"
       ]
      },
      {
       "output_type": "stream",
       "stream": "stdout",
       "text": [
        "\n",
        "importing without cleanup\n",
        "/home/jab08/Dropbox/testData/medicaldata/110707111549MS.jpg"
       ]
      },
      {
       "output_type": "stream",
       "stream": "stdout",
       "text": [
        "\n",
        "Warning, no texture found\n",
        "(there are no texture coordinates anyway so this is expected)\n",
        "no landmarks found\n",
        "Building new face with no texture, yet you supplied texture_coords or a texture_tri_index (these will be ignored)"
       ]
      },
      {
       "output_type": "stream",
       "stream": "stdout",
       "text": [
        "\n",
        "importing without cleanup\n",
        "/home/jab08/Dropbox/testData/medicaldata/110715135757MR.jpg"
       ]
      },
      {
       "output_type": "stream",
       "stream": "stdout",
       "text": [
        "\n",
        "Warning, no texture found\n",
        "(there are no texture coordinates anyway so this is expected)\n",
        "no landmarks found\n",
        "Building new face with no texture, yet you supplied texture_coords or a texture_tri_index (these will be ignored)"
       ]
      },
      {
       "output_type": "stream",
       "stream": "stdout",
       "text": [
        "\n",
        "importing without cleanup\n",
        "/home/jab08/Dropbox/testData/medicaldata/111013123441OS.jpg"
       ]
      },
      {
       "output_type": "stream",
       "stream": "stdout",
       "text": [
        "\n",
        "Warning, no texture found\n",
        "(there are no texture coordinates anyway so this is expected)\n",
        "no landmarks found\n",
        "Building new face with no texture, yet you supplied texture_coords or a texture_tri_index (these will be ignored)"
       ]
      },
      {
       "output_type": "stream",
       "stream": "stdout",
       "text": [
        "\n"
       ]
      }
     ],
     "prompt_number": 10
    },
    {
     "cell_type": "markdown",
     "metadata": {},
     "source": [
      "*Generate obj files from the stl ones using meshlabserver*"
     ]
    },
    {
     "cell_type": "code",
     "collapsed": false,
     "input": [
      "#for filename in med_stls:\n",
      "#    stl_path = os.path.join(medical_dir, filename)\n",
      "#    process_with_meshlabserver(stl_path, output_dir=medical_dir, output_filetype='obj')"
     ],
     "language": "python",
     "metadata": {},
     "outputs": [],
     "prompt_number": 96
    },
    {
     "cell_type": "code",
     "collapsed": false,
     "input": [
      "%qtconsole"
     ],
     "language": "python",
     "metadata": {},
     "outputs": [],
     "prompt_number": 10
    },
    {
     "cell_type": "code",
     "collapsed": false,
     "input": [
      "faces"
     ],
     "language": "python",
     "metadata": {},
     "outputs": [
      {
       "output_type": "pyout",
       "prompt_number": 12,
       "text": [
        "[<ibugMM.mesh.face.Face at 0x82b07d0>,\n",
        " <ibugMM.mesh.face.Face at 0x7a053c0>,\n",
        " <ibugMM.mesh.face.Face at 0x8dcbc30>,\n",
        " <ibugMM.mesh.face.Face at 0xef34e10>,\n",
        " <ibugMM.mesh.face.Face at 0xebc5870>,\n",
        " <ibugMM.mesh.face.Face at 0x121160a0>,\n",
        " <ibugMM.mesh.face.Face at 0xaf9e2d0>,\n",
        " <ibugMM.mesh.face.Face at 0x8155190>,\n",
        " <ibugMM.mesh.face.Face at 0xfe311e0>,\n",
        " <ibugMM.mesh.face.Face at 0xfa2ab90>,\n",
        " <ibugMM.mesh.face.Face at 0x1151f0a0>,\n",
        " <ibugMM.mesh.face.Face at 0x82b0820>,\n",
        " <ibugMM.mesh.face.Face at 0x114e40f0>,\n",
        " <ibugMM.mesh.face.Face at 0x11b412d0>,\n",
        " <ibugMM.mesh.face.Face at 0x11f5d5f0>,\n",
        " <ibugMM.mesh.face.Face at 0xe86fe60>,\n",
        " <ibugMM.mesh.face.Face at 0xfcf29b0>,\n",
        " <ibugMM.mesh.face.Face at 0xf37b410>,\n",
        " <ibugMM.mesh.face.Face at 0xef34eb0>,\n",
        " <ibugMM.mesh.face.Face at 0xdd03b40>,\n",
        " <ibugMM.mesh.face.Face at 0x11f5d550>,\n",
        " <ibugMM.mesh.face.Face at 0xe8fd280>,\n",
        " <ibugMM.mesh.face.Face at 0xe5694b0>,\n",
        " <ibugMM.mesh.face.Face at 0x12df36e0>,\n",
        " <ibugMM.mesh.face.Face at 0x9cd64b0>,\n",
        " <ibugMM.mesh.face.Face at 0x11735370>,\n",
        " <ibugMM.mesh.face.Face at 0x15a16050>,\n",
        " <ibugMM.mesh.face.Face at 0xbb20d70>,\n",
        " <ibugMM.mesh.face.Face at 0x831bb90>,\n",
        " <ibugMM.mesh.face.Face at 0x14d255a0>,\n",
        " <ibugMM.mesh.face.Face at 0xd7ab4b0>,\n",
        " <ibugMM.mesh.face.Face at 0x118b4e10>,\n",
        " <ibugMM.mesh.face.Face at 0xfa76e10>,\n",
        " <ibugMM.mesh.face.Face at 0xd7545f0>,\n",
        " <ibugMM.mesh.face.Face at 0x842f0f0>,\n",
        " <ibugMM.mesh.face.Face at 0x158e75a0>,\n",
        " <ibugMM.mesh.face.Face at 0xf8ee320>,\n",
        " <ibugMM.mesh.face.Face at 0x1196c370>,\n",
        " <ibugMM.mesh.face.Face at 0xd754230>,\n",
        " <ibugMM.mesh.face.Face at 0xd7540f0>,\n",
        " <ibugMM.mesh.face.Face at 0xd754140>,\n",
        " <ibugMM.mesh.face.Face at 0xe5a3410>,\n",
        " <ibugMM.mesh.face.Face at 0xd754190>,\n",
        " <ibugMM.mesh.face.Face at 0x1548aa50>,\n",
        " <ibugMM.mesh.face.Face at 0x14f5a870>,\n",
        " <ibugMM.mesh.face.Face at 0xd7542d0>,\n",
        " <ibugMM.mesh.face.Face at 0x118b4500>,\n",
        " <ibugMM.mesh.face.Face at 0x118b4460>,\n",
        " <ibugMM.mesh.face.Face at 0x118b45a0>,\n",
        " <ibugMM.mesh.face.Face at 0x118b44b0>,\n",
        " <ibugMM.mesh.face.Face at 0xef3c5a0>,\n",
        " <ibugMM.mesh.face.Face at 0x9c9a1e0>,\n",
        " <ibugMM.mesh.face.Face at 0xfa2aa00>,\n",
        " <ibugMM.mesh.face.Face at 0xfa2a8c0>,\n",
        " <ibugMM.mesh.face.Face at 0xfa2aaa0>,\n",
        " <ibugMM.mesh.face.Face at 0xfa2a9b0>,\n",
        " <ibugMM.mesh.face.Face at 0xfe3a960>,\n",
        " <ibugMM.mesh.face.Face at 0xfa2a960>,\n",
        " <ibugMM.mesh.face.Face at 0x9d0ef50>,\n",
        " <ibugMM.mesh.face.Face at 0xbb1d2d0>,\n",
        " <ibugMM.mesh.face.Face at 0xd7cde10>,\n",
        " <ibugMM.mesh.face.Face at 0x1766b550>,\n",
        " <ibugMM.mesh.face.Face at 0xfd11690>,\n",
        " <ibugMM.mesh.face.Face at 0x10b96820>,\n",
        " <ibugMM.mesh.face.Face at 0x86224b0>,\n",
        " <ibugMM.mesh.face.Face at 0xfa2a910>,\n",
        " <ibugMM.mesh.face.Face at 0x14140c30>,\n",
        " <ibugMM.mesh.face.Face at 0x8db0be0>,\n",
        " <ibugMM.mesh.face.Face at 0x997c050>,\n",
        " <ibugMM.mesh.face.Face at 0xed3fd20>,\n",
        " <ibugMM.mesh.face.Face at 0x9d0ec80>,\n",
        " <ibugMM.mesh.face.Face at 0x9cd66e0>,\n",
        " <ibugMM.mesh.face.Face at 0x9cd6690>]"
       ]
      }
     ],
     "prompt_number": 12
    },
    {
     "cell_type": "code",
     "collapsed": false,
     "input": [],
     "language": "python",
     "metadata": {},
     "outputs": [
      {
       "output_type": "pyout",
       "prompt_number": 19,
       "text": [
        "<ibugMM.mesh.face.Face at 0x9cd6690>"
       ]
      }
     ],
     "prompt_number": 19
    },
    {
     "cell_type": "code",
     "collapsed": false,
     "input": [],
     "language": "python",
     "metadata": {},
     "outputs": []
    }
   ],
   "metadata": {}
  }
 ]
}