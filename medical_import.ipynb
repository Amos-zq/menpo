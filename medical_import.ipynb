{
 "metadata": {
  "name": "medical_import"
 },
 "nbformat": 3,
 "nbformat_minor": 0,
 "worksheets": [
  {
   "cells": [
    {
     "cell_type": "markdown",
     "metadata": {},
     "source": [
      "**Great Ormand Street data importer**"
     ]
    },
    {
     "cell_type": "code",
     "collapsed": false,
     "input": [
      "import os\n",
      "from ibugMM.importer.model import import_face\n",
      "from ibugMM.importer.model import process_with_meshlabserver\n",
      "from ibugMM.importer.metadata import medical_landmarks\n",
      "import re\n",
      "from ibugMM.alignment.rigid import Procrustes"
     ],
     "language": "python",
     "metadata": {},
     "outputs": [],
     "prompt_number": 1
    },
    {
     "cell_type": "code",
     "collapsed": false,
     "input": [
      "medical_dir = '/home/jab08/Dropbox/testData/medicaldata/'"
     ],
     "language": "python",
     "metadata": {},
     "outputs": [],
     "prompt_number": 2
    },
    {
     "cell_type": "code",
     "collapsed": false,
     "input": [
      "all_files = os.listdir(medical_dir)\n",
      "med_stls = [f for f in all_files if f.lower().endswith('.stl')]\n",
      "med_lms = [f for f in all_files if f.lower().endswith('.lan')]\n",
      "print 'found ' + `len(med_stls)` + ' medical .stl files'\n",
      "print 'found ' + `len(med_lms)` + ' medical .lan files'"
     ],
     "language": "python",
     "metadata": {},
     "outputs": [
      {
       "output_type": "stream",
       "stream": "stdout",
       "text": [
        "found 95 medical .stl files\n",
        "found 96 medical .lan files\n"
       ]
      }
     ],
     "prompt_number": 3
    },
    {
     "cell_type": "markdown",
     "metadata": {},
     "source": [
      "*Find the unique identifiers on the lm's and on the stl files*"
     ]
    },
    {
     "cell_type": "code",
     "collapsed": false,
     "input": [
      "lm_names = [f.split('.')[0].lower() for f in med_lms]\n",
      "lm_names_tuple = [(f.split('.')[0].lower(), f) for f in med_lms]\n",
      "unique_lm_names = set(lm_names)\n",
      "print `len(lm_names)` + ' lm names found'\n",
      "print `len(unique_lm_names)` + ' of which are unique'"
     ],
     "language": "python",
     "metadata": {},
     "outputs": [
      {
       "output_type": "stream",
       "stream": "stdout",
       "text": [
        "96 lm names found\n",
        "90 of which are unique\n"
       ]
      }
     ],
     "prompt_number": 4
    },
    {
     "cell_type": "code",
     "collapsed": false,
     "input": [
      "# find any letters optionally followed by letters before the \n",
      "# file extension\n",
      "prog = re.compile(r'([a-z]+\\d*)[.]', re.IGNORECASE)\n",
      "stl_names = [prog.findall(f)[0].lower() for f in med_stls]\n",
      "stl_names_tuple = [(prog.findall(f)[0].lower(), f) for f in med_stls]\n",
      "unique_stl_names = set(stl_names)\n",
      "print `len(stl_names)` + ' stl names found'\n",
      "print `len(unique_stl_names)` + ' of which are unique'"
     ],
     "language": "python",
     "metadata": {},
     "outputs": [
      {
       "output_type": "stream",
       "stream": "stdout",
       "text": [
        "95 stl names found\n",
        "86 of which are unique\n"
       ]
      }
     ],
     "prompt_number": 5
    },
    {
     "cell_type": "markdown",
     "metadata": {},
     "source": [
      "*Find what lm and stl names are fully shared and build a list of tuples, each element* `(stl_filename, matching_lm_filename)`"
     ]
    },
    {
     "cell_type": "code",
     "collapsed": false,
     "input": [
      "faces_with_lms = unique_stl_names.intersection(unique_lm_names)\n",
      "stl_lookup = dict(stl_names_tuple)\n",
      "lm_lookup = dict(lm_names_tuple)\n",
      "paired_stl_lm = []\n",
      "for id_ in faces_with_lms:\n",
      "    paired_stl_lm.append((stl_lookup[id_], lm_lookup[id_]))"
     ],
     "language": "python",
     "metadata": {},
     "outputs": [],
     "prompt_number": 6
    },
    {
     "cell_type": "code",
     "collapsed": false,
     "input": [
      "faces = []\n",
      "lms = []\n",
      "for i in paired_stl_lm:\n",
      "    lm_path = os.path.join(medical_dir, i[1])\n",
      "    obj_filename = os.path.splitext(i[0])[0] + '.obj'\n",
      "    obj_path = os.path.join(medical_dir, obj_filename)\n",
      "    lms.append(medical_landmarks(lm_path))\n",
      "    #face = import_face(obj_path)\n",
      "    #face.lm = medical_landmarks(lm_path)\n",
      "    #faces.append(face)"
     ],
     "language": "python",
     "metadata": {},
     "outputs": [
      {
       "output_type": "stream",
       "stream": "stdout",
       "text": [
        "importing without cleanup\n",
        "/home/jab08/Dropbox/testData/medicaldata/110611173557CK.jpg"
       ]
      },
      {
       "output_type": "stream",
       "stream": "stdout",
       "text": [
        "\n",
        "Warning, no texture found\n",
        "(there are no texture coordinates anyway so this is expected)\n",
        "no landmarks found\n",
        "Building new face with no texture, yet you supplied texture_coords or a texture_tri_index (these will be ignored)"
       ]
      },
      {
       "output_type": "stream",
       "stream": "stdout",
       "text": [
        "\n",
        "importing without cleanup"
       ]
      },
      {
       "output_type": "stream",
       "stream": "stdout",
       "text": [
        "\n",
        "/home/jab08/Dropbox/testData/medicaldata/110611160437EO.jpg"
       ]
      },
      {
       "output_type": "stream",
       "stream": "stdout",
       "text": [
        "\n",
        "Warning, no texture found\n",
        "(there are no texture coordinates anyway so this is expected)\n",
        "no landmarks found\n",
        "Building new face with no texture, yet you supplied texture_coords or a texture_tri_index (these will be ignored)"
       ]
      },
      {
       "output_type": "stream",
       "stream": "stdout",
       "text": [
        "\n"
       ]
      }
     ],
     "prompt_number": 22
    },
    {
     "cell_type": "markdown",
     "metadata": {},
     "source": [
      "*Generate obj files from the stl ones using meshlabserver*"
     ]
    },
    {
     "cell_type": "code",
     "collapsed": false,
     "input": [
      "face.view_location_of_vertices(face.lm)"
     ],
     "language": "python",
     "metadata": {},
     "outputs": [],
     "prompt_number": 53
    },
    {
     "cell_type": "code",
     "collapsed": false,
     "input": [
      "proc = Procrustes(lms)\n",
      "proc.general_alignment()"
     ],
     "language": "python",
     "metadata": {},
     "outputs": [
      {
       "output_type": "stream",
       "stream": "stdout",
       "text": [
        "taking Procrustes step\n",
        "error is 82.578509858756902\n",
        "taking Procrustes step\n",
        "error is 258.94525145833757\n",
        "taking Procrustes step\n",
        "error is 1095.474757763237\n",
        "taking Procrustes step\n",
        "error is 5878.5232412573487\n",
        "taking Procrustes step\n",
        "error is 22747.457062681897\n",
        "taking Procrustes step\n",
        "error is 27024.02740512235\n",
        "taking Procrustes step\n",
        "error is 10427.323359364116\n",
        "taking Procrustes step\n",
        "error is 1872.372315856056\n",
        "taking Procrustes step\n",
        "error is 140.58028557262622"
       ]
      },
      {
       "output_type": "stream",
       "stream": "stdout",
       "text": [
        "\n",
        "taking Procrustes step\n",
        "error is 40.057327054902586\n",
        "taking Procrustes step\n",
        "error is 34.5535824867057\n",
        "taking Procrustes step\n",
        "error is 15.640481935164518\n",
        "taking Procrustes step\n",
        "error is 3.3783915067699986\n",
        "taking Procrustes step\n",
        "error is 0.32717992305190319\n",
        "taking Procrustes step\n",
        "error is 0.020709874273597852\n",
        "taking Procrustes step\n",
        "error is 0.00095399131361022021\n",
        "taking Procrustes step\n",
        "error is 7.8459450220420964e-05\n"
       ]
      }
     ],
     "prompt_number": 8
    },
    {
     "cell_type": "code",
     "collapsed": false,
     "input": [
      "s1 = proc.sources[...,0]\n",
      "t = proc.target[...,0]"
     ],
     "language": "python",
     "metadata": {},
     "outputs": [],
     "prompt_number": 50
    },
    {
     "cell_type": "code",
     "collapsed": false,
     "input": [
      "ans = svd(np.dot(s1, t.T))"
     ],
     "language": "python",
     "metadata": {},
     "outputs": [],
     "prompt_number": 41
    },
    {
     "cell_type": "code",
     "collapsed": false,
     "input": [
      "scatter(proc.sources[:,2,0].flatten(), proc.sources[:,1,0].flatten())"
     ],
     "language": "python",
     "metadata": {},
     "outputs": [
      {
       "output_type": "pyout",
       "prompt_number": 16,
       "text": [
        "<matplotlib.collections.PathCollection at 0x8e9a810>"
       ]
      }
     ],
     "prompt_number": 16
    },
    {
     "cell_type": "code",
     "collapsed": false,
     "input": [
      "scatter(lms[0][:,0], lms[0][:,1])"
     ],
     "language": "python",
     "metadata": {},
     "outputs": [
      {
       "output_type": "pyout",
       "prompt_number": 21,
       "text": [
        "<matplotlib.collections.PathCollection at 0x94ef0d0>"
       ]
      }
     ],
     "prompt_number": 21
    },
    {
     "cell_type": "code",
     "collapsed": false,
     "input": [
      "lms[0].shape"
     ],
     "language": "python",
     "metadata": {},
     "outputs": [
      {
       "output_type": "pyout",
       "prompt_number": 20,
       "text": [
        "(50, 3)"
       ]
      }
     ],
     "prompt_number": 20
    },
    {
     "cell_type": "code",
     "collapsed": false,
     "input": [
      "\n",
      "#    stl_path = os.path.join(medical_dir, filename)\n",
      "#    process_with_meshlabserver(stl_path, output_dir=medical_dir, output_filetype='obj')"
     ],
     "language": "python",
     "metadata": {},
     "outputs": [],
     "prompt_number": 96
    },
    {
     "cell_type": "code",
     "collapsed": false,
     "input": [
      "faces[0].view_location_of_vertices(faces[0].lm[32][np.newaxis,:])"
     ],
     "language": "python",
     "metadata": {},
     "outputs": [],
     "prompt_number": 45
    },
    {
     "cell_type": "code",
     "collapsed": false,
     "input": [
      "faces[0].lm[16][np.newaxis,:].shape"
     ],
     "language": "python",
     "metadata": {},
     "outputs": [
      {
       "output_type": "pyout",
       "prompt_number": 43,
       "text": [
        "(1, 3)"
       ]
      }
     ],
     "prompt_number": 43
    },
    {
     "cell_type": "code",
     "collapsed": false,
     "input": [
      "face.lm.shape"
     ],
     "language": "python",
     "metadata": {},
     "outputs": [
      {
       "output_type": "pyout",
       "prompt_number": 33,
       "text": [
        "(50, 3)"
       ]
      }
     ],
     "prompt_number": 33
    },
    {
     "cell_type": "markdown",
     "metadata": {},
     "source": [
      "We need to define a few special landmarks for us to be able to figure out what direction\n",
      "the faces is orientated in. For these medical landmarks we have:\n",
      "\n",
      "* $l_{16}$ - Centre of forehead\n",
      "* $l_{28}$ - Centre of lower chin\n",
      "* $l_{31}$ - Centre of bottom lip\n",
      "* $l_{32}$ - bottom of right ear\n",
      "* $l_{34}$ - bottom of left ear\n",
      "\n",
      "The approach we take is as follows:\n",
      "\n",
      "1. Generate a vector for the vetical alignment $v_{up} = l_{16} - l_{28}$\n",
      "2. Generate a landmark at the midpoint in the back of the head $l_{back} = (l_{32} + l_{34})/2$\n",
      "3. Generate a vector pointing towards the camera: $v_{front} = l_{31} - l_{back}$"
     ]
    },
    {
     "cell_type": "code",
     "collapsed": false,
     "input": [],
     "language": "python",
     "metadata": {},
     "outputs": []
    }
   ],
   "metadata": {}
  }
 ]
}