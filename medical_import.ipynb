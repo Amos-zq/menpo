{
 "metadata": {
  "name": "medical_import"
 },
 "nbformat": 3,
 "nbformat_minor": 0,
 "worksheets": [
  {
   "cells": [
    {
     "cell_type": "markdown",
     "metadata": {},
     "source": [
      "**Great Ormand Street data importer**"
     ]
    },
    {
     "cell_type": "code",
     "collapsed": false,
     "input": [
      "import os\n",
      "from ibugMM.importer.model import import_face\n",
      "from ibugMM.importer.model import process_with_meshlabserver\n",
      "from ibugMM.importer.metadata import medical_landmarks\n",
      "import re\n",
      "from ibugMM.alignment.rigid import Procrustes"
     ],
     "language": "python",
     "metadata": {},
     "outputs": [],
     "prompt_number": 1
    },
    {
     "cell_type": "code",
     "collapsed": false,
     "input": [
      "medical_dir = '/home/jab08/Dropbox/testData/medicaldata/'\n",
      "all_files = os.listdir(medical_dir)\n",
      "med_stls = [f for f in all_files if f.lower().endswith('.stl')]\n",
      "med_lms = [f for f in all_files if f.lower().endswith('.lan')]\n",
      "print 'found ' + `len(med_stls)` + ' medical .stl files'\n",
      "print 'found ' + `len(med_lms)` + ' medical .lan files'"
     ],
     "language": "python",
     "metadata": {},
     "outputs": [
      {
       "output_type": "stream",
       "stream": "stdout",
       "text": [
        "found 95 medical .stl files\n",
        "found 96 medical .lan files\n"
       ]
      }
     ],
     "prompt_number": 2
    },
    {
     "cell_type": "markdown",
     "metadata": {},
     "source": [
      "*Find the unique identifiers on the lm's and on the stl files*"
     ]
    },
    {
     "cell_type": "code",
     "collapsed": false,
     "input": [
      "lm_names = [f.split('.')[0].lower() for f in med_lms]\n",
      "lm_names_tuple = [(f.split('.')[0].lower(), f) for f in med_lms]\n",
      "unique_lm_names = set(lm_names)\n",
      "print `len(lm_names)` + ' lm names found'\n",
      "print `len(unique_lm_names)` + ' of which are unique'\n",
      "\n",
      "# npow for the stl landmarks...\n",
      "# find any letters optionally followed by letters before the \n",
      "# file extension\n",
      "prog = re.compile(r'([a-z]+\\d*)[.]', re.IGNORECASE)\n",
      "stl_names = [prog.findall(f)[0].lower() for f in med_stls]\n",
      "stl_names_tuple = [(prog.findall(f)[0].lower(), f) for f in med_stls]\n",
      "unique_stl_names = set(stl_names)\n",
      "print `len(stl_names)` + ' stl names found'\n",
      "print `len(unique_stl_names)` + ' of which are unique'"
     ],
     "language": "python",
     "metadata": {},
     "outputs": [
      {
       "output_type": "stream",
       "stream": "stdout",
       "text": [
        "96 lm names found\n",
        "90 of which are unique\n",
        "95 stl names found\n",
        "86 of which are unique\n"
       ]
      }
     ],
     "prompt_number": 3
    },
    {
     "cell_type": "markdown",
     "metadata": {},
     "source": [
      "*Find what lm and stl names are fully shared and build a list of tuples, each element* `(stl_filename, matching_lm_filename)`"
     ]
    },
    {
     "cell_type": "code",
     "collapsed": false,
     "input": [
      "faces_with_lms = unique_stl_names.intersection(unique_lm_names)\n",
      "stl_lookup = dict(stl_names_tuple)\n",
      "lm_lookup = dict(lm_names_tuple)\n",
      "paired_stl_lm = []\n",
      "for id_ in faces_with_lms:\n",
      "    paired_stl_lm.append((stl_lookup[id_], lm_lookup[id_]))\n",
      "\n",
      "# now we loop through building faces and attatching the landmarks on them\n",
      "faces = []\n",
      "lms = []\n",
      "for i in paired_stl_lm:\n",
      "    lm_path = os.path.join(medical_dir, i[1])\n",
      "    obj_filename = os.path.splitext(i[0])[0] + '.obj'\n",
      "    obj_path = os.path.join(medical_dir, obj_filename)\n",
      "    lms.append(medical_landmarks(lm_path))\n",
      "    #face = import_face(obj_path)\n",
      "    #face.lm = medical_landmarks(lm_path)\n",
      "    #faces.append(face)"
     ],
     "language": "python",
     "metadata": {},
     "outputs": [
      {
       "output_type": "stream",
       "stream": "stdout",
       "text": [
        "importing without cleanup\n",
        "/home/jab08/Dropbox/testData/medicaldata/110611173557CK.jpg"
       ]
      },
      {
       "output_type": "stream",
       "stream": "stdout",
       "text": [
        "\n",
        "Warning, no texture found\n",
        "(there are no texture coordinates anyway so this is expected)\n",
        "no landmarks found\n",
        "Building new face with no texture, yet you supplied texture_coords or a texture_tri_index (these will be ignored)"
       ]
      },
      {
       "output_type": "stream",
       "stream": "stdout",
       "text": [
        "\n",
        "importing without cleanup"
       ]
      },
      {
       "output_type": "stream",
       "stream": "stdout",
       "text": [
        "\n",
        "/home/jab08/Dropbox/testData/medicaldata/110611160437EO.jpg"
       ]
      },
      {
       "output_type": "stream",
       "stream": "stdout",
       "text": [
        "\n",
        "Warning, no texture found\n",
        "(there are no texture coordinates anyway so this is expected)\n",
        "no landmarks found\n",
        "Building new face with no texture, yet you supplied texture_coords or a texture_tri_index (these will be ignored)"
       ]
      },
      {
       "output_type": "stream",
       "stream": "stdout",
       "text": [
        "\n",
        "importing without cleanup\n",
        "/home/jab08/Dropbox/testData/medicaldata/110714112123GT.jpg"
       ]
      },
      {
       "output_type": "stream",
       "stream": "stdout",
       "text": [
        "\n",
        "Warning, no texture found\n",
        "(there are no texture coordinates anyway so this is expected)\n",
        "no landmarks found\n",
        "Building new face with no texture, yet you supplied texture_coords or a texture_tri_index (these will be ignored)"
       ]
      },
      {
       "output_type": "stream",
       "stream": "stdout",
       "text": [
        "\n",
        "importing without cleanup\n",
        "/home/jab08/Dropbox/testData/medicaldata/111101155434ZI.jpg"
       ]
      },
      {
       "output_type": "stream",
       "stream": "stdout",
       "text": [
        "\n",
        "Warning, no texture found\n",
        "(there are no texture coordinates anyway so this is expected)\n",
        "no landmarks found\n",
        "Building new face with no texture, yet you supplied texture_coords or a texture_tri_index (these will be ignored)"
       ]
      },
      {
       "output_type": "stream",
       "stream": "stdout",
       "text": [
        "\n",
        "importing without cleanup\n",
        "/home/jab08/Dropbox/testData/medicaldata/110611160101GP.jpg"
       ]
      },
      {
       "output_type": "stream",
       "stream": "stdout",
       "text": [
        "\n",
        "Warning, no texture found\n",
        "(there are no texture coordinates anyway so this is expected)\n",
        "no landmarks found\n",
        "Building new face with no texture, yet you supplied texture_coords or a texture_tri_index (these will be ignored)"
       ]
      },
      {
       "output_type": "stream",
       "stream": "stdout",
       "text": [
        "\n",
        "importing without cleanup\n",
        "/home/jab08/Dropbox/testData/medicaldata/110712163046CC.jpg"
       ]
      },
      {
       "output_type": "stream",
       "stream": "stdout",
       "text": [
        "\n",
        "Warning, no texture found\n",
        "(there are no texture coordinates anyway so this is expected)\n",
        "no landmarks found\n",
        "Building new face with no texture, yet you supplied texture_coords or a texture_tri_index (these will be ignored)"
       ]
      },
      {
       "output_type": "stream",
       "stream": "stdout",
       "text": [
        "\n",
        "importing without cleanup\n",
        "/home/jab08/Dropbox/testData/medicaldata/110611174027AH.jpg"
       ]
      },
      {
       "output_type": "stream",
       "stream": "stdout",
       "text": [
        "\n",
        "Warning, no texture found\n",
        "(there are no texture coordinates anyway so this is expected)\n",
        "no landmarks found\n",
        "Building new face with no texture, yet you supplied texture_coords or a texture_tri_index (these will be ignored)"
       ]
      },
      {
       "output_type": "stream",
       "stream": "stdout",
       "text": [
        "\n",
        "importing without cleanup\n",
        "/home/jab08/Dropbox/testData/medicaldata/111013124105ROB.jpg"
       ]
      },
      {
       "output_type": "stream",
       "stream": "stdout",
       "text": [
        "\n",
        "Warning, no texture found\n",
        "(there are no texture coordinates anyway so this is expected)\n",
        "no landmarks found\n",
        "Building new face with no texture, yet you supplied texture_coords or a texture_tri_index (these will be ignored)"
       ]
      },
      {
       "output_type": "stream",
       "stream": "stdout",
       "text": [
        "\n",
        "importing without cleanup\n",
        "/home/jab08/Dropbox/testData/medicaldata/110611174839IR.jpg"
       ]
      },
      {
       "output_type": "stream",
       "stream": "stdout",
       "text": [
        "\n",
        "Warning, no texture found\n",
        "(there are no texture coordinates anyway so this is expected)\n",
        "no landmarks found\n",
        "Building new face with no texture, yet you supplied texture_coords or a texture_tri_index (these will be ignored)"
       ]
      },
      {
       "output_type": "stream",
       "stream": "stdout",
       "text": [
        "\n",
        "importing without cleanup"
       ]
      },
      {
       "output_type": "stream",
       "stream": "stdout",
       "text": [
        "\n",
        "/home/jab08/Dropbox/testData/medicaldata/110714133710ac.jpg"
       ]
      },
      {
       "output_type": "stream",
       "stream": "stdout",
       "text": [
        "\n",
        "Warning, no texture found\n",
        "(there are no texture coordinates anyway so this is expected)\n",
        "no landmarks found\n",
        "Building new face with no texture, yet you supplied texture_coords or a texture_tri_index (these will be ignored)"
       ]
      },
      {
       "output_type": "stream",
       "stream": "stdout",
       "text": [
        "\n",
        "importing without cleanup\n",
        "/home/jab08/Dropbox/testData/medicaldata/110611174510SS3.jpg"
       ]
      },
      {
       "output_type": "stream",
       "stream": "stdout",
       "text": [
        "\n",
        "Warning, no texture found\n",
        "(there are no texture coordinates anyway so this is expected)\n",
        "no landmarks found\n",
        "Building new face with no texture, yet you supplied texture_coords or a texture_tri_index (these will be ignored)"
       ]
      },
      {
       "output_type": "stream",
       "stream": "stdout",
       "text": [
        "\n",
        "importing without cleanup\n",
        "/home/jab08/Dropbox/testData/medicaldata/110611171728SS2.jpg"
       ]
      },
      {
       "output_type": "stream",
       "stream": "stdout",
       "text": [
        "\n",
        "Warning, no texture found\n",
        "(there are no texture coordinates anyway so this is expected)\n",
        "no landmarks found\n",
        "Building new face with no texture, yet you supplied texture_coords or a texture_tri_index (these will be ignored)"
       ]
      },
      {
       "output_type": "stream",
       "stream": "stdout",
       "text": [
        "\n",
        "importing without cleanup\n",
        "/home/jab08/Dropbox/testData/medicaldata/110712160114AS.jpg"
       ]
      },
      {
       "output_type": "stream",
       "stream": "stdout",
       "text": [
        "\n",
        "Warning, no texture found\n",
        "(there are no texture coordinates anyway so this is expected)\n",
        "no landmarks found\n",
        "Building new face with no texture, yet you supplied texture_coords or a texture_tri_index (these will be ignored)"
       ]
      },
      {
       "output_type": "stream",
       "stream": "stdout",
       "text": [
        "\n",
        "importing without cleanup\n",
        "/home/jab08/Dropbox/testData/medicaldata/110707103755AB.jpg"
       ]
      },
      {
       "output_type": "stream",
       "stream": "stdout",
       "text": [
        "\n",
        "Warning, no texture found\n",
        "(there are no texture coordinates anyway so this is expected)\n",
        "no landmarks found\n",
        "Building new face with no texture, yet you supplied texture_coords or a texture_tri_index (these will be ignored)"
       ]
      },
      {
       "output_type": "stream",
       "stream": "stdout",
       "text": [
        "\n",
        "importing without cleanup\n",
        "/home/jab08/Dropbox/testData/medicaldata/110611162417JG.jpg"
       ]
      },
      {
       "output_type": "stream",
       "stream": "stdout",
       "text": [
        "\n",
        "Warning, no texture found\n",
        "(there are no texture coordinates anyway so this is expected)\n",
        "no landmarks found\n",
        "Building new face with no texture, yet you supplied texture_coords or a texture_tri_index (these will be ignored)"
       ]
      },
      {
       "output_type": "stream",
       "stream": "stdout",
       "text": [
        "\n",
        "importing without cleanup\n",
        "/home/jab08/Dropbox/testData/medicaldata/110712172440FN.jpg"
       ]
      },
      {
       "output_type": "stream",
       "stream": "stdout",
       "text": [
        "\n",
        "Warning, no texture found\n",
        "(there are no texture coordinates anyway so this is expected)\n",
        "no landmarks found\n",
        "Building new face with no texture, yet you supplied texture_coords or a texture_tri_index (these will be ignored)"
       ]
      },
      {
       "output_type": "stream",
       "stream": "stdout",
       "text": [
        "\n",
        "importing without cleanup\n",
        "/home/jab08/Dropbox/testData/medicaldata/110611174350GM.jpg"
       ]
      },
      {
       "output_type": "stream",
       "stream": "stdout",
       "text": [
        "\n",
        "Warning, no texture found\n",
        "(there are no texture coordinates anyway so this is expected)\n",
        "no landmarks found\n",
        "Building new face with no texture, yet you supplied texture_coords or a texture_tri_index (these will be ignored)"
       ]
      },
      {
       "output_type": "stream",
       "stream": "stdout",
       "text": [
        "\n",
        "importing without cleanup\n",
        "/home/jab08/Dropbox/testData/medicaldata/110712164226AW.jpg"
       ]
      },
      {
       "output_type": "stream",
       "stream": "stdout",
       "text": [
        "\n",
        "Warning, no texture found\n",
        "(there are no texture coordinates anyway so this is expected)\n",
        "no landmarks found\n",
        "Building new face with no texture, yet you supplied texture_coords or a texture_tri_index (these will be ignored)"
       ]
      },
      {
       "output_type": "stream",
       "stream": "stdout",
       "text": [
        "\n",
        "importing without cleanup\n",
        "/home/jab08/Dropbox/testData/medicaldata/110526110903EP.jpg"
       ]
      },
      {
       "output_type": "stream",
       "stream": "stdout",
       "text": [
        "\n",
        "Warning, no texture found\n",
        "(there are no texture coordinates anyway so this is expected)\n",
        "no landmarks found\n",
        "Building new face with no texture, yet you supplied texture_coords or a texture_tri_index (these will be ignored)"
       ]
      },
      {
       "output_type": "stream",
       "stream": "stdout",
       "text": [
        "\n",
        "importing without cleanup"
       ]
      },
      {
       "output_type": "stream",
       "stream": "stdout",
       "text": [
        "\n",
        "/home/jab08/Dropbox/testData/medicaldata/110707111301GR.jpg"
       ]
      },
      {
       "output_type": "stream",
       "stream": "stdout",
       "text": [
        "\n",
        "Warning, no texture found\n",
        "(there are no texture coordinates anyway so this is expected)\n",
        "no landmarks found\n",
        "Building new face with no texture, yet you supplied texture_coords or a texture_tri_index (these will be ignored)"
       ]
      },
      {
       "output_type": "stream",
       "stream": "stdout",
       "text": [
        "\n",
        "importing without cleanup\n",
        "/home/jab08/Dropbox/testData/medicaldata/110526105520SJ.jpg"
       ]
      },
      {
       "output_type": "stream",
       "stream": "stdout",
       "text": [
        "\n",
        "Warning, no texture found\n",
        "(there are no texture coordinates anyway so this is expected)\n",
        "no landmarks found\n",
        "Building new face with no texture, yet you supplied texture_coords or a texture_tri_index (these will be ignored)"
       ]
      },
      {
       "output_type": "stream",
       "stream": "stdout",
       "text": [
        "\n",
        "importing without cleanup\n",
        "/home/jab08/Dropbox/testData/medicaldata/111101155137RW.jpg"
       ]
      },
      {
       "output_type": "stream",
       "stream": "stdout",
       "text": [
        "\n",
        "Warning, no texture found\n",
        "(there are no texture coordinates anyway so this is expected)\n",
        "no landmarks found\n",
        "Building new face with no texture, yet you supplied texture_coords or a texture_tri_index (these will be ignored)"
       ]
      },
      {
       "output_type": "stream",
       "stream": "stdout",
       "text": [
        "\n",
        "importing without cleanup\n",
        "/home/jab08/Dropbox/testData/medicaldata/110611173255RP.jpg"
       ]
      },
      {
       "output_type": "stream",
       "stream": "stdout",
       "text": [
        "\n",
        "Warning, no texture found\n",
        "(there are no texture coordinates anyway so this is expected)\n",
        "no landmarks found\n",
        "Building new face with no texture, yet you supplied texture_coords or a texture_tri_index (these will be ignored)"
       ]
      },
      {
       "output_type": "stream",
       "stream": "stdout",
       "text": [
        "\n",
        "importing without cleanup\n",
        "/home/jab08/Dropbox/testData/medicaldata/110611165440RS.jpg"
       ]
      },
      {
       "output_type": "stream",
       "stream": "stdout",
       "text": [
        "\n",
        "Warning, no texture found\n",
        "(there are no texture coordinates anyway so this is expected)\n",
        "no landmarks found\n",
        "Building new face with no texture, yet you supplied texture_coords or a texture_tri_index (these will be ignored)"
       ]
      },
      {
       "output_type": "stream",
       "stream": "stdout",
       "text": [
        "\n",
        "importing without cleanup\n",
        "/home/jab08/Dropbox/testData/medicaldata/110707111120NB.jpg"
       ]
      },
      {
       "output_type": "stream",
       "stream": "stdout",
       "text": [
        "\n",
        "Warning, no texture found\n",
        "(there are no texture coordinates anyway so this is expected)\n",
        "no landmarks found\n",
        "Building new face with no texture, yet you supplied texture_coords or a texture_tri_index (these will be ignored)"
       ]
      },
      {
       "output_type": "stream",
       "stream": "stdout",
       "text": [
        "\n",
        "importing without cleanup\n",
        "/home/jab08/Dropbox/testData/medicaldata/110611175608TR.jpg"
       ]
      },
      {
       "output_type": "stream",
       "stream": "stdout",
       "text": [
        "\n",
        "Warning, no texture found\n",
        "(there are no texture coordinates anyway so this is expected)\n",
        "no landmarks found\n",
        "Building new face with no texture, yet you supplied texture_coords or a texture_tri_index (these will be ignored)"
       ]
      },
      {
       "output_type": "stream",
       "stream": "stdout",
       "text": [
        "\n",
        "importing without cleanup\n",
        "/home/jab08/Dropbox/testData/medicaldata/111020121449LK.jpg"
       ]
      },
      {
       "output_type": "stream",
       "stream": "stdout",
       "text": [
        "\n",
        "Warning, no texture found\n",
        "(there are no texture coordinates anyway so this is expected)\n",
        "no landmarks found\n",
        "Building new face with no texture, yet you supplied texture_coords or a texture_tri_index (these will be ignored)"
       ]
      },
      {
       "output_type": "stream",
       "stream": "stdout",
       "text": [
        "\n",
        "importing without cleanup\n",
        "/home/jab08/Dropbox/testData/medicaldata/110611160839LH.jpg"
       ]
      },
      {
       "output_type": "stream",
       "stream": "stdout",
       "text": [
        "\n",
        "Warning, no texture found\n",
        "(there are no texture coordinates anyway so this is expected)\n",
        "no landmarks found\n",
        "Building new face with no texture, yet you supplied texture_coords or a texture_tri_index (these will be ignored)"
       ]
      },
      {
       "output_type": "stream",
       "stream": "stdout",
       "text": [
        "\n",
        "importing without cleanup\n",
        "/home/jab08/Dropbox/testData/medicaldata/110714111046KH.jpg"
       ]
      },
      {
       "output_type": "stream",
       "stream": "stdout",
       "text": [
        "\n",
        "Warning, no texture found\n",
        "(there are no texture coordinates anyway so this is expected)\n",
        "no landmarks found\n",
        "Building new face with no texture, yet you supplied texture_coords or a texture_tri_index (these will be ignored)"
       ]
      },
      {
       "output_type": "stream",
       "stream": "stdout",
       "text": [
        "\n",
        "importing without cleanup"
       ]
      },
      {
       "output_type": "stream",
       "stream": "stdout",
       "text": [
        "\n",
        "/home/jab08/Dropbox/testData/medicaldata/110712154349LT.jpg"
       ]
      },
      {
       "output_type": "stream",
       "stream": "stdout",
       "text": [
        "\n",
        "Warning, no texture found\n",
        "(there are no texture coordinates anyway so this is expected)\n",
        "no landmarks found\n",
        "Building new face with no texture, yet you supplied texture_coords or a texture_tri_index (these will be ignored)"
       ]
      },
      {
       "output_type": "stream",
       "stream": "stdout",
       "text": [
        "\n",
        "importing without cleanup\n",
        "/home/jab08/Dropbox/testData/medicaldata/110712162125TM.jpg"
       ]
      },
      {
       "output_type": "stream",
       "stream": "stdout",
       "text": [
        "\n",
        "Warning, no texture found\n",
        "(there are no texture coordinates anyway so this is expected)\n",
        "no landmarks found\n",
        "Building new face with no texture, yet you supplied texture_coords or a texture_tri_index (these will be ignored)"
       ]
      },
      {
       "output_type": "stream",
       "stream": "stdout",
       "text": [
        "\n",
        "importing without cleanup\n",
        "/home/jab08/Dropbox/testData/medicaldata/111101164751LS.jpg"
       ]
      },
      {
       "output_type": "stream",
       "stream": "stdout",
       "text": [
        "\n",
        "Warning, no texture found\n",
        "(there are no texture coordinates anyway so this is expected)\n",
        "no landmarks found\n",
        "Building new face with no texture, yet you supplied texture_coords or a texture_tri_index (these will be ignored)"
       ]
      },
      {
       "output_type": "stream",
       "stream": "stdout",
       "text": [
        "\n",
        "importing without cleanup\n",
        "/home/jab08/Dropbox/testData/medicaldata/110611175224TH.jpg"
       ]
      },
      {
       "output_type": "stream",
       "stream": "stdout",
       "text": [
        "\n",
        "Warning, no texture found\n",
        "(there are no texture coordinates anyway so this is expected)\n",
        "no landmarks found\n",
        "Building new face with no texture, yet you supplied texture_coords or a texture_tri_index (these will be ignored)"
       ]
      },
      {
       "output_type": "stream",
       "stream": "stdout",
       "text": [
        "\n",
        "importing without cleanup\n",
        "/home/jab08/Dropbox/testData/medicaldata/110714125706NP.jpg"
       ]
      },
      {
       "output_type": "stream",
       "stream": "stdout",
       "text": [
        "\n",
        "Warning, no texture found\n",
        "(there are no texture coordinates anyway so this is expected)\n",
        "no landmarks found\n",
        "Building new face with no texture, yet you supplied texture_coords or a texture_tri_index (these will be ignored)"
       ]
      },
      {
       "output_type": "stream",
       "stream": "stdout",
       "text": [
        "\n",
        "importing without cleanup\n",
        "/home/jab08/Dropbox/testData/medicaldata/110707105343JCM.jpg"
       ]
      },
      {
       "output_type": "stream",
       "stream": "stdout",
       "text": [
        "\n",
        "Warning, no texture found\n",
        "(there are no texture coordinates anyway so this is expected)\n",
        "no landmarks found\n",
        "Building new face with no texture, yet you supplied texture_coords or a texture_tri_index (these will be ignored)"
       ]
      },
      {
       "output_type": "stream",
       "stream": "stdout",
       "text": [
        "\n",
        "importing without cleanup"
       ]
      },
      {
       "output_type": "stream",
       "stream": "stdout",
       "text": [
        "\n",
        "/home/jab08/Dropbox/testData/medicaldata/111101165155FADI.jpg"
       ]
      },
      {
       "output_type": "stream",
       "stream": "stdout",
       "text": [
        "\n",
        "Warning, no texture found\n",
        "(there are no texture coordinates anyway so this is expected)\n",
        "no landmarks found\n",
        "Building new face with no texture, yet you supplied texture_coords or a texture_tri_index (these will be ignored)"
       ]
      },
      {
       "output_type": "stream",
       "stream": "stdout",
       "text": [
        "\n",
        "importing without cleanup"
       ]
      },
      {
       "output_type": "stream",
       "stream": "stdout",
       "text": [
        "\n",
        "/home/jab08/Dropbox/testData/medicaldata/110712162604ER.jpg"
       ]
      },
      {
       "output_type": "stream",
       "stream": "stdout",
       "text": [
        "\n",
        "Warning, no texture found\n",
        "(there are no texture coordinates anyway so this is expected)\n",
        "no landmarks found\n",
        "Building new face with no texture, yet you supplied texture_coords or a texture_tri_index (these will be ignored)"
       ]
      },
      {
       "output_type": "stream",
       "stream": "stdout",
       "text": [
        "\n",
        "importing without cleanup\n",
        "/home/jab08/Dropbox/testData/medicaldata/110715130211tb.jpg"
       ]
      },
      {
       "output_type": "stream",
       "stream": "stdout",
       "text": [
        "\n",
        "Warning, no texture found\n",
        "(there are no texture coordinates anyway so this is expected)\n",
        "no landmarks found\n",
        "Building new face with no texture, yet you supplied texture_coords or a texture_tri_index (these will be ignored)"
       ]
      },
      {
       "output_type": "stream",
       "stream": "stdout",
       "text": [
        "\n",
        "importing without cleanup\n",
        "/home/jab08/Dropbox/testData/medicaldata/111013123235CA.jpg"
       ]
      },
      {
       "output_type": "stream",
       "stream": "stdout",
       "text": [
        "\n",
        "Warning, no texture found\n",
        "(there are no texture coordinates anyway so this is expected)\n",
        "no landmarks found\n",
        "Building new face with no texture, yet you supplied texture_coords or a texture_tri_index (these will be ignored)"
       ]
      },
      {
       "output_type": "stream",
       "stream": "stdout",
       "text": [
        "\n",
        "importing without cleanup\n",
        "/home/jab08/Dropbox/testData/medicaldata/110712164704NV.jpg"
       ]
      },
      {
       "output_type": "stream",
       "stream": "stdout",
       "text": [
        "\n",
        "Warning, no texture found\n",
        "(there are no texture coordinates anyway so this is expected)\n",
        "no landmarks found\n",
        "Building new face with no texture, yet you supplied texture_coords or a texture_tri_index (these will be ignored)"
       ]
      },
      {
       "output_type": "stream",
       "stream": "stdout",
       "text": [
        "\n",
        "importing without cleanup"
       ]
      },
      {
       "output_type": "stream",
       "stream": "stdout",
       "text": [
        "\n",
        "/home/jab08/Dropbox/testData/medicaldata/110611173121RP2.jpg"
       ]
      },
      {
       "output_type": "stream",
       "stream": "stdout",
       "text": [
        "\n",
        "Warning, no texture found\n",
        "(there are no texture coordinates anyway so this is expected)\n",
        "no landmarks found\n",
        "Building new face with no texture, yet you supplied texture_coords or a texture_tri_index (these will be ignored)"
       ]
      },
      {
       "output_type": "stream",
       "stream": "stdout",
       "text": [
        "\n",
        "importing without cleanup\n",
        "/home/jab08/Dropbox/testData/medicaldata/110715131832HV.jpg"
       ]
      },
      {
       "output_type": "stream",
       "stream": "stdout",
       "text": [
        "\n",
        "Warning, no texture found\n",
        "(there are no texture coordinates anyway so this is expected)\n",
        "no landmarks found\n",
        "Building new face with no texture, yet you supplied texture_coords or a texture_tri_index (these will be ignored)"
       ]
      },
      {
       "output_type": "stream",
       "stream": "stdout",
       "text": [
        "\n",
        "importing without cleanup\n",
        "/home/jab08/Dropbox/testData/medicaldata/110725155202DD.jpg"
       ]
      },
      {
       "output_type": "stream",
       "stream": "stdout",
       "text": [
        "\n",
        "Warning, no texture found\n",
        "(there are no texture coordinates anyway so this is expected)\n",
        "no landmarks found\n",
        "Building new face with no texture, yet you supplied texture_coords or a texture_tri_index (these will be ignored)"
       ]
      },
      {
       "output_type": "stream",
       "stream": "stdout",
       "text": [
        "\n",
        "importing without cleanup\n",
        "/home/jab08/Dropbox/testData/medicaldata/110715135552JP.jpg"
       ]
      },
      {
       "output_type": "stream",
       "stream": "stdout",
       "text": [
        "\n",
        "Warning, no texture found\n",
        "(there are no texture coordinates anyway so this is expected)\n",
        "no landmarks found\n",
        "Building new face with no texture, yet you supplied texture_coords or a texture_tri_index (these will be ignored)"
       ]
      },
      {
       "output_type": "stream",
       "stream": "stdout",
       "text": [
        "\n",
        "importing without cleanup\n",
        "/home/jab08/Dropbox/testData/medicaldata/110712164435HW.jpg"
       ]
      },
      {
       "output_type": "stream",
       "stream": "stdout",
       "text": [
        "\n",
        "Warning, no texture found\n",
        "(there are no texture coordinates anyway so this is expected)\n",
        "no landmarks found\n",
        "Building new face with no texture, yet you supplied texture_coords or a texture_tri_index (these will be ignored)"
       ]
      },
      {
       "output_type": "stream",
       "stream": "stdout",
       "text": [
        "\n",
        "importing without cleanup\n",
        "/home/jab08/Dropbox/testData/medicaldata/120116112055jr.jpg"
       ]
      },
      {
       "output_type": "stream",
       "stream": "stdout",
       "text": [
        "\n",
        "Warning, no texture found\n",
        "(there are no texture coordinates anyway so this is expected)\n",
        "no landmarks found\n",
        "Building new face with no texture, yet you supplied texture_coords or a texture_tri_index (these will be ignored)"
       ]
      },
      {
       "output_type": "stream",
       "stream": "stdout",
       "text": [
        "\n",
        "importing without cleanup\n",
        "/home/jab08/Dropbox/testData/medicaldata/110707104431JS.jpg"
       ]
      },
      {
       "output_type": "stream",
       "stream": "stdout",
       "text": [
        "\n",
        "Warning, no texture found\n",
        "(there are no texture coordinates anyway so this is expected)\n",
        "no landmarks found\n",
        "Building new face with no texture, yet you supplied texture_coords or a texture_tri_index (these will be ignored)"
       ]
      },
      {
       "output_type": "stream",
       "stream": "stdout",
       "text": [
        "\n",
        "importing without cleanup\n",
        "/home/jab08/Dropbox/testData/medicaldata/110707110314AR.jpg"
       ]
      },
      {
       "output_type": "stream",
       "stream": "stdout",
       "text": [
        "\n",
        "Warning, no texture found\n",
        "(there are no texture coordinates anyway so this is expected)\n",
        "no landmarks found\n",
        "Building new face with no texture, yet you supplied texture_coords or a texture_tri_index (these will be ignored)"
       ]
      },
      {
       "output_type": "stream",
       "stream": "stdout",
       "text": [
        "\n",
        "importing without cleanup\n",
        "/home/jab08/Dropbox/testData/medicaldata/110611175040JM.jpg"
       ]
      },
      {
       "output_type": "stream",
       "stream": "stdout",
       "text": [
        "\n",
        "Warning, no texture found\n",
        "(there are no texture coordinates anyway so this is expected)\n",
        "no landmarks found\n",
        "Building new face with no texture, yet you supplied texture_coords or a texture_tri_index (these will be ignored)"
       ]
      },
      {
       "output_type": "stream",
       "stream": "stdout",
       "text": [
        "\n",
        "importing without cleanup\n",
        "/home/jab08/Dropbox/testData/medicaldata/110712161833HH.jpg"
       ]
      },
      {
       "output_type": "stream",
       "stream": "stdout",
       "text": [
        "\n",
        "Warning, no texture found\n",
        "(there are no texture coordinates anyway so this is expected)\n",
        "no landmarks found\n",
        "Building new face with no texture, yet you supplied texture_coords or a texture_tri_index (these will be ignored)"
       ]
      },
      {
       "output_type": "stream",
       "stream": "stdout",
       "text": [
        "\n",
        "importing without cleanup\n",
        "/home/jab08/Dropbox/testData/medicaldata/110611175425MMK.jpg"
       ]
      },
      {
       "output_type": "stream",
       "stream": "stdout",
       "text": [
        "\n",
        "Warning, no texture found\n",
        "(there are no texture coordinates anyway so this is expected)\n",
        "no landmarks found\n",
        "Building new face with no texture, yet you supplied texture_coords or a texture_tri_index (these will be ignored)"
       ]
      },
      {
       "output_type": "stream",
       "stream": "stdout",
       "text": [
        "\n",
        "importing without cleanup\n",
        "/home/jab08/Dropbox/testData/medicaldata/110712160709POOK.jpg"
       ]
      },
      {
       "output_type": "stream",
       "stream": "stdout",
       "text": [
        "\n",
        "Warning, no texture found\n",
        "(there are no texture coordinates anyway so this is expected)\n",
        "no landmarks found\n",
        "Building new face with no texture, yet you supplied texture_coords or a texture_tri_index (these will be ignored)"
       ]
      },
      {
       "output_type": "stream",
       "stream": "stdout",
       "text": [
        "\n",
        "importing without cleanup\n",
        "/home/jab08/Dropbox/testData/medicaldata/111101154803ZC.jpg"
       ]
      },
      {
       "output_type": "stream",
       "stream": "stdout",
       "text": [
        "\n",
        "Warning, no texture found\n",
        "(there are no texture coordinates anyway so this is expected)\n",
        "no landmarks found\n",
        "Building new face with no texture, yet you supplied texture_coords or a texture_tri_index (these will be ignored)"
       ]
      },
      {
       "output_type": "stream",
       "stream": "stdout",
       "text": [
        "\n",
        "importing without cleanup\n",
        "/home/jab08/Dropbox/testData/medicaldata/111101154932NR.jpg"
       ]
      },
      {
       "output_type": "stream",
       "stream": "stdout",
       "text": [
        "\n",
        "Warning, no texture found\n",
        "(there are no texture coordinates anyway so this is expected)\n",
        "no landmarks found\n",
        "Building new face with no texture, yet you supplied texture_coords or a texture_tri_index (these will be ignored)"
       ]
      },
      {
       "output_type": "stream",
       "stream": "stdout",
       "text": [
        "\n",
        "importing without cleanup\n",
        "/home/jab08/Dropbox/testData/medicaldata/110725161028jb.jpg"
       ]
      },
      {
       "output_type": "stream",
       "stream": "stdout",
       "text": [
        "\n",
        "Warning, no texture found\n",
        "(there are no texture coordinates anyway so this is expected)\n",
        "no landmarks found\n",
        "Building new face with no texture, yet you supplied texture_coords or a texture_tri_index (these will be ignored)"
       ]
      },
      {
       "output_type": "stream",
       "stream": "stdout",
       "text": [
        "\n",
        "importing without cleanup\n",
        "/home/jab08/Dropbox/testData/medicaldata/110707104859JC.jpg"
       ]
      },
      {
       "output_type": "stream",
       "stream": "stdout",
       "text": [
        "\n",
        "Warning, no texture found\n",
        "(there are no texture coordinates anyway so this is expected)\n",
        "no landmarks found\n",
        "Building new face with no texture, yet you supplied texture_coords or a texture_tri_index (these will be ignored)"
       ]
      },
      {
       "output_type": "stream",
       "stream": "stdout",
       "text": [
        "\n",
        "importing without cleanup\n",
        "/home/jab08/Dropbox/testData/medicaldata/110611165537ME.jpg"
       ]
      },
      {
       "output_type": "stream",
       "stream": "stdout",
       "text": [
        "\n",
        "Warning, no texture found\n",
        "(there are no texture coordinates anyway so this is expected)\n",
        "no landmarks found\n",
        "Building new face with no texture, yet you supplied texture_coords or a texture_tri_index (these will be ignored)"
       ]
      },
      {
       "output_type": "stream",
       "stream": "stdout",
       "text": [
        "\n",
        "importing without cleanup\n",
        "/home/jab08/Dropbox/testData/medicaldata/111101164525KB.jpg"
       ]
      },
      {
       "output_type": "stream",
       "stream": "stdout",
       "text": [
        "\n",
        "Warning, no texture found\n",
        "(there are no texture coordinates anyway so this is expected)\n",
        "no landmarks found\n",
        "Building new face with no texture, yet you supplied texture_coords or a texture_tri_index (these will be ignored)"
       ]
      },
      {
       "output_type": "stream",
       "stream": "stdout",
       "text": [
        "\n",
        "importing without cleanup\n",
        "/home/jab08/Dropbox/testData/medicaldata/110518130831KG.jpg"
       ]
      },
      {
       "output_type": "stream",
       "stream": "stdout",
       "text": [
        "\n",
        "Warning, no texture found\n",
        "(there are no texture coordinates anyway so this is expected)\n",
        "no landmarks found\n",
        "Building new face with no texture, yet you supplied texture_coords or a texture_tri_index (these will be ignored)"
       ]
      },
      {
       "output_type": "stream",
       "stream": "stdout",
       "text": [
        "\n",
        "importing without cleanup\n",
        "/home/jab08/Dropbox/testData/medicaldata/110518130936MC.jpg"
       ]
      },
      {
       "output_type": "stream",
       "stream": "stdout",
       "text": [
        "\n",
        "Warning, no texture found\n",
        "(there are no texture coordinates anyway so this is expected)\n",
        "no landmarks found\n",
        "Building new face with no texture, yet you supplied texture_coords or a texture_tri_index (these will be ignored)"
       ]
      },
      {
       "output_type": "stream",
       "stream": "stdout",
       "text": [
        "\n",
        "importing without cleanup\n",
        "/home/jab08/Dropbox/testData/medicaldata/111101165004MONTUE.jpg"
       ]
      },
      {
       "output_type": "stream",
       "stream": "stdout",
       "text": [
        "\n",
        "Warning, no texture found\n",
        "(there are no texture coordinates anyway so this is expected)\n",
        "no landmarks found\n",
        "Building new face with no texture, yet you supplied texture_coords or a texture_tri_index (these will be ignored)"
       ]
      },
      {
       "output_type": "stream",
       "stream": "stdout",
       "text": [
        "\n",
        "importing without cleanup\n",
        "/home/jab08/Dropbox/testData/medicaldata/110611173835MB.jpg"
       ]
      },
      {
       "output_type": "stream",
       "stream": "stdout",
       "text": [
        "\n",
        "Warning, no texture found\n",
        "(there are no texture coordinates anyway so this is expected)\n",
        "no landmarks found\n",
        "Building new face with no texture, yet you supplied texture_coords or a texture_tri_index (these will be ignored)"
       ]
      },
      {
       "output_type": "stream",
       "stream": "stdout",
       "text": [
        "\n",
        "importing without cleanup\n",
        "/home/jab08/Dropbox/testData/medicaldata/110712153939MM.jpg"
       ]
      },
      {
       "output_type": "stream",
       "stream": "stdout",
       "text": [
        "\n",
        "Warning, no texture found\n",
        "(there are no texture coordinates anyway so this is expected)\n",
        "no landmarks found\n",
        "Building new face with no texture, yet you supplied texture_coords or a texture_tri_index (these will be ignored)"
       ]
      },
      {
       "output_type": "stream",
       "stream": "stdout",
       "text": [
        "\n",
        "importing without cleanup\n",
        "/home/jab08/Dropbox/testData/medicaldata/110611172944PN.jpg"
       ]
      },
      {
       "output_type": "stream",
       "stream": "stdout",
       "text": [
        "\n",
        "Warning, no texture found\n",
        "(there are no texture coordinates anyway so this is expected)\n",
        "no landmarks found\n",
        "Building new face with no texture, yet you supplied texture_coords or a texture_tri_index (these will be ignored)"
       ]
      },
      {
       "output_type": "stream",
       "stream": "stdout",
       "text": [
        "\n",
        "importing without cleanup\n",
        "/home/jab08/Dropbox/testData/medicaldata/110518125736SP.jpg"
       ]
      },
      {
       "output_type": "stream",
       "stream": "stdout",
       "text": [
        "\n",
        "Warning, no texture found\n",
        "(there are no texture coordinates anyway so this is expected)\n",
        "no landmarks found\n",
        "Building new face with no texture, yet you supplied texture_coords or a texture_tri_index (these will be ignored)"
       ]
      },
      {
       "output_type": "stream",
       "stream": "stdout",
       "text": [
        "\n",
        "importing without cleanup\n",
        "/home/jab08/Dropbox/testData/medicaldata/110518130104MH.jpg"
       ]
      },
      {
       "output_type": "stream",
       "stream": "stdout",
       "text": [
        "\n",
        "Warning, no texture found\n",
        "(there are no texture coordinates anyway so this is expected)\n",
        "no landmarks found\n",
        "Building new face with no texture, yet you supplied texture_coords or a texture_tri_index (these will be ignored)"
       ]
      },
      {
       "output_type": "stream",
       "stream": "stdout",
       "text": [
        "\n",
        "importing without cleanup\n",
        "/home/jab08/Dropbox/testData/medicaldata/110707114610SK.jpg"
       ]
      },
      {
       "output_type": "stream",
       "stream": "stdout",
       "text": [
        "\n",
        "Warning, no texture found\n",
        "(there are no texture coordinates anyway so this is expected)\n",
        "no landmarks found\n",
        "Building new face with no texture, yet you supplied texture_coords or a texture_tri_index (these will be ignored)"
       ]
      },
      {
       "output_type": "stream",
       "stream": "stdout",
       "text": [
        "\n",
        "importing without cleanup\n",
        "/home/jab08/Dropbox/testData/medicaldata/111101155310SS.jpg"
       ]
      },
      {
       "output_type": "stream",
       "stream": "stdout",
       "text": [
        "\n",
        "Warning, no texture found\n",
        "(there are no texture coordinates anyway so this is expected)\n",
        "no landmarks found\n",
        "Building new face with no texture, yet you supplied texture_coords or a texture_tri_index (these will be ignored)"
       ]
      },
      {
       "output_type": "stream",
       "stream": "stdout",
       "text": [
        "\n",
        "importing without cleanup"
       ]
      },
      {
       "output_type": "stream",
       "stream": "stdout",
       "text": [
        "\n",
        "/home/jab08/Dropbox/testData/medicaldata/110526113335RDF.jpg"
       ]
      },
      {
       "output_type": "stream",
       "stream": "stdout",
       "text": [
        "\n",
        "Warning, no texture found\n",
        "(there are no texture coordinates anyway so this is expected)\n",
        "no landmarks found\n",
        "Building new face with no texture, yet you supplied texture_coords or a texture_tri_index (these will be ignored)"
       ]
      },
      {
       "output_type": "stream",
       "stream": "stdout",
       "text": [
        "\n",
        "importing without cleanup\n",
        "/home/jab08/Dropbox/testData/medicaldata/110611174702KV.jpg"
       ]
      },
      {
       "output_type": "stream",
       "stream": "stdout",
       "text": [
        "\n",
        "Warning, no texture found\n",
        "(there are no texture coordinates anyway so this is expected)\n",
        "no landmarks found\n",
        "Building new face with no texture, yet you supplied texture_coords or a texture_tri_index (these will be ignored)"
       ]
      },
      {
       "output_type": "stream",
       "stream": "stdout",
       "text": [
        "\n",
        "importing without cleanup\n",
        "/home/jab08/Dropbox/testData/medicaldata/110707111549MS.jpg"
       ]
      },
      {
       "output_type": "stream",
       "stream": "stdout",
       "text": [
        "\n",
        "Warning, no texture found\n",
        "(there are no texture coordinates anyway so this is expected)\n",
        "no landmarks found\n",
        "Building new face with no texture, yet you supplied texture_coords or a texture_tri_index (these will be ignored)"
       ]
      },
      {
       "output_type": "stream",
       "stream": "stdout",
       "text": [
        "\n",
        "importing without cleanup\n",
        "/home/jab08/Dropbox/testData/medicaldata/110715135757MR.jpg"
       ]
      },
      {
       "output_type": "stream",
       "stream": "stdout",
       "text": [
        "\n",
        "Warning, no texture found\n",
        "(there are no texture coordinates anyway so this is expected)\n",
        "no landmarks found\n",
        "Building new face with no texture, yet you supplied texture_coords or a texture_tri_index (these will be ignored)"
       ]
      },
      {
       "output_type": "stream",
       "stream": "stdout",
       "text": [
        "\n",
        "importing without cleanup\n",
        "/home/jab08/Dropbox/testData/medicaldata/111013123441OS.jpg"
       ]
      },
      {
       "output_type": "stream",
       "stream": "stdout",
       "text": [
        "\n",
        "Warning, no texture found\n",
        "(there are no texture coordinates anyway so this is expected)\n",
        "no landmarks found\n",
        "Building new face with no texture, yet you supplied texture_coords or a texture_tri_index (these will be ignored)"
       ]
      },
      {
       "output_type": "stream",
       "stream": "stdout",
       "text": [
        "\n"
       ]
      }
     ],
     "prompt_number": 4
    },
    {
     "cell_type": "markdown",
     "metadata": {},
     "source": [
      "*Align the faces landmarks using Generalised Procrustes Analysis*"
     ]
    },
    {
     "cell_type": "code",
     "collapsed": false,
     "input": [
      "proc = Procrustes(lms)\n",
      "proc.general_alignment()"
     ],
     "language": "python",
     "metadata": {},
     "outputs": [
      {
       "output_type": "stream",
       "stream": "stdout",
       "text": [
        "taking Procrustes step\n",
        "error is 34.584266431561652\n",
        "taking Procrustes step\n",
        "error is 24.090461438634502\n",
        "taking Procrustes step\n",
        "error is 19.649823631834369\n",
        "taking Procrustes step\n",
        "error is 18.150818982476533\n",
        "taking Procrustes step\n",
        "error is 17.49960671603198\n",
        "taking Procrustes step\n",
        "error is 17.113878743664966\n",
        "taking Procrustes step\n",
        "error is 16.815732432265065\n",
        "taking Procrustes step\n",
        "error is 16.548633013794607"
       ]
      },
      {
       "output_type": "stream",
       "stream": "stdout",
       "text": [
        "\n",
        "taking Procrustes step\n",
        "error is 16.294269528053338\n",
        "taking Procrustes step\n",
        "error is 16.046623821515148\n",
        "taking Procrustes step\n",
        "error is 15.803676749961911\n",
        "taking Procrustes step\n",
        "error is 15.564721373888696\n",
        "taking Procrustes step\n",
        "error is 15.329484932806759\n",
        "taking Procrustes step\n",
        "error is 15.09783974233628\n",
        "taking Procrustes step\n",
        "error is 14.86970730497803\n",
        "taking Procrustes step\n",
        "error is 14.645026269200105\n",
        "taking Procrustes step\n",
        "error is 14.423741639699346\n",
        "taking Procrustes step\n",
        "error is 14.205801112278026"
       ]
      },
      {
       "output_type": "stream",
       "stream": "stdout",
       "text": [
        "\n",
        "taking Procrustes step\n",
        "error is 13.991153814820485\n",
        "taking Procrustes step\n",
        "error is 13.779749866786329\n",
        "taking Procrustes step\n",
        "error is 13.571540219255848\n",
        "taking Procrustes step\n",
        "error is 13.366476591831084\n",
        "taking Procrustes step\n",
        "error is 13.164511443316671\n",
        "taking Procrustes step\n",
        "error is 12.965597954313779\n",
        "taking Procrustes step\n",
        "error is 12.769690014077062\n",
        "taking Procrustes step\n",
        "error is 12.576742209038956\n",
        "taking Procrustes step\n",
        "error is 12.38670981197669\n",
        "taking Procrustes step\n",
        "error is 12.19954877154629"
       ]
      },
      {
       "output_type": "stream",
       "stream": "stdout",
       "text": [
        "\n",
        "taking Procrustes step\n",
        "error is 12.015215702036867\n",
        "taking Procrustes step\n",
        "error is 11.833667873293583\n",
        "taking Procrustes step\n",
        "error is 11.654863200803652\n",
        "taking Procrustes step\n",
        "error is 11.478760235957267\n",
        "taking Procrustes step\n",
        "error is 11.305318156414048\n",
        "taking Procrustes step\n",
        "error is 11.134496756661823\n",
        "taking Procrustes step\n",
        "error is 10.966256438680734\n",
        "taking Procrustes step\n",
        "error is 10.800558202772431\n",
        "taking Procrustes step\n",
        "error is 10.637363638516396\n",
        "taking Procrustes step\n",
        "error is 10.47663491586856"
       ]
      },
      {
       "output_type": "stream",
       "stream": "stdout",
       "text": [
        "\n",
        "taking Procrustes step\n",
        "error is 10.318334776389021\n",
        "taking Procrustes step\n",
        "error is 10.162426524605094\n",
        "taking Procrustes step\n",
        "error is 10.008874019509667\n",
        "taking Procrustes step\n",
        "error is 9.8576416661786173\n",
        "taking Procrustes step\n",
        "error is 9.7086944075175587\n",
        "taking Procrustes step\n",
        "error is 9.5619977161451004\n",
        "taking Procrustes step\n",
        "error is 9.4175175863779561\n",
        "taking Procrustes step\n",
        "error is 9.2752205263521361\n",
        "taking Procrustes step\n",
        "error is 9.1350735502655702\n",
        "taking Procrustes step\n",
        "error is 8.9970441707187714"
       ]
      },
      {
       "output_type": "stream",
       "stream": "stdout",
       "text": [
        "\n",
        "taking Procrustes step\n",
        "error is 8.8611003911973167\n",
        "taking Procrustes step\n",
        "error is 8.7272106986453082\n",
        "taking Procrustes step\n",
        "error is 8.5953440561620038\n",
        "taking Procrustes step\n",
        "error is 8.4654698958146213\n",
        "taking Procrustes step\n",
        "error is 8.3375581115411315\n",
        "taking Procrustes step\n",
        "error is 8.2115790521793581\n",
        "taking Procrustes step\n",
        "error is 8.0875035145894945\n",
        "taking Procrustes step\n",
        "error is 7.9653027368895044\n",
        "taking Procrustes step\n",
        "error is 7.8449483917798428\n",
        "taking Procrustes step\n",
        "error is 7.7264125799849248"
       ]
      },
      {
       "output_type": "stream",
       "stream": "stdout",
       "text": [
        "\n",
        "taking Procrustes step\n",
        "error is 7.6096678237808106\n",
        "taking Procrustes step\n",
        "error is 7.4946870606273599\n",
        "taking Procrustes step\n",
        "error is 7.3814436368960941\n",
        "taking Procrustes step\n",
        "error is 7.2699113016884089\n",
        "taking Procrustes step\n",
        "error is 7.1600642007530544\n",
        "taking Procrustes step\n",
        "error is 7.0518768704921282\n",
        "taking Procrustes step\n",
        "error is 6.9453242320586304\n",
        "taking Procrustes step\n",
        "error is 6.8403815855408201\n",
        "taking Procrustes step\n",
        "error is 6.7370246042408164\n",
        "taking Procrustes step\n",
        "error is 6.6352293290312652"
       ]
      },
      {
       "output_type": "stream",
       "stream": "stdout",
       "text": [
        "\n",
        "taking Procrustes step\n",
        "error is 6.5349721628034443\n",
        "taking Procrustes step\n",
        "error is 6.4362298649976237\n",
        "taking Procrustes step\n",
        "error is 6.3389795462125793\n",
        "taking Procrustes step\n",
        "error is 6.2431986629060967\n",
        "taking Procrustes step\n",
        "error is 6.1488650121597903\n",
        "taking Procrustes step\n",
        "error is 6.0559567265436405\n",
        "taking Procrustes step\n",
        "error is 5.9644522690343962\n",
        "taking Procrustes step\n",
        "error is 5.8743304280336845\n",
        "taking Procrustes step\n",
        "error is 5.785570312445393\n",
        "taking Procrustes step\n",
        "error is 5.6981513468344476"
       ]
      },
      {
       "output_type": "stream",
       "stream": "stdout",
       "text": [
        "\n",
        "taking Procrustes step\n",
        "error is 5.6120532666558924\n",
        "taking Procrustes step\n",
        "error is 5.5272561135608331\n",
        "taking Procrustes step\n",
        "error is 5.4437402307659912\n",
        "taking Procrustes step\n",
        "error is 5.3614862584994949\n",
        "taking Procrustes step\n",
        "error is 5.2804751295098331\n",
        "taking Procrustes step\n",
        "error is 5.200688064652029\n",
        "taking Procrustes step\n",
        "error is 5.1221065685289471\n",
        "taking Procrustes step\n",
        "error is 5.0447124252051676\n",
        "taking Procrustes step\n",
        "error is 4.9684876939857174\n",
        "taking Procrustes step\n",
        "error is 4.8934147052561645"
       ]
      },
      {
       "output_type": "stream",
       "stream": "stdout",
       "text": [
        "\n",
        "taking Procrustes step\n",
        "error is 4.8194760563869252\n",
        "taking Procrustes step\n",
        "error is 4.7466546076990754\n",
        "taking Procrustes step\n",
        "error is 4.6749334784913446\n",
        "taking Procrustes step\n",
        "error is 4.6042960431269355\n",
        "taking Procrustes step\n",
        "error is 4.5347259271800979\n",
        "taking Procrustes step\n",
        "error is 4.4662070036381065\n",
        "taking Procrustes step\n",
        "error is 4.398723389166153\n",
        "taking Procrustes step\n",
        "error is 4.3322594404239867\n",
        "taking Procrustes step\n",
        "error is 4.2667997504383708\n",
        "taking Procrustes step\n",
        "error is 4.2023291450344589"
       ]
      },
      {
       "output_type": "stream",
       "stream": "stdout",
       "text": [
        "\n",
        "taking Procrustes step\n",
        "error is 4.1388326793132979\n",
        "taking Procrustes step\n",
        "error is 4.0762956341958487\n",
        "taking Procrustes step\n",
        "error is 4.0147035130004012\n",
        "taking Procrustes step\n",
        "error is 3.9540420380913326\n",
        "taking Procrustes step\n",
        "error is 3.8942971475639756\n",
        "taking Procrustes step\n",
        "error is 3.8354549919877092\n",
        "taking Procrustes step\n",
        "error is 3.777501931193648\n",
        "taking Procrustes step\n",
        "error is 3.7204245311124273\n",
        "taking Procrustes step\n",
        "error is 3.664209560663807\n",
        "taking Procrustes step\n",
        "error is 3.6088439886841011"
       ]
      },
      {
       "output_type": "stream",
       "stream": "stdout",
       "text": [
        "\n",
        "taking Procrustes step\n",
        "error is 3.5543149809106453\n",
        "taking Procrustes step\n",
        "error is 3.5006098970019295\n",
        "taking Procrustes step\n",
        "error is 3.4477162876123053\n",
        "taking Procrustes step\n",
        "error is 3.3956218915014436\n",
        "taking Procrustes step\n",
        "error is 3.3443146326952697\n",
        "taking Procrustes step\n",
        "error is 3.2937826176855549\n",
        "taking Procrustes step\n",
        "error is 3.2440141326725778\n",
        "taking Procrustes step\n",
        "error is 3.1949976408501679\n",
        "taking Procrustes step\n",
        "error is 3.1467217797317026\n",
        "taking Procrustes step\n",
        "error is 3.0991753585157742"
       ]
      },
      {
       "output_type": "stream",
       "stream": "stdout",
       "text": [
        "\n",
        "taking Procrustes step\n",
        "error is 3.052347355491527\n",
        "taking Procrustes step\n",
        "error is 3.0062269154841594\n",
        "taking Procrustes step\n",
        "error is 2.9608033473392381\n",
        "taking Procrustes step\n",
        "error is 2.9160661214437775\n",
        "taking Procrustes step\n",
        "error is 2.8720048672848675\n",
        "taking Procrustes step\n",
        "error is 2.8286093710468752\n",
        "taking Procrustes step\n",
        "error is 2.785869573242973\n",
        "taking Procrustes step\n",
        "error is 2.7437755663827583\n",
        "taking Procrustes step\n",
        "error is 2.7023175926776695\n",
        "taking Procrustes step\n",
        "error is 2.6614860417767217"
       ]
      },
      {
       "output_type": "stream",
       "stream": "stdout",
       "text": [
        "\n",
        "taking Procrustes step\n",
        "error is 2.6212714485392339\n",
        "taking Procrustes step\n",
        "error is 2.5816644908425221\n",
        "taking Procrustes step\n",
        "error is 2.5426559874179699\n",
        "taking Procrustes step\n",
        "error is 2.5042368957257297\n",
        "taking Procrustes step\n",
        "error is 2.4663983098567059\n",
        "taking Procrustes step\n",
        "error is 2.4291314584676096\n",
        "taking Procrustes step\n",
        "error is 2.3924277027507483\n",
        "taking Procrustes step\n",
        "error is 2.3562785344267629\n",
        "taking Procrustes step\n",
        "error is 2.3206755737766995\n",
        "taking Procrustes step\n",
        "error is 2.2856105676973875"
       ]
      },
      {
       "output_type": "stream",
       "stream": "stdout",
       "text": [
        "\n",
        "taking Procrustes step\n",
        "error is 2.2510753877880303\n",
        "taking Procrustes step\n",
        "error is 2.2170620284671809\n",
        "taking Procrustes step\n",
        "error is 2.1835626051162738\n",
        "taking Procrustes step\n",
        "error is 2.1505693522508502\n",
        "taking Procrustes step\n",
        "error is 2.1180746217236806\n",
        "taking Procrustes step\n",
        "error is 2.0860708809482116\n",
        "taking Procrustes step\n",
        "error is 2.0545507111542229\n",
        "taking Procrustes step\n",
        "error is 2.0235068056676631\n",
        "taking Procrustes step\n",
        "error is 1.9929319682173927\n",
        "taking Procrustes step\n",
        "error is 1.9628191112672009"
       ]
      },
      {
       "output_type": "stream",
       "stream": "stdout",
       "text": [
        "\n",
        "taking Procrustes step\n",
        "error is 1.9331612543710399\n",
        "taking Procrustes step\n",
        "error is 1.9039515225571659\n",
        "taking Procrustes step\n",
        "error is 1.8751831447330862\n",
        "taking Procrustes step\n",
        "error is 1.8468494521167274\n",
        "taking Procrustes step\n",
        "error is 1.818943876689207\n",
        "taking Procrustes step\n",
        "error is 1.7914599496747365\n",
        "taking Procrustes step\n",
        "error is 1.7643913000384503\n",
        "taking Procrustes step\n",
        "error is 1.7377316530107954\n",
        "taking Procrustes step\n",
        "error is 1.7114748286335655\n",
        "taking Procrustes step\n",
        "error is 1.6856147403259227"
       ]
      },
      {
       "output_type": "stream",
       "stream": "stdout",
       "text": [
        "\n",
        "taking Procrustes step\n",
        "error is 1.6601453934750841\n",
        "taking Procrustes step\n",
        "error is 1.63506088404481\n",
        "taking Procrustes step\n",
        "error is 1.6103553972084739\n",
        "taking Procrustes step\n",
        "error is 1.5860232060003623\n",
        "taking Procrustes step\n",
        "error is 1.5620586699881605\n",
        "taking Procrustes step\n",
        "error is 1.5384562339653116\n",
        "taking Procrustes step\n",
        "error is 1.5152104266640698\n",
        "taking Procrustes step\n",
        "error is 1.4923158594858099\n",
        "taking Procrustes step\n",
        "error is 1.4697672252533445\n",
        "taking Procrustes step\n",
        "error is 1.4475592969798694"
       ]
      },
      {
       "output_type": "stream",
       "stream": "stdout",
       "text": [
        "\n",
        "taking Procrustes step\n",
        "error is 1.4256869266570544\n",
        "taking Procrustes step\n",
        "error is 1.4041450440623588\n",
        "taking Procrustes step\n",
        "error is 1.3829286555835054\n",
        "taking Procrustes step\n",
        "error is 1.3620328430608946\n",
        "taking Procrustes step\n",
        "error is 1.3414527626472141\n",
        "taking Procrustes step\n",
        "error is 1.3211836436850135\n",
        "taking Procrustes step\n",
        "error is 1.3012207876006778\n",
        "taking Procrustes step\n",
        "error is 1.2815595668150963\n",
        "taking Procrustes step\n",
        "error is 1.2621954236709678\n",
        "taking Procrustes step\n",
        "error is 1.2431238693769628"
       ]
      },
      {
       "output_type": "stream",
       "stream": "stdout",
       "text": [
        "\n",
        "taking Procrustes step\n",
        "error is 1.2243404829657225\n",
        "taking Procrustes step\n",
        "error is 1.2058409102706427\n",
        "taking Procrustes step\n",
        "error is 1.1876208629157696\n",
        "taking Procrustes step\n",
        "error is 1.1696761173216725\n",
        "taking Procrustes step\n",
        "error is 1.1520025137260492\n",
        "taking Procrustes step\n",
        "error is 1.1345959552204385\n",
        "taking Procrustes step\n",
        "error is 1.1174524067998619\n",
        "taking Procrustes step\n",
        "error is 1.1005678944274091\n",
        "taking Procrustes step\n",
        "error is 1.0839385041132299\n",
        "taking Procrustes step\n",
        "error is 1.0675603810071999"
       ]
      },
      {
       "output_type": "stream",
       "stream": "stdout",
       "text": [
        "\n",
        "taking Procrustes step\n",
        "error is 1.0514297285054108\n",
        "taking Procrustes step\n",
        "error is 1.0355428073697335\n",
        "taking Procrustes step\n",
        "error is 1.0198959348614469\n",
        "taking Procrustes step\n",
        "error is 1.004485483887481\n",
        "taking Procrustes step\n",
        "error is 0.98930788215931165\n",
        "taking Procrustes step\n",
        "error is 0.97435961136491089\n",
        "taking Procrustes step\n",
        "error is 0.95963720635403771\n",
        "taking Procrustes step\n",
        "error is 0.94513725433368068\n",
        "taking Procrustes step\n",
        "error is 0.9308563940773148\n",
        "taking Procrustes step\n",
        "error is 0.91679131514685375"
       ]
      },
      {
       "output_type": "stream",
       "stream": "stdout",
       "text": [
        "\n",
        "taking Procrustes step\n",
        "error is 0.90293875712345706\n",
        "taking Procrustes step\n",
        "error is 0.88929550885314612\n",
        "taking Procrustes step\n",
        "error is 0.87585840770173717\n",
        "taking Procrustes step\n",
        "error is 0.86262433882205647\n",
        "taking Procrustes step\n",
        "error is 0.84959023443159565\n",
        "taking Procrustes step\n",
        "error is 0.83675307310150093\n",
        "taking Procrustes step\n",
        "error is 0.8241098790562349\n",
        "taking Procrustes step\n",
        "error is 0.81165772148380455\n",
        "taking Procrustes step\n",
        "error is 0.79939371385608182\n",
        "taking Procrustes step\n",
        "error is 0.78731501326002229"
       ]
      },
      {
       "output_type": "stream",
       "stream": "stdout",
       "text": [
        "\n",
        "taking Procrustes step\n",
        "error is 0.77541881973847537\n",
        "taking Procrustes step\n",
        "error is 0.76370237564120258\n",
        "taking Procrustes step\n",
        "error is 0.75216296498534974\n",
        "taking Procrustes step\n",
        "error is 0.7407979128263682\n",
        "taking Procrustes step\n",
        "error is 0.72960458463765399\n",
        "taking Procrustes step\n",
        "error is 0.71858038569962546\n",
        "taking Procrustes step\n",
        "error is 0.70772276049864946\n",
        "taking Procrustes step\n",
        "error is 0.69702919213443004\n",
        "taking Procrustes step\n",
        "error is 0.68649720173646966"
       ]
      },
      {
       "output_type": "stream",
       "stream": "stdout",
       "text": [
        "\n",
        "taking Procrustes step\n",
        "error is 0.67612434788982101\n",
        "taking Procrustes step\n",
        "error is 0.6659082260685687\n",
        "taking Procrustes step\n",
        "error is 0.65584646807909497\n",
        "taking Procrustes step\n",
        "error is 0.64593674151063962\n",
        "taking Procrustes step\n",
        "error is 0.63617674919459888\n",
        "taking Procrustes step\n",
        "error is 0.62656422867249473\n",
        "taking Procrustes step\n",
        "error is 0.61709695167098277\n",
        "taking Procrustes step\n",
        "error is 0.60777272358564893\n",
        "taking Procrustes step\n",
        "error is 0.59858938297212816"
       ]
      },
      {
       "output_type": "stream",
       "stream": "stdout",
       "text": [
        "\n",
        "taking Procrustes step\n",
        "error is 0.58954480104511653\n",
        "taking Procrustes step\n",
        "error is 0.58063688118497903\n",
        "taking Procrustes step\n",
        "error is 0.57186355845136982\n",
        "taking Procrustes step\n",
        "error is 0.56322279910518069\n",
        "taking Procrustes step\n",
        "error is 0.55471260013640333\n",
        "taking Procrustes step\n",
        "error is 0.5463309888005019\n",
        "taking Procrustes step\n",
        "error is 0.53807602216054629\n",
        "taking Procrustes step\n",
        "error is 0.52994578663715997\n",
        "taking Procrustes step\n",
        "error is 0.52193839756469695\n",
        "taking Procrustes step\n",
        "error is 0.51405199875457253"
       ]
      },
      {
       "output_type": "stream",
       "stream": "stdout",
       "text": [
        "\n",
        "taking Procrustes step\n",
        "error is 0.50628476206492068\n",
        "taking Procrustes step\n",
        "error is 0.49863488697667957\n",
        "taking Procrustes step\n",
        "error is 0.49110060017637175\n",
        "taking Procrustes step\n",
        "error is 0.48368015514502033\n",
        "taking Procrustes step\n",
        "error is 0.47637183175317316\n",
        "taking Procrustes step\n",
        "error is 0.46917393586233097\n",
        "taking Procrustes step\n",
        "error is 0.46208479893201715\n",
        "taking Procrustes step\n",
        "error is 0.4551027776331934\n",
        "taking Procrustes step\n",
        "error is 0.4482262534672527\n",
        "taking Procrustes step\n",
        "error is 0.44145363239066271"
       ]
      },
      {
       "output_type": "stream",
       "stream": "stdout",
       "text": [
        "\n",
        "taking Procrustes step\n",
        "error is 0.43478334444588418\n",
        "taking Procrustes step\n",
        "error is 0.42821384339694135\n",
        "taking Procrustes step\n",
        "error is 0.42174360637125519\n",
        "taking Procrustes step\n",
        "error is 0.41537113350668348\n",
        "taking Procrustes step\n",
        "error is 0.40909494760366366\n",
        "taking Procrustes step\n",
        "error is 0.40291359378288288\n",
        "taking Procrustes step\n",
        "error is 0.3968256391479546\n",
        "taking Procrustes step\n",
        "error is 0.39082967245345074\n",
        "taking Procrustes step\n",
        "error is 0.38492430377739179\n",
        "taking Procrustes step\n",
        "error is 0.37910816419953453"
       ]
      },
      {
       "output_type": "stream",
       "stream": "stdout",
       "text": [
        "\n",
        "taking Procrustes step\n",
        "error is 0.37337990548358102\n",
        "taking Procrustes step\n",
        "error is 0.36773819976490263\n",
        "taking Procrustes step\n",
        "error is 0.36218173924274216\n",
        "taking Procrustes step\n",
        "error is 0.35670923587695125\n",
        "taking Procrustes step\n",
        "error is 0.35131942108941672\n",
        "taking Procrustes step\n",
        "error is 0.34601104547006245\n",
        "taking Procrustes step\n",
        "error is 0.34078287848712091\n",
        "taking Procrustes step\n",
        "error is 0.33563370820196331\n",
        "taking Procrustes step\n",
        "error is 0.3305623409882279\n",
        "taking Procrustes step\n",
        "error is 0.32556760125497314"
       ]
      },
      {
       "output_type": "stream",
       "stream": "stdout",
       "text": [
        "\n",
        "taking Procrustes step\n",
        "error is 0.32064833117416891\n",
        "taking Procrustes step\n",
        "error is 0.31580339041253036\n",
        "taking Procrustes step\n",
        "error is 0.3110316558668223\n",
        "taking Procrustes step\n",
        "error is 0.30633202140388327\n",
        "taking Procrustes step\n",
        "error is 0.30170339760390175\n",
        "taking Procrustes step\n",
        "error is 0.29714471150806065\n",
        "taking Procrustes step\n",
        "error is 0.29265490636974528\n",
        "taking Procrustes step\n",
        "error is 0.28823294140960548\n",
        "taking Procrustes step\n",
        "error is 0.28387779157435572\n",
        "taking Procrustes step\n",
        "error is 0.27958844729896565"
       ]
      },
      {
       "output_type": "stream",
       "stream": "stdout",
       "text": [
        "\n",
        "taking Procrustes step\n",
        "error is 0.27536391427286849\n",
        "taking Procrustes step\n",
        "error is 0.27120321320931062\n",
        "taking Procrustes step\n",
        "error is 0.26710537961836905\n",
        "taking Procrustes step\n",
        "error is 0.26306946358338329\n",
        "taking Procrustes step\n",
        "error is 0.25909452954084983\n",
        "taking Procrustes step\n",
        "error is 0.25517965606342202\n",
        "taking Procrustes step\n",
        "error is 0.25132393564636268\n",
        "taking Procrustes step\n",
        "error is 0.2475264744971353\n",
        "taking Procrustes step\n",
        "error is 0.24378639232831056\n",
        "taking Procrustes step\n",
        "error is 0.24010282215347536"
       ]
      },
      {
       "output_type": "stream",
       "stream": "stdout",
       "text": [
        "\n",
        "taking Procrustes step\n",
        "error is 0.23647491008615393\n",
        "taking Procrustes step\n",
        "error is 0.23290181514194597\n",
        "taking Procrustes step\n",
        "error is 0.22938270904364269\n",
        "taking Procrustes step\n",
        "error is 0.22591677602910235\n",
        "taking Procrustes step\n",
        "error is 0.22250321266231454\n",
        "taking Procrustes step\n",
        "error is 0.2191412276468683\n",
        "taking Procrustes step\n",
        "error is 0.2158300416428843\n",
        "taking Procrustes step\n",
        "error is 0.21256888708605773\n",
        "taking Procrustes step\n",
        "error is 0.20935700800991933\n",
        "taking Procrustes step\n",
        "error is 0.20619365987042199"
       ]
      },
      {
       "output_type": "stream",
       "stream": "stdout",
       "text": [
        "\n",
        "taking Procrustes step\n",
        "error is 0.20307810937358123\n",
        "taking Procrustes step\n",
        "error is 0.2000096343052622\n",
        "taking Procrustes step\n",
        "error is 0.19698752336391581\n",
        "taking Procrustes step\n",
        "error is 0.19401107599557527\n",
        "taking Procrustes step\n",
        "error is 0.19107960223157389\n",
        "taking Procrustes step\n",
        "error is 0.1881924225285703\n",
        "taking Procrustes step\n",
        "error is 0.18534886761092878\n",
        "taking Procrustes step\n",
        "error is 0.18254827831569789\n",
        "taking Procrustes step\n",
        "error is 0.17979000543981213\n",
        "taking Procrustes step\n",
        "error is 0.17707340958942988"
       ]
      },
      {
       "output_type": "stream",
       "stream": "stdout",
       "text": [
        "\n",
        "taking Procrustes step\n",
        "error is 0.17439786103198013\n",
        "taking Procrustes step\n",
        "error is 0.17176273954991608\n",
        "taking Procrustes step\n",
        "error is 0.16916743429717468\n",
        "taking Procrustes step\n",
        "error is 0.16661134365740943\n",
        "taking Procrustes step\n",
        "error is 0.16409387510460066\n",
        "taking Procrustes step\n",
        "error is 0.16161444506571032\n",
        "taking Procrustes step\n",
        "error is 0.15917247878538446\n",
        "taking Procrustes step\n",
        "error is 0.15676741019269372\n",
        "taking Procrustes step\n",
        "error is 0.15439868177000554\n",
        "taking Procrustes step\n",
        "error is 0.15206574442360324"
       ]
      },
      {
       "output_type": "stream",
       "stream": "stdout",
       "text": [
        "\n",
        "taking Procrustes step\n",
        "error is 0.14976805735655699\n",
        "taking Procrustes step\n",
        "error is 0.14750508794324066\n",
        "taking Procrustes step\n",
        "error is 0.14527631160589732\n",
        "taking Procrustes step\n",
        "error is 0.14308121169309385\n",
        "taking Procrustes step\n",
        "error is 0.14091927935986071\n",
        "taking Procrustes step\n",
        "error is 0.13879001344984412\n",
        "taking Procrustes step\n",
        "error is 0.13669292037902411\n",
        "taking Procrustes step\n",
        "error is 0.13462751402137896\n",
        "taking Procrustes step\n",
        "error is 0.13259331559616092\n",
        "taking Procrustes step\n",
        "error is 0.13058985355692074"
       ]
      },
      {
       "output_type": "stream",
       "stream": "stdout",
       "text": [
        "\n",
        "taking Procrustes step\n",
        "error is 0.12861666348216644\n",
        "taking Procrustes step\n",
        "error is 0.12667328796777944\n",
        "taking Procrustes step\n",
        "error is 0.12475927652091467\n",
        "taking Procrustes step\n",
        "error is 0.12287418545556103\n",
        "taking Procrustes step\n",
        "error is 0.1210175777898134\n",
        "taking Procrustes step\n",
        "error is 0.11918902314440644\n",
        "taking Procrustes step\n",
        "error is 0.11738809764306758\n",
        "taking Procrustes step\n",
        "error is 0.11561438381419877\n",
        "taking Procrustes step\n",
        "error is 0.11386747049416382\n",
        "taking Procrustes step\n",
        "error is 0.11214695273189183"
       ]
      },
      {
       "output_type": "stream",
       "stream": "stdout",
       "text": [
        "\n",
        "taking Procrustes step\n",
        "error is 0.11045243169511175\n",
        "taking Procrustes step\n",
        "error is 0.10878351457776274\n",
        "taking Procrustes step\n",
        "error is 0.10713981450908627\n",
        "taking Procrustes step\n",
        "error is 0.10552095046381936\n",
        "taking Procrustes step\n",
        "error is 0.10392654717396972\n",
        "taking Procrustes step\n",
        "error is 0.1023562350417349\n",
        "taking Procrustes step\n",
        "error is 0.10080965005391419\n",
        "taking Procrustes step\n",
        "error is 0.099286433697462165\n",
        "taking Procrustes step\n",
        "error is 0.097786232876397039\n",
        "taking Procrustes step\n",
        "error is 0.096308699829965136"
       ]
      },
      {
       "output_type": "stream",
       "stream": "stdout",
       "text": [
        "\n",
        "taking Procrustes step\n",
        "error is 0.094853492052026145\n",
        "taking Procrustes step\n",
        "error is 0.093420272211627325\n",
        "taking Procrustes step\n",
        "error is 0.092008708074849885\n",
        "taking Procrustes step\n",
        "error is 0.090618472427753977\n",
        "taking Procrustes step\n",
        "error is 0.089249243000556949\n",
        "taking Procrustes step\n",
        "error is 0.087900702392918639\n",
        "taking Procrustes step\n",
        "error is 0.086572538000343105\n",
        "taking Procrustes step\n",
        "error is 0.085264441941772476\n",
        "taking Procrustes step\n",
        "error is 0.083976110988131694\n",
        "taking Procrustes step\n",
        "error is 0.082707246492123451"
       ]
      },
      {
       "output_type": "stream",
       "stream": "stdout",
       "text": [
        "\n",
        "taking Procrustes step\n",
        "error is 0.08145755431894075\n",
        "taking Procrustes step\n",
        "error is 0.080226744778096951\n",
        "taking Procrustes step\n",
        "error is 0.07901453255628467\n",
        "taking Procrustes step\n",
        "error is 0.077820636651251385\n",
        "taking Procrustes step\n",
        "error is 0.076644780306609317\n",
        "taking Procrustes step\n",
        "error is 0.075486690947727433\n",
        "taking Procrustes step\n",
        "error is 0.074346100118530212\n",
        "taking Procrustes step\n",
        "error is 0.073222743419256803\n",
        "taking Procrustes step\n",
        "error is 0.07211636044519254\n",
        "taking Procrustes step\n",
        "error is 0.071026694726296261"
       ]
      },
      {
       "output_type": "stream",
       "stream": "stdout",
       "text": [
        "\n",
        "taking Procrustes step\n",
        "error is 0.069953493667725103\n",
        "taking Procrustes step\n",
        "error is 0.068896508491305949\n",
        "taking Procrustes step\n",
        "error is 0.06785549417789552\n",
        "taking Procrustes step\n",
        "error is 0.066830209410498789\n",
        "taking Procrustes step\n",
        "error is 0.065820416518395833\n",
        "taking Procrustes step\n",
        "error is 0.064825881422047857\n",
        "taking Procrustes step\n",
        "error is 0.063846373578792748\n",
        "taking Procrustes step\n",
        "error is 0.06288166592943123\n",
        "taking Procrustes step\n",
        "error is 0.061931534845612791\n",
        "taking Procrustes step\n",
        "error is 0.06099576007795398"
       ]
      },
      {
       "output_type": "stream",
       "stream": "stdout",
       "text": [
        "\n",
        "taking Procrustes step\n",
        "error is 0.060074124704995062\n",
        "taking Procrustes step\n",
        "error is 0.059166415082935749\n",
        "taking Procrustes step\n",
        "error is 0.058272420796087521\n",
        "taking Procrustes step\n",
        "error is 0.057391934608118325\n",
        "taking Procrustes step\n",
        "error is 0.056524752413981111\n",
        "taking Procrustes step\n",
        "error is 0.055670673192644453\n",
        "taking Procrustes step\n",
        "error is 0.054829498960446421\n",
        "taking Procrustes step\n",
        "error is 0.054001034725247143\n",
        "taking Procrustes step\n",
        "error is 0.053185088441183088\n",
        "taking Procrustes step\n",
        "error is 0.052381470964185634"
       ]
      },
      {
       "output_type": "stream",
       "stream": "stdout",
       "text": [
        "\n",
        "taking Procrustes step\n",
        "error is 0.051589996008116305\n",
        "taking Procrustes step\n",
        "error is 0.05081048010158061\n",
        "taking Procrustes step\n",
        "error is 0.050042742545421612\n",
        "taking Procrustes step\n",
        "error is 0.049286605370789181\n",
        "taking Procrustes step\n",
        "error is 0.048541893297937969\n",
        "taking Procrustes step\n",
        "error is 0.047808433695552648\n",
        "taking Procrustes step\n",
        "error is 0.047086056540766481\n",
        "taking Procrustes step\n",
        "error is 0.046374594379694052\n",
        "taking Procrustes step\n",
        "error is 0.045673882288689509\n",
        "taking Procrustes step\n",
        "error is 0.044983757836039119"
       ]
      },
      {
       "output_type": "stream",
       "stream": "stdout",
       "text": [
        "\n",
        "taking Procrustes step\n",
        "error is 0.044304061044376737\n",
        "taking Procrustes step\n",
        "error is 0.043634634353531529\n",
        "taking Procrustes step\n",
        "error is 0.04297532258407763\n",
        "taking Procrustes step\n",
        "error is 0.042325972901294001\n",
        "taking Procrustes step\n",
        "error is 0.041686434779778084\n",
        "taking Procrustes step\n",
        "error is 0.04105655996853861\n",
        "taking Procrustes step\n",
        "error is 0.040436202456627442\n",
        "taking Procrustes step\n",
        "error is 0.039825218439302083\n",
        "taking Procrustes step\n",
        "error is 0.03922346628468823\n",
        "taking Procrustes step\n",
        "error is 0.038630806500929905"
       ]
      },
      {
       "output_type": "stream",
       "stream": "stdout",
       "text": [
        "\n",
        "taking Procrustes step\n",
        "error is 0.038047101703877893\n",
        "taking Procrustes step\n",
        "error is 0.037472216585241566\n",
        "taking Procrustes step\n",
        "error is 0.036906017881199703\n",
        "taking Procrustes step\n",
        "error is 0.036348374341534852\n",
        "taking Procrustes step\n",
        "error is 0.035799156699200051\n",
        "taking Procrustes step\n",
        "error is 0.035258237640336025\n",
        "taking Procrustes step\n",
        "error is 0.034725491774787356\n",
        "taking Procrustes step\n",
        "error is 0.034200795607021064\n",
        "taking Procrustes step\n",
        "error is 0.033684027507492366\n",
        "taking Procrustes step\n",
        "error is 0.033175067684468693"
       ]
      },
      {
       "output_type": "stream",
       "stream": "stdout",
       "text": [
        "\n",
        "taking Procrustes step\n",
        "error is 0.032673798156235272\n",
        "taking Procrustes step\n",
        "error is 0.03218010272377584\n",
        "taking Procrustes step\n",
        "error is 0.031693866943821043\n",
        "taking Procrustes step\n",
        "error is 0.031214978102305637\n",
        "taking Procrustes step\n",
        "error is 0.030743325188258053\n",
        "taking Procrustes step\n",
        "error is 0.030278798868073824\n",
        "taking Procrustes step\n",
        "error is 0.029821291460150119\n",
        "taking Procrustes step\n",
        "error is 0.029370696909942734\n",
        "taking Procrustes step\n",
        "error is 0.02892691076536294\n",
        "taking Procrustes step\n",
        "error is 0.028489830152582492"
       ]
      },
      {
       "output_type": "stream",
       "stream": "stdout",
       "text": [
        "\n",
        "taking Procrustes step\n",
        "error is 0.028059353752182846\n",
        "taking Procrustes step\n",
        "error is 0.027635381775647071\n",
        "taking Procrustes step\n",
        "error is 0.027217815942269762\n",
        "taking Procrustes step\n",
        "error is 0.02680655945632595\n",
        "taking Procrustes step\n",
        "error is 0.026401516984675539\n",
        "taking Procrustes step\n",
        "error is 0.026002594634630689\n",
        "taking Procrustes step\n",
        "error is 0.025609699932225366\n",
        "taking Procrustes step\n",
        "error is 0.025222741800738878\n",
        "taking Procrustes step\n",
        "error is 0.024841630539612289\n",
        "taking Procrustes step\n",
        "error is 0.024466277803653468"
       ]
      },
      {
       "output_type": "stream",
       "stream": "stdout",
       "text": [
        "\n",
        "taking Procrustes step\n",
        "error is 0.024096596582538484\n",
        "taking Procrustes step\n",
        "error is 0.023732501180660996\n",
        "taking Procrustes step\n",
        "error is 0.023373907197261637\n",
        "taking Procrustes step\n",
        "error is 0.023020731506857076\n",
        "taking Procrustes step\n",
        "error is 0.022672892239980744\n",
        "taking Procrustes step\n",
        "error is 0.022330308764195627\n",
        "taking Procrustes step\n",
        "error is 0.021992901665407658\n",
        "taking Procrustes step\n",
        "error is 0.021660592729463166\n",
        "taking Procrustes step\n",
        "error is 0.021333304923995204\n",
        "taking Procrustes step\n",
        "error is 0.021010962380596302"
       ]
      },
      {
       "output_type": "stream",
       "stream": "stdout",
       "text": [
        "\n",
        "taking Procrustes step\n",
        "error is 0.020693490377211875\n",
        "taking Procrustes step\n",
        "error is 0.020380815320828766\n",
        "taking Procrustes step\n",
        "error is 0.020072864730403168\n",
        "taking Procrustes step\n",
        "error is 0.019769567220075432\n",
        "taking Procrustes step\n",
        "error is 0.019470852482611753\n",
        "taking Procrustes step\n",
        "error is 0.019176651273108036\n",
        "taking Procrustes step\n",
        "error is 0.018886895392933856\n",
        "taking Procrustes step\n",
        "error is 0.018601517673938722\n",
        "taking Procrustes step\n",
        "error is 0.018320451962861192\n",
        "taking Procrustes step\n",
        "error is 0.018043633106008036"
       ]
      },
      {
       "output_type": "stream",
       "stream": "stdout",
       "text": [
        "\n",
        "taking Procrustes step\n",
        "error is 0.017770996934153491\n",
        "taking Procrustes step\n",
        "error is 0.017502480247644111\n",
        "taking Procrustes step\n",
        "error is 0.017238020801771975\n",
        "taking Procrustes step\n",
        "error is 0.016977557292333474\n",
        "taking Procrustes step\n",
        "error is 0.016721029341423138\n",
        "taking Procrustes step\n",
        "error is 0.016468377483432741\n",
        "taking Procrustes step\n",
        "error is 0.016219543151265368\n",
        "taking Procrustes step\n",
        "error is 0.015974468662771961\n",
        "taking Procrustes step\n",
        "error is 0.015733097207361421\n",
        "taking Procrustes step\n",
        "error is 0.015495372832848894"
       ]
      },
      {
       "output_type": "stream",
       "stream": "stdout",
       "text": [
        "\n",
        "taking Procrustes step\n",
        "error is 0.015261240432471125\n",
        "taking Procrustes step\n",
        "error is 0.015030645732121244\n",
        "taking Procrustes step\n",
        "error is 0.014803535277764708\n",
        "taking Procrustes step\n",
        "error is 0.014579856423047818\n",
        "taking Procrustes step\n",
        "error is 0.014359557317094528\n",
        "taking Procrustes step\n",
        "error is 0.014142586892485903\n",
        "taking Procrustes step\n",
        "error is 0.013928894853423357\n",
        "taking Procrustes step\n",
        "error is 0.013718431664067677\n",
        "taking Procrustes step\n",
        "error is 0.013511148537061103\n",
        "taking Procrustes step\n",
        "error is 0.013306997422210216"
       ]
      },
      {
       "output_type": "stream",
       "stream": "stdout",
       "text": [
        "\n",
        "taking Procrustes step\n",
        "error is 0.013105930995355846\n",
        "taking Procrustes step\n",
        "error is 0.012907902647393971\n",
        "taking Procrustes step\n",
        "error is 0.012712866473481403\n",
        "taking Procrustes step\n",
        "error is 0.012520777262383985\n",
        "taking Procrustes step\n",
        "error is 0.012331590486004967\n",
        "taking Procrustes step\n",
        "error is 0.012145262289057573\n",
        "taking Procrustes step\n",
        "error is 0.011961749478902529\n",
        "taking Procrustes step\n",
        "error is 0.011781009515532192\n",
        "taking Procrustes step\n",
        "error is 0.011603000501711801\n",
        "taking Procrustes step\n",
        "error is 0.011427681173268348"
       ]
      },
      {
       "output_type": "stream",
       "stream": "stdout",
       "text": [
        "\n",
        "taking Procrustes step\n",
        "error is 0.011255010889519114\n",
        "taking Procrustes step\n",
        "error is 0.011084949623858684\n",
        "taking Procrustes step\n",
        "error is 0.010917457954474399\n",
        "taking Procrustes step\n",
        "error is 0.010752497055212154\n",
        "taking Procrustes step\n",
        "error is 0.010590028686573352\n",
        "taking Procrustes step\n",
        "error is 0.010430015186852964\n",
        "taking Procrustes step\n",
        "error is 0.010272419463406585\n",
        "taking Procrustes step\n",
        "error is 0.010117204984051924\n",
        "taking Procrustes step\n",
        "error is 0.0099643357686030748\n",
        "taking Procrustes step\n",
        "error is 0.0098137763805305617"
       ]
      },
      {
       "output_type": "stream",
       "stream": "stdout",
       "text": [
        "\n",
        "taking Procrustes step\n",
        "error is 0.0096654919187409774\n",
        "taking Procrustes step\n",
        "error is 0.0095194480094932914\n",
        "taking Procrustes step\n",
        "error is 0.0093756107984249715\n",
        "taking Procrustes step\n",
        "error is 0.0092339469427093444\n",
        "taking Procrustes step\n",
        "error is 0.0090944236033237476\n",
        "taking Procrustes step\n",
        "error is 0.0089570084374370265\n",
        "taking Procrustes step\n",
        "error is 0.0088216695909129443\n",
        "taking Procrustes step\n",
        "error is 0.0086883756909252857\n",
        "taking Procrustes step\n",
        "error is 0.0085570958386852417\n",
        "taking Procrustes step\n",
        "error is 0.0084277996022805446"
       ]
      },
      {
       "output_type": "stream",
       "stream": "stdout",
       "text": [
        "\n",
        "taking Procrustes step\n",
        "error is 0.008300457009619136\n",
        "taking Procrustes step\n",
        "error is 0.0081750385414830987\n",
        "taking Procrustes step\n",
        "error is 0.008051515124683618\n",
        "taking Procrustes step\n",
        "error is 0.0079298581253223303\n",
        "taking Procrustes step\n",
        "error is 0.0078100393421567157\n",
        "taking Procrustes step\n",
        "error is 0.0076920310000560491\n",
        "taking Procrustes step\n",
        "error is 0.0075758057435716744\n",
        "taking Procrustes step\n",
        "error is 0.0074613366305871232\n",
        "taking Procrustes step\n",
        "error is 0.0073485971260781264\n",
        "taking Procrustes step\n",
        "error is 0.0072375610959625964"
       ]
      },
      {
       "output_type": "stream",
       "stream": "stdout",
       "text": [
        "\n",
        "taking Procrustes step\n",
        "error is 0.0071282028010340023\n",
        "taking Procrustes step\n",
        "error is 0.007020496891005759\n",
        "taking Procrustes step\n",
        "error is 0.0069144183986281022\n",
        "taking Procrustes step\n",
        "error is 0.0068099427339016246\n",
        "taking Procrustes step\n",
        "error is 0.0067070456783801594\n",
        "taking Procrustes step\n",
        "error is 0.0066057033795487623\n",
        "taking Procrustes step\n",
        "error is 0.0065058923453045038\n",
        "taking Procrustes step\n",
        "error is 0.0064075894385058228\n",
        "taking Procrustes step\n",
        "error is 0.0063107718716063615\n",
        "taking Procrustes step\n",
        "error is 0.006215417201377884"
       ]
      },
      {
       "output_type": "stream",
       "stream": "stdout",
       "text": [
        "\n",
        "taking Procrustes step\n",
        "error is 0.0061215033237058541\n",
        "taking Procrustes step\n",
        "error is 0.0060290084684638517\n",
        "taking Procrustes step\n",
        "error is 0.0059379111944681809\n",
        "taking Procrustes step\n",
        "error is 0.0058481903845082756\n",
        "taking Procrustes step\n",
        "error is 0.005759825240450888\n",
        "taking Procrustes step\n",
        "error is 0.0056727952784196298\n",
        "taking Procrustes step\n",
        "error is 0.005587080324045134\n",
        "taking Procrustes step\n",
        "error is 0.0055026605077884705\n",
        "taking Procrustes step\n",
        "error is 0.0054195162603377462\n",
        "taking Procrustes step\n",
        "error is 0.005337628308069409"
       ]
      },
      {
       "output_type": "stream",
       "stream": "stdout",
       "text": [
        "\n",
        "taking Procrustes step\n",
        "error is 0.0052569776685799929\n",
        "taking Procrustes step\n",
        "error is 0.0051775456462890002\n",
        "taking Procrustes step\n",
        "error is 0.005099313828099126\n",
        "taking Procrustes step\n",
        "error is 0.005022264079136785\n",
        "taking Procrustes step\n",
        "error is 0.0049463785385391902\n",
        "taking Procrustes step\n",
        "error is 0.0048716396153198963\n",
        "taking Procrustes step\n",
        "error is 0.0047980299842891993\n",
        "taking Procrustes step\n",
        "error is 0.0047255325820369414\n",
        "taking Procrustes step\n",
        "error is 0.0046541306029798876\n",
        "taking Procrustes step\n",
        "error is 0.0045838074954624112"
       ]
      },
      {
       "output_type": "stream",
       "stream": "stdout",
       "text": [
        "\n",
        "taking Procrustes step\n",
        "error is 0.0045145469579225151\n",
        "taking Procrustes step\n",
        "error is 0.0044463329351125446\n",
        "taking Procrustes step\n",
        "error is 0.0043791496143747478\n",
        "taking Procrustes step\n",
        "error is 0.0043129814219796409\n",
        "taking Procrustes step\n",
        "error is 0.0042478130195156378\n",
        "taking Procrustes step\n",
        "error is 0.0041836293003276841\n",
        "taking Procrustes step\n",
        "error is 0.0041204153860225643\n",
        "taking Procrustes step\n",
        "error is 0.0040581566230168597\n",
        "taking Procrustes step\n",
        "error is 0.0039968385791395878\n",
        "taking Procrustes step\n",
        "error is 0.0039364470402881236"
       ]
      },
      {
       "output_type": "stream",
       "stream": "stdout",
       "text": [
        "\n",
        "taking Procrustes step\n",
        "error is 0.0038769680071310004\n",
        "taking Procrustes step\n",
        "error is 0.0038183876918660904\n",
        "taking Procrustes step\n",
        "error is 0.0037606925150210288\n",
        "taking Procrustes step\n",
        "error is 0.0037038691023079488\n",
        "taking Procrustes step\n",
        "error is 0.0036479042815214754\n",
        "taking Procrustes step\n",
        "error is 0.0035927850794866818\n",
        "taking Procrustes step\n",
        "error is 0.0035384987190503242\n",
        "taking Procrustes step\n",
        "error is 0.0034850326161199002\n",
        "taking Procrustes step\n",
        "error is 0.0034323743767463622\n",
        "taking Procrustes step\n",
        "error is 0.0033805117942524343"
       ]
      },
      {
       "output_type": "stream",
       "stream": "stdout",
       "text": [
        "\n",
        "taking Procrustes step\n",
        "error is 0.003329432846398887\n",
        "taking Procrustes step\n",
        "error is 0.0032791256926035877\n",
        "taking Procrustes step\n",
        "error is 0.0032295786711905227\n",
        "taking Procrustes step\n",
        "error is 0.0031807802966916741\n",
        "taking Procrustes step\n",
        "error is 0.0031327192571816956\n",
        "taking Procrustes step\n",
        "error is 0.003085384411656956\n",
        "taking Procrustes step\n",
        "error is 0.003038764787451625\n",
        "taking Procrustes step\n",
        "error is 0.0029928495776954389\n",
        "taking Procrustes step\n",
        "error is 0.0029476281388079724\n",
        "taking Procrustes step\n",
        "error is 0.0029030899880320101"
       ]
      },
      {
       "output_type": "stream",
       "stream": "stdout",
       "text": [
        "\n",
        "taking Procrustes step\n",
        "error is 0.0028592248010024307\n",
        "taking Procrustes step\n",
        "error is 0.0028160224093527527\n",
        "taking Procrustes step\n",
        "error is 0.002773472798360304\n",
        "taking Procrustes step\n",
        "error is 0.0027315661046222739\n",
        "taking Procrustes step\n",
        "error is 0.0026902926137702399\n",
        "taking Procrustes step\n",
        "error is 0.0026496427582182814\n",
        "taking Procrustes step\n",
        "error is 0.0026096071149445859\n",
        "taking Procrustes step\n",
        "error is 0.002570176403308329\n",
        "taking Procrustes step\n",
        "error is 0.0025313414828976957\n",
        "taking Procrustes step\n",
        "error is 0.0024930933514094675"
       ]
      },
      {
       "output_type": "stream",
       "stream": "stdout",
       "text": [
        "\n",
        "taking Procrustes step\n",
        "error is 0.0024554231425652972\n",
        "taking Procrustes step\n",
        "error is 0.0024183221240540093\n",
        "taking Procrustes step\n",
        "error is 0.0023817816955078713\n",
        "taking Procrustes step\n",
        "error is 0.0023457933865102904\n",
        "taking Procrustes step\n",
        "error is 0.0023103488546297019\n",
        "taking Procrustes step\n",
        "error is 0.0022754398834883664\n",
        "taking Procrustes step\n",
        "error is 0.0022410583808564503\n",
        "taking Procrustes step\n",
        "error is 0.0022071963767756964\n",
        "taking Procrustes step\n",
        "error is 0.0021738460217131934\n",
        "taking Procrustes step\n",
        "error is 0.0021409995847409976"
       ]
      },
      {
       "output_type": "stream",
       "stream": "stdout",
       "text": [
        "\n",
        "taking Procrustes step\n",
        "error is 0.0021086494517438305\n",
        "taking Procrustes step\n",
        "error is 0.0020767881236545536\n",
        "taking Procrustes step\n",
        "error is 0.0020454082147157806\n",
        "taking Procrustes step\n",
        "error is 0.0020145024507672808\n",
        "taking Procrustes step\n",
        "error is 0.0019840636675607592\n",
        "taking Procrustes step\n",
        "error is 0.0019540848090975685\n",
        "taking Procrustes step\n",
        "error is 0.0019245589259948802\n",
        "taking Procrustes step\n",
        "error is 0.0018954791738733322\n",
        "taking Procrustes step\n",
        "error is 0.0018668388117707277\n",
        "taking Procrustes step\n",
        "error is 0.0018386312005805468"
       ]
      },
      {
       "output_type": "stream",
       "stream": "stdout",
       "text": [
        "\n",
        "taking Procrustes step\n",
        "error is 0.0018108498015108521\n",
        "taking Procrustes step\n",
        "error is 0.0017834881745705886\n",
        "taking Procrustes step\n",
        "error is 0.001756539977075605\n",
        "taking Procrustes step\n",
        "error is 0.0017299989621786592\n",
        "taking Procrustes step\n",
        "error is 0.0017038589774209124\n",
        "taking Procrustes step\n",
        "error is 0.0016781139633065851\n",
        "taking Procrustes step\n",
        "error is 0.0016527579518975028\n",
        "taking Procrustes step\n",
        "error is 0.0016277850654303073\n",
        "taking Procrustes step\n",
        "error is 0.0016031895149534797\n",
        "taking Procrustes step\n",
        "error is 0.0015789655989854492"
       ]
      },
      {
       "output_type": "stream",
       "stream": "stdout",
       "text": [
        "\n",
        "taking Procrustes step\n",
        "error is 0.0015551077021931617\n",
        "taking Procrustes step\n",
        "error is 0.0015316102940900981\n",
        "taking Procrustes step\n",
        "error is 0.0015084679277548496\n",
        "taking Procrustes step\n",
        "error is 0.001485675238567716\n",
        "taking Procrustes step\n",
        "error is 0.001463226942967283\n",
        "taking Procrustes step\n",
        "error is 0.001441117837226599\n",
        "taking Procrustes step\n",
        "error is 0.0014193427962452157\n",
        "taking Procrustes step\n",
        "error is 0.0013978967723625171\n",
        "taking Procrustes step\n",
        "error is 0.0013767747941872037\n",
        "taking Procrustes step\n",
        "error is 0.0013559719654447776"
       ]
      },
      {
       "output_type": "stream",
       "stream": "stdout",
       "text": [
        "\n",
        "taking Procrustes step\n",
        "error is 0.0013354834638423761\n",
        "taking Procrustes step\n",
        "error is 0.0013153045399516285\n",
        "taking Procrustes step\n",
        "error is 0.0012954305161066574\n",
        "taking Procrustes step\n",
        "error is 0.0012758567853206246\n",
        "taking Procrustes step\n",
        "error is 0.0012565788102174816\n",
        "taking Procrustes step\n",
        "error is 0.0012375921219800617\n",
        "taking Procrustes step\n",
        "error is 0.0012188923193141923\n",
        "taking Procrustes step\n",
        "error is 0.0012004750674285873\n",
        "taking Procrustes step\n",
        "error is 0.0011823360970298858\n",
        "taking Procrustes step\n",
        "error is 0.0011644712033331776"
       ]
      },
      {
       "output_type": "stream",
       "stream": "stdout",
       "text": [
        "\n",
        "taking Procrustes step\n",
        "error is 0.0011468762450867528\n",
        "taking Procrustes step\n",
        "error is 0.0011295471436126169\n",
        "taking Procrustes step\n",
        "error is 0.0011124798818612726\n",
        "taking Procrustes step\n",
        "error is 0.0010956705034795803\n",
        "taking Procrustes step\n",
        "error is 0.0010791151118945018\n",
        "taking Procrustes step\n",
        "error is 0.0010628098694097073\n",
        "taking Procrustes step\n",
        "error is 0.0010467509963156955\n",
        "taking Procrustes step\n",
        "error is 0.0010309347700131733\n",
        "taking Procrustes step\n",
        "error is 0.0010153575241513681\n",
        "taking Procrustes step\n",
        "error is 0.0010000156477773994"
       ]
      },
      {
       "output_type": "stream",
       "stream": "stdout",
       "text": [
        "\n",
        "taking Procrustes step\n",
        "error is 0.00098490558449876526\n",
        "taking Procrustes step\n",
        "error is 0.00097002383165992331\n",
        "taking Procrustes step\n",
        "error is 0.00095536693952956951\n",
        "taking Procrustes step\n",
        "error is 0.00094093151050137869\n",
        "taking Procrustes step\n",
        "error is 0.00092671419830614573\n",
        "taking Procrustes step\n",
        "error is 0.00091271170723657028\n",
        "taking Procrustes step\n",
        "error is 0.00089892079138222212\n",
        "taking Procrustes step\n",
        "error is 0.00088533825387857577\n",
        "taking Procrustes step\n",
        "error is 0.0008719609461646234\n",
        "taking Procrustes step\n",
        "error is 0.00085878576725385055"
       ]
      },
      {
       "output_type": "stream",
       "stream": "stdout",
       "text": [
        "\n",
        "taking Procrustes step\n",
        "error is 0.00084580966301519428\n",
        "taking Procrustes step\n",
        "error is 0.0008330296254645146\n",
        "taking Procrustes step\n",
        "error is 0.00082044269206831997\n",
        "taking Procrustes step\n",
        "error is 0.00080804594505631247\n",
        "taking Procrustes step\n",
        "error is 0.00079583651074494901\n",
        "taking Procrustes step\n",
        "error is 0.00078381155887195981\n",
        "taking Procrustes step\n",
        "error is 0.00077196830193958482\n",
        "taking Procrustes step\n",
        "error is 0.00076030399456871074\n",
        "taking Procrustes step\n",
        "error is 0.00074881593286240051\n",
        "taking Procrustes step\n",
        "error is 0.00073750145377929322"
       ]
      },
      {
       "output_type": "stream",
       "stream": "stdout",
       "text": [
        "\n",
        "taking Procrustes step\n",
        "error is 0.00072635793451594972\n",
        "taking Procrustes step\n",
        "error is 0.0007153827918991298\n",
        "taking Procrustes step\n",
        "error is 0.00070457348178678636\n",
        "taking Procrustes step\n",
        "error is 0.00069392749847857038\n",
        "taking Procrustes step\n",
        "error is 0.0006834423741346674\n",
        "taking Procrustes step\n",
        "error is 0.00067311567820412357\n",
        "taking Procrustes step\n",
        "error is 0.00066294501686088743\n",
        "taking Procrustes step\n",
        "error is 0.00065292803244941229\n",
        "taking Procrustes step\n",
        "error is 0.00064306240293789151\n",
        "taking Procrustes step\n",
        "error is 0.00063334584138003552"
       ]
      },
      {
       "output_type": "stream",
       "stream": "stdout",
       "text": [
        "\n",
        "taking Procrustes step\n",
        "error is 0.00062377609538479038\n",
        "taking Procrustes step\n",
        "error is 0.00061435094659449067\n",
        "taking Procrustes step\n",
        "error is 0.00060506821017039265\n",
        "taking Procrustes step\n",
        "error is 0.00059592573428625644\n",
        "taking Procrustes step\n",
        "error is 0.0005869213996297038\n",
        "taking Procrustes step\n",
        "error is 0.00057805311891064015\n",
        "taking Procrustes step\n",
        "error is 0.0005693188363776197\n",
        "taking Procrustes step\n",
        "error is 0.00056071652734124159\n",
        "taking Procrustes step\n",
        "error is 0.00055224419770497199\n",
        "taking Procrustes step\n",
        "error is 0.00054389988350236386"
       ]
      },
      {
       "output_type": "stream",
       "stream": "stdout",
       "text": [
        "\n",
        "taking Procrustes step\n",
        "error is 0.00053568165044249455\n",
        "taking Procrustes step\n",
        "error is 0.00052758759346116036\n",
        "taking Procrustes step\n",
        "error is 0.00051961583627922595\n",
        "taking Procrustes step\n",
        "error is 0.00051176453096796106\n",
        "taking Procrustes step\n",
        "error is 0.0005040318575204861\n",
        "taking Procrustes step\n",
        "error is 0.00049641602342977056\n",
        "taking Procrustes step\n",
        "error is 0.00048891526327346892\n",
        "taking Procrustes step\n",
        "error is 0.00048152783830432698\n",
        "taking Procrustes step\n",
        "error is 0.00047425203604729735\n",
        "taking Procrustes step\n",
        "error is 0.00046708616990248181"
       ]
      },
      {
       "output_type": "stream",
       "stream": "stdout",
       "text": [
        "\n",
        "taking Procrustes step\n",
        "error is 0.00046002857875436628\n",
        "taking Procrustes step\n",
        "error is 0.00045307762658631162\n",
        "taking Procrustes step\n",
        "error is 0.00044623170210200588\n",
        "taking Procrustes step\n",
        "error is 0.00043948921835121389\n",
        "taking Procrustes step\n",
        "error is 0.00043284861236241983\n",
        "taking Procrustes step\n",
        "error is 0.00042630834478024268\n",
        "taking Procrustes step\n",
        "error is 0.00041986689950868571\n",
        "taking Procrustes step\n",
        "error is 0.00041352278335983239\n",
        "taking Procrustes step\n",
        "error is 0.00040727452570749452\n",
        "taking Procrustes step\n",
        "error is 0.00040112067814633215"
       ]
      },
      {
       "output_type": "stream",
       "stream": "stdout",
       "text": [
        "\n",
        "taking Procrustes step\n",
        "error is 0.00039505981415623902\n",
        "taking Procrustes step\n",
        "error is 0.00038909052877157414\n",
        "taking Procrustes step\n",
        "error is 0.00038321143825544225\n",
        "taking Procrustes step\n",
        "error is 0.00037742117977897428\n",
        "taking Procrustes step\n",
        "error is 0.00037171841110549008\n",
        "taking Procrustes step\n",
        "error is 0.0003661018102791975\n",
        "taking Procrustes step\n",
        "error is 0.00036057007531885066\n",
        "taking Procrustes step\n",
        "error is 0.00035512192391585736\n",
        "taking Procrustes step\n",
        "error is 0.00034975609313718932\n",
        "taking Procrustes step\n",
        "error is 0.00034447133913248826"
       ]
      },
      {
       "output_type": "stream",
       "stream": "stdout",
       "text": [
        "\n",
        "taking Procrustes step\n",
        "error is 0.00033926643684568144\n",
        "taking Procrustes step\n",
        "error is 0.00033414017973118905\n",
        "taking Procrustes step\n",
        "error is 0.0003290913794740384\n",
        "taking Procrustes step\n",
        "error is 0.00032411886571452234\n",
        "taking Procrustes step\n",
        "error is 0.00031922148577689263\n",
        "taking Procrustes step\n",
        "error is 0.00031439810440213773\n",
        "taking Procrustes step\n",
        "error is 0.00030964760348473357\n",
        "taking Procrustes step\n",
        "error is 0.00030496888181363906\n",
        "taking Procrustes step\n",
        "error is 0.00030036085481677878\n",
        "taking Procrustes step\n",
        "error is 0.00029582245430996514"
       ]
      },
      {
       "output_type": "stream",
       "stream": "stdout",
       "text": [
        "\n",
        "taking Procrustes step\n",
        "error is 0.00029135262824896244\n",
        "taking Procrustes step\n",
        "error is 0.00028695034048571748\n",
        "taking Procrustes step\n",
        "error is 0.00028261457052838039\n",
        "taking Procrustes step\n",
        "error is 0.00027834431330428646\n",
        "taking Procrustes step\n",
        "error is 0.00027413857892740867\n",
        "taking Procrustes step\n",
        "error is 0.00026999639246875622\n",
        "taking Procrustes step\n",
        "error is 0.00026591679373019268\n",
        "taking Procrustes step\n",
        "error is 0.00026189883702218934\n",
        "taking Procrustes step\n",
        "error is 0.00025794159094428523\n",
        "taking Procrustes step\n",
        "error is 0.0002540441381693961"
       ]
      },
      {
       "output_type": "stream",
       "stream": "stdout",
       "text": [
        "\n",
        "taking Procrustes step\n",
        "error is 0.00025020557523110318\n",
        "taking Procrustes step\n",
        "error is 0.0002464250123141125\n",
        "taking Procrustes step\n",
        "error is 0.00024270157304815676\n",
        "taking Procrustes step\n",
        "error is 0.00023903439430480084\n",
        "taking Procrustes step\n",
        "error is 0.00023542262599724311\n",
        "taking Procrustes step\n",
        "error is 0.00023186543088342038\n",
        "taking Procrustes step\n",
        "error is 0.00022836198437177255\n",
        "taking Procrustes step\n",
        "error is 0.00022491147433033185\n",
        "taking Procrustes step\n",
        "error is 0.00022151310089809324\n",
        "taking Procrustes step\n",
        "error is 0.00021816607629999554"
       ]
      },
      {
       "output_type": "stream",
       "stream": "stdout",
       "text": [
        "\n",
        "taking Procrustes step\n",
        "error is 0.00021486962466399094\n",
        "taking Procrustes step\n",
        "error is 0.00021162298184142404\n",
        "taking Procrustes step\n",
        "error is 0.00020842539522971361\n",
        "taking Procrustes step\n",
        "error is 0.00020527612359804543\n",
        "taking Procrustes step\n",
        "error is 0.00020217443691539599\n",
        "taking Procrustes step\n",
        "error is 0.00019911961618142307\n",
        "taking Procrustes step\n",
        "error is 0.00019611095325983231\n",
        "taking Procrustes step\n",
        "error is 0.00019314775071397421\n",
        "taking Procrustes step\n",
        "error is 0.00019022932164549855\n",
        "taking Procrustes step\n",
        "error is 0.0001873549895348949"
       ]
      },
      {
       "output_type": "stream",
       "stream": "stdout",
       "text": [
        "\n",
        "taking Procrustes step\n",
        "error is 0.00018452408808478655\n",
        "taking Procrustes step\n",
        "error is 0.00018173596106538909\n",
        "taking Procrustes step\n",
        "error is 0.00017898996216247288\n",
        "taking Procrustes step\n",
        "error is 0.00017628545482751171\n",
        "taking Procrustes step\n",
        "error is 0.00017362181213004192\n",
        "taking Procrustes step\n",
        "error is 0.00017099841661254194\n",
        "taking Procrustes step\n",
        "error is 0.00016841466014701242\n",
        "taking Procrustes step\n",
        "error is 0.00016586994379432356\n",
        "taking Procrustes step\n",
        "error is 0.00016336367766506564\n",
        "taking Procrustes step\n",
        "error is 0.0001608952807830451"
       ]
      },
      {
       "output_type": "stream",
       "stream": "stdout",
       "text": [
        "\n",
        "taking Procrustes step\n",
        "error is 0.00015846418095049697\n",
        "taking Procrustes step\n",
        "error is 0.00015606981461544641\n",
        "taking Procrustes step\n",
        "error is 0.00015371162674114675\n",
        "taking Procrustes step\n",
        "error is 0.00015138907067725236\n",
        "taking Procrustes step\n",
        "error is 0.00014910160803335607\n",
        "taking Procrustes step\n",
        "error is 0.00014684870855389331\n",
        "taking Procrustes step\n",
        "error is 0.00014462984999547571\n",
        "taking Procrustes step\n",
        "error is 0.00014244451800565655\n",
        "taking Procrustes step\n",
        "error is 0.00014029220600379402\n",
        "taking Procrustes step\n",
        "error is 0.00013817241506361571"
       ]
      },
      {
       "output_type": "stream",
       "stream": "stdout",
       "text": [
        "\n",
        "taking Procrustes step\n",
        "error is 0.00013608465379747194\n",
        "taking Procrustes step\n",
        "error is 0.00013402843824255646\n",
        "taking Procrustes step\n",
        "error is 0.00013200329174863025\n",
        "taking Procrustes step\n",
        "error is 0.00013000874486753094\n",
        "taking Procrustes step\n",
        "error is 0.00012804433524447577\n",
        "taking Procrustes step\n",
        "error is 0.00012610960751064296\n",
        "taking Procrustes step\n",
        "error is 0.00012420411317787733\n",
        "taking Procrustes step\n",
        "error is 0.00012232741053451514\n",
        "taking Procrustes step\n",
        "error is 0.00012047906454314998\n",
        "taking Procrustes step\n",
        "error is 0.00011865864673964173"
       ]
      },
      {
       "output_type": "stream",
       "stream": "stdout",
       "text": [
        "\n",
        "taking Procrustes step\n",
        "error is 0.00011686573513393962\n",
        "taking Procrustes step\n",
        "error is 0.00011509991411213813\n",
        "taking Procrustes step\n",
        "error is 0.00011336077434021432\n",
        "taking Procrustes step\n",
        "error is 0.00011164791266910447\n",
        "taking Procrustes step\n",
        "error is 0.00010996093204125846\n",
        "taking Procrustes step\n",
        "error is 0.00010829944139857625\n",
        "taking Procrustes step\n",
        "error is 0.00010666305559180623\n",
        "taking Procrustes step\n",
        "error is 0.00010505139529122982\n",
        "taking Procrustes step\n",
        "error is 0.000103464086898718\n",
        "taking Procrustes step\n",
        "error is 0.00010190076246116184"
       ]
      },
      {
       "output_type": "stream",
       "stream": "stdout",
       "text": [
        "\n",
        "taking Procrustes step\n",
        "error is 0.00010036105958517474\n",
        "taking Procrustes step\n",
        "error is 9.8844621353027384e-05\n"
       ]
      }
     ],
     "prompt_number": 9
    },
    {
     "cell_type": "code",
     "collapsed": false,
     "input": [
      "scatter(proc.sources[:,0,:].flatten(), proc.sources[:,1,:].flatten())"
     ],
     "language": "python",
     "metadata": {},
     "outputs": [
      {
       "output_type": "pyout",
       "prompt_number": 12,
       "text": [
        "<matplotlib.collections.PathCollection at 0xd0eedd0>"
       ]
      }
     ],
     "prompt_number": 12
    },
    {
     "cell_type": "markdown",
     "metadata": {},
     "source": [
      "We need to define a few special landmarks for us to be able to figure out what direction\n",
      "the faces is orientated in. For these medical landmarks we have:\n",
      "\n",
      "* $l_{16}$ - Centre of forehead\n",
      "* $l_{28}$ - Centre of lower chin\n",
      "* $l_{31}$ - Centre of bottom lip\n",
      "* $l_{32}$ - bottom of right ear\n",
      "* $l_{34}$ - bottom of left ear\n",
      "\n",
      "The approach we take is as follows:\n",
      "\n",
      "1. Generate a vector for the vetical alignment $v_{up} = l_{16} - l_{28}$\n",
      "2. Generate a landmark at the midpoint in the back of the head $l_{back} = (l_{32} + l_{34})/2$\n",
      "3. Generate a vector pointing towards the camera: $v_{front} = l_{31} - l_{back}$"
     ]
    },
    {
     "cell_type": "code",
     "collapsed": false,
     "input": [
      "face.view_location_of_vertices(face.lm)"
     ],
     "language": "python",
     "metadata": {},
     "outputs": []
    },
    {
     "cell_type": "code",
     "collapsed": false,
     "input": [
      "proc.transformation_matrices[0].shape"
     ],
     "language": "python",
     "metadata": {},
     "outputs": [
      {
       "output_type": "pyout",
       "prompt_number": 8,
       "text": [
        "(4, 4)"
       ]
      }
     ],
     "prompt_number": 8
    },
    {
     "cell_type": "code",
     "collapsed": false,
     "input": [
      "face.view()"
     ],
     "language": "python",
     "metadata": {},
     "outputs": [
      {
       "output_type": "pyout",
       "prompt_number": 5,
       "text": [
        "<mayavi.core.ui.mayavi_scene.MayaviScene at 0x85018f0>"
       ]
      }
     ],
     "prompt_number": 5
    },
    {
     "cell_type": "code",
     "collapsed": false,
     "input": [
      "for face, transform in zip(faces, proc.transformation_matrices):\n",
      "    print face\n",
      "    print transform.shape"
     ],
     "language": "python",
     "metadata": {},
     "outputs": [
      {
       "output_type": "stream",
       "stream": "stdout",
       "text": [
        "<ibugMM.mesh.face.Face object at 0x84f40a0>\n",
        "(4, 4)\n",
        "<ibugMM.mesh.face.Face object at 0x4957aa0>\n",
        "(4, 4)\n",
        "<ibugMM.mesh.face.Face object at 0x84f4140>\n",
        "(4, 4)\n",
        "<ibugMM.mesh.face.Face object at 0xefad640>\n",
        "(4, 4)\n",
        "<ibugMM.mesh.face.Face object at 0xdf860a0>\n",
        "(4, 4)\n",
        "<ibugMM.mesh.face.Face object at 0x84f4050>\n",
        "(4, 4)\n",
        "<ibugMM.mesh.face.Face object at 0x12b72aa0>\n",
        "(4, 4)\n",
        "<ibugMM.mesh.face.Face object at 0xefad6e0>\n",
        "(4, 4)\n",
        "<ibugMM.mesh.face.Face object at 0x12c449b0>\n",
        "(4, 4)\n",
        "<ibugMM.mesh.face.Face object at 0x134483c0>\n",
        "(4, 4)\n",
        "<ibugMM.mesh.face.Face object at 0x12a12be0>\n",
        "(4, 4)\n",
        "<ibugMM.mesh.face.Face object at 0x11fc5500>\n",
        "(4, 4)\n",
        "<ibugMM.mesh.face.Face object at 0x84f4190>\n",
        "(4, 4)\n",
        "<ibugMM.mesh.face.Face object at 0x126cfaa0>\n",
        "(4, 4)\n",
        "<ibugMM.mesh.face.Face object at 0xf5cfdc0>\n",
        "(4, 4)\n",
        "<ibugMM.mesh.face.Face object at 0xe895690>\n",
        "(4, 4)\n",
        "<ibugMM.mesh.face.Face object at 0xafc11e0>\n",
        "(4, 4)\n",
        "<ibugMM.mesh.face.Face object at 0xd01dbe0>\n",
        "(4, 4)\n",
        "<ibugMM.mesh.face.Face object at 0xbf158c0>\n",
        "(4, 4)\n",
        "<ibugMM.mesh.face.Face object at 0x1301d3c0>\n",
        "(4, 4)\n",
        "<ibugMM.mesh.face.Face object at 0xdd0a870>\n",
        "(4, 4)\n",
        "<ibugMM.mesh.face.Face object at 0x133eca50>\n",
        "(4, 4)\n",
        "<ibugMM.mesh.face.Face object at 0x11697c80>\n",
        "(4, 4)\n",
        "<ibugMM.mesh.face.Face object at 0x13396eb0>\n",
        "(4, 4)\n",
        "<ibugMM.mesh.face.Face object at 0x1100cc80>\n",
        "(4, 4)\n",
        "<ibugMM.mesh.face.Face object at 0xbec5b40>\n",
        "(4, 4)\n",
        "<ibugMM.mesh.face.Face object at 0x861e820>\n",
        "(4, 4)\n",
        "<ibugMM.mesh.face.Face object at 0xc6bd5a0>\n",
        "(4, 4)\n",
        "<ibugMM.mesh.face.Face object at 0xdd313c0>\n",
        "(4, 4)\n",
        "<ibugMM.mesh.face.Face object at 0xb961d70>\n",
        "(4, 4)\n",
        "<ibugMM.mesh.face.Face object at 0x993dc80>\n",
        "(4, 4)\n",
        "<ibugMM.mesh.face.Face object at 0x11c1a640>\n",
        "(4, 4)\n",
        "<ibugMM.mesh.face.Face object at 0xaeef640>\n",
        "(4, 4)\n",
        "<ibugMM.mesh.face.Face object at 0xc3c9dc0>\n",
        "(4, 4)\n",
        "<ibugMM.mesh.face.Face object at 0xfb9c8c0>\n",
        "(4, 4)\n",
        "<ibugMM.mesh.face.Face object at 0x1408dd70>\n",
        "(4, 4)\n",
        "<ibugMM.mesh.face.Face object at 0x12ee8af0>\n",
        "(4, 4)\n",
        "<ibugMM.mesh.face.Face object at 0xd9bdb40>\n",
        "(4, 4)\n",
        "<ibugMM.mesh.face.Face object at 0xaeefa00>\n",
        "(4, 4)\n",
        "<ibugMM.mesh.face.Face object at 0xaeef8c0>\n",
        "(4, 4)\n",
        "<ibugMM.mesh.face.Face object at 0xaeef910>\n",
        "(4, 4)\n",
        "<ibugMM.mesh.face.Face object at 0x11064be0>\n",
        "(4, 4)\n",
        "<ibugMM.mesh.face.Face object at 0xaeef960>\n",
        "(4, 4)\n",
        "<ibugMM.mesh.face.Face object at 0x1668e280>\n",
        "(4, 4)\n",
        "<ibugMM.mesh.face.Face object at 0x13f2c0a0>\n",
        "(4, 4)\n",
        "<ibugMM.mesh.face.Face object at 0xaeefaa0>\n",
        "(4, 4)\n",
        "<ibugMM.mesh.face.Face object at 0xaeef9b0>\n",
        "(4, 4)\n",
        "<ibugMM.mesh.face.Face object at 0x9996190>\n",
        "(4, 4)\n",
        "<ibugMM.mesh.face.Face object at 0xa101960>\n",
        "(4, 4)\n",
        "<ibugMM.mesh.face.Face object at 0xebf2fa0>\n",
        "(4, 4)\n",
        "<ibugMM.mesh.face.Face object at 0xef9ed70>\n",
        "(4, 4)\n",
        "<ibugMM.mesh.face.Face object at 0xdd229b0>\n",
        "(4, 4)\n",
        "<ibugMM.mesh.face.Face object at 0x126cf280>\n",
        "(4, 4)\n",
        "<ibugMM.mesh.face.Face object at 0x126cf140>\n",
        "(4, 4)\n",
        "<ibugMM.mesh.face.Face object at 0x126cf320>\n",
        "(4, 4)\n",
        "<ibugMM.mesh.face.Face object at 0x126cf230>\n",
        "(4, 4)\n",
        "<ibugMM.mesh.face.Face object at 0xdd22410>\n",
        "(4, 4)\n",
        "<ibugMM.mesh.face.Face object at 0x126cf1e0>\n",
        "(4, 4)\n",
        "<ibugMM.mesh.face.Face object at 0xdd22370>\n",
        "(4, 4)\n",
        "<ibugMM.mesh.face.Face object at 0x11c28aa0>\n",
        "(4, 4)\n",
        "<ibugMM.mesh.face.Face object at 0x133a6640>\n",
        "(4, 4)\n",
        "<ibugMM.mesh.face.Face object at 0x126b9d20>\n",
        "(4, 4)\n",
        "<ibugMM.mesh.face.Face object at 0x162bde60>\n",
        "(4, 4)\n",
        "<ibugMM.mesh.face.Face object at 0xdd223c0>\n",
        "(4, 4)\n",
        "<ibugMM.mesh.face.Face object at 0xdf71c80>\n",
        "(4, 4)\n",
        "<ibugMM.mesh.face.Face object at 0x126cf190>\n",
        "(4, 4)\n",
        "<ibugMM.mesh.face.Face object at 0xec1c460>\n",
        "(4, 4)\n",
        "<ibugMM.mesh.face.Face object at 0xdd224b0>\n",
        "(4, 4)\n",
        "<ibugMM.mesh.face.Face object at 0xc70c820>\n",
        "(4, 4)\n",
        "<ibugMM.mesh.face.Face object at 0xd9b8550>\n",
        "(4, 4)\n",
        "<ibugMM.mesh.face.Face object at 0xd0d0410>\n",
        "(4, 4)\n",
        "<ibugMM.mesh.face.Face object at 0x861ee60>\n",
        "(4, 4)\n",
        "<ibugMM.mesh.face.Face object at 0x861ee10>\n",
        "(4, 4)\n"
       ]
      }
     ],
     "prompt_number": 11
    },
    {
     "cell_type": "code",
     "collapsed": false,
     "input": [
      "h_coords = np.concatenate(face.coords, np.ones([face.n_vertices, 1]), axis=0)"
     ],
     "language": "python",
     "metadata": {},
     "outputs": [],
     "prompt_number": "*"
    },
    {
     "cell_type": "code",
     "collapsed": false,
     "input": [],
     "language": "python",
     "metadata": {},
     "outputs": []
    }
   ],
   "metadata": {}
  }
 ]
}