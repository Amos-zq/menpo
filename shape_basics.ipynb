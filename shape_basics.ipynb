{
 "metadata": {
  "name": "shape_basics"
 },
 "nbformat": 3,
 "nbformat_minor": 0,
 "worksheets": [
  {
   "cells": [
    {
     "cell_type": "markdown",
     "metadata": {},
     "source": [
      "**SHAPE BASICS**\n",
      "\n",
      "Walks through the basic abstract shape classes and what they can do."
     ]
    },
    {
     "cell_type": "code",
     "collapsed": false,
     "input": [
      "import numpy as np"
     ],
     "language": "python",
     "metadata": {},
     "outputs": []
    },
    {
     "cell_type": "markdown",
     "metadata": {},
     "source": [
      "**POINTCLOUDS**\n",
      "\n",
      "At the top of our Shape Hierarachy is the `PointCloud` class. This is a representation of an n-dimensional point cloud. It can be coerced into a Point Cloud Library `PointCloud` class for use in any of the PCL algorithms. To define a `PointCloud`, we use a 2 dimentional `ndarray`. The length of first dimension is the number of points, the second dimension the dimensionality of the space. "
     ]
    },
    {
     "cell_type": "code",
     "collapsed": false,
     "input": [
      "from pybug.shape.representation import PointCloud"
     ],
     "language": "python",
     "metadata": {},
     "outputs": []
    },
    {
     "cell_type": "code",
     "collapsed": false,
     "input": [
      "points = np.array([[3.6929, 10.3819],\n",
      "                   [6.5827,  8.8386],\n",
      "                   [6.7756, 12.0866],\n",
      "                   [4.8189, 11.2047],\n",
      "                   [5.6969, 10.0748]])"
     ],
     "language": "python",
     "metadata": {},
     "outputs": []
    },
    {
     "cell_type": "code",
     "collapsed": false,
     "input": [
      "pointcloud = PointCloud(points)\n",
      "print pointcloud"
     ],
     "language": "python",
     "metadata": {},
     "outputs": []
    },
    {
     "cell_type": "markdown",
     "metadata": {},
     "source": [
      "as you can see, printing a `PointCloud` lists the dimentionality and number of points. A `PointCloud` can have attached to it an arbitrary number of fields, each one of arbitrary dimension. The only constraint is that each field must specify a value for each `point`. Here, we attach a 1D field that represents color, and a 3D field for normal vectors. The input data is of the same format as we used previously. Notice that `print`ing a `PointCloud` will include information about the fields we have attached."
     ]
    },
    {
     "cell_type": "code",
     "collapsed": false,
     "input": [
      "pointcloud.add_pointfield('color', np.array([1,1,1,1,1]))\n",
      "pointcloud.add_pointfield('normals', np.array([0,0,0.5,0,0.5,1,1,1,1,0]).reshape([5,2]))\n",
      "print pointcloud"
     ],
     "language": "python",
     "metadata": {},
     "outputs": []
    },
    {
     "cell_type": "code",
     "collapsed": false,
     "input": [
      "print pointcloud.all_landmarks"
     ],
     "language": "python",
     "metadata": {},
     "outputs": []
    },
    {
     "cell_type": "markdown",
     "metadata": {},
     "source": [
      "2D and 3D `PointCloud`s know how to render themselves. If you are working locally, the `view()` method on all 2D and 3D decendents of `PointCloud` will open a new window to view the data in the most appropriate way. If you are working remotely, you can still get a basic appricaition for the data by using IPythons rich display mechanism. To use it, just call the object (no `print`) in the notebook:"
     ]
    },
    {
     "cell_type": "code",
     "collapsed": false,
     "input": [
      "pointcloud"
     ],
     "language": "python",
     "metadata": {},
     "outputs": []
    },
    {
     "cell_type": "code",
     "collapsed": false,
     "input": [
      "pointcloud.view()"
     ],
     "language": "python",
     "metadata": {},
     "outputs": []
    },
    {
     "cell_type": "markdown",
     "metadata": {},
     "source": [
      "**MESH BASICS**"
     ]
    },
    {
     "cell_type": "code",
     "collapsed": false,
     "input": [
      "from pybug.shape.representation.mesh import TriMesh, FastTriMesh"
     ],
     "language": "python",
     "metadata": {},
     "outputs": []
    },
    {
     "cell_type": "code",
     "collapsed": false,
     "input": [
      "points = np.array([[0.0, 0.0, 0.0],\n",
      "                   [1.0, 0.0, 0.0],\n",
      "                   [1.0, 1.0, 0.0],\n",
      "                   [0.0, 1.0, 0.0]])\n",
      "\n",
      "trilist = np.array([[0, 1, 3],\n",
      "                    [2, 3, 1]], dtype=np.uint32)"
     ],
     "language": "python",
     "metadata": {},
     "outputs": []
    },
    {
     "cell_type": "markdown",
     "metadata": {},
     "source": [
      "A `TriMesh` is the basic implimentation of a triangular mesh. It is strictly a 3D object, and is constructed in an analogous way to the `PointCloud`, taking a single additional argument, a triangle list, listing how the points are joined into trianglular surfaces. Basic `TriMesh` objects aren't fussy about the quality of the data they are built from - they will happily handle unreferenced points, zero area faces, reversed faces, and non-contiguous meshes without kicking up a fuss. They are perfectly suited to 90% of the tasks that you may wish to perform with triagulated data. "
     ]
    },
    {
     "cell_type": "code",
     "collapsed": false,
     "input": [
      "trimesh = TriMesh(points, trilist)"
     ],
     "language": "python",
     "metadata": {},
     "outputs": []
    },
    {
     "cell_type": "markdown",
     "metadata": {},
     "source": [
      "The `FastTriMesh` is a direct subclass of `TriMesh` that adds a C++ representation of the topology of the mesh. This allows for fast iteration around the Mesh structure without having to write C++ code, however it comes at a cost of flexibility - for now, building a `FastTriMesh` without perfectly formatted input data will lead to nasty segfaults."
     ]
    },
    {
     "cell_type": "code",
     "collapsed": false,
     "input": [
      "fasttrimesh = FastTriMesh(points, trilist)"
     ],
     "language": "python",
     "metadata": {},
     "outputs": []
    },
    {
     "cell_type": "markdown",
     "metadata": {},
     "source": [
      "Importantly, meshes are just specializations of PointClouds. They have the same visualization, landmarking, and field adding capabilities as we've seen before:"
     ]
    },
    {
     "cell_type": "code",
     "collapsed": false,
     "input": [
      "fasttrimesh.add_pointfield('tc', np.array([0,0,0,0]))\n",
      "print fasttrimesh\n",
      "fasttrimesh.view()"
     ],
     "language": "python",
     "metadata": {},
     "outputs": []
    },
    {
     "cell_type": "code",
     "collapsed": false,
     "input": [
      "from mayavi import mlab"
     ],
     "language": "python",
     "metadata": {},
     "outputs": []
    },
    {
     "cell_type": "code",
     "collapsed": false,
     "input": [
      "f =mlab.figure()\n",
      "f.scene.background = (1,1,1)\n",
      "mlab.points3d(points[:,0], points[:,1], points[:,2], mode='point', color=(0,0,0), figure=f)"
     ],
     "language": "python",
     "metadata": {},
     "outputs": []
    },
    {
     "cell_type": "code",
     "collapsed": false,
     "input": [
      "f = mlab.gcf()"
     ],
     "language": "python",
     "metadata": {},
     "outputs": []
    },
    {
     "cell_type": "code",
     "collapsed": false,
     "input": [
      "f.scene.background = (1,1,1)"
     ],
     "language": "python",
     "metadata": {},
     "outputs": []
    },
    {
     "cell_type": "code",
     "collapsed": false,
     "input": [
      "f= fasttrimesh.view()"
     ],
     "language": "python",
     "metadata": {},
     "outputs": []
    },
    {
     "cell_type": "code",
     "collapsed": false,
     "input": [
      "f.scene.x_minus_view()"
     ],
     "language": "python",
     "metadata": {},
     "outputs": []
    },
    {
     "cell_type": "code",
     "collapsed": false,
     "input": [
      "import Image"
     ],
     "language": "python",
     "metadata": {},
     "outputs": []
    },
    {
     "cell_type": "code",
     "collapsed": false,
     "input": [
      "Image(im)"
     ],
     "language": "python",
     "metadata": {},
     "outputs": []
    },
    {
     "cell_type": "code",
     "collapsed": false,
     "input": [
      "im = mlab.screenshot(figure=f)"
     ],
     "language": "python",
     "metadata": {},
     "outputs": []
    },
    {
     "cell_type": "code",
     "collapsed": false,
     "input": [
      "from IPython.display import Image as IPyIm"
     ],
     "language": "python",
     "metadata": {},
     "outputs": []
    },
    {
     "cell_type": "code",
     "collapsed": false,
     "input": [
      "import Image"
     ],
     "language": "python",
     "metadata": {},
     "outputs": []
    },
    {
     "cell_type": "code",
     "collapsed": false,
     "input": [
      "Image("
     ],
     "language": "python",
     "metadata": {},
     "outputs": []
    },
    {
     "cell_type": "code",
     "collapsed": false,
     "input": [
      "np.empty("
     ],
     "language": "python",
     "metadata": {},
     "outputs": []
    }
   ],
   "metadata": {}
  }
 ]
}