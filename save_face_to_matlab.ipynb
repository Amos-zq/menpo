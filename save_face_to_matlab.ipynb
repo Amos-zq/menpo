{
 "metadata": {
  "name": "save_face_to_matlab"
 },
 "nbformat": 3,
 "nbformat_minor": 0,
 "worksheets": [
  {
   "cells": [
    {
     "cell_type": "code",
     "collapsed": false,
     "input": [
      "import scipy.io as sio"
     ],
     "language": "python",
     "metadata": {},
     "outputs": []
    },
    {
     "cell_type": "code",
     "collapsed": false,
     "input": [
      "run james_geo.py"
     ],
     "language": "python",
     "metadata": {},
     "outputs": []
    },
    {
     "cell_type": "code",
     "collapsed": false,
     "input": [
      "def face_to_matlab(face, name):\n",
      "    ml_dict = {}\n",
      "    ml_dict['c'] = face.coords\n",
      "    ml_dict['tl'] = face.tri_index\n",
      "    ml_dict['tc'] = face.texture_coords_per_vertex\n",
      "    ml_dict['texture'] = np.array(face.texture)\n",
      "    sio.savemat(name, ml_dict)\n"
     ],
     "language": "python",
     "metadata": {},
     "outputs": []
    },
    {
     "cell_type": "code",
     "collapsed": false,
     "input": [
      "face_to_matlab(james_mid_n, 'james_neutral')\n",
      "face_to_matlab(james_mid_m, 'james_medium')\n",
      "face_to_matlab(james_mid_h, 'james_happy')"
     ],
     "language": "python",
     "metadata": {},
     "outputs": []
    },
    {
     "cell_type": "code",
     "collapsed": false,
     "input": [],
     "language": "python",
     "metadata": {},
     "outputs": []
    }
   ],
   "metadata": {}
  }
 ]
}