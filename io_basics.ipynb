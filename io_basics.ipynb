{
 "metadata": {
  "name": "io_basics"
 },
 "nbformat": 3,
 "nbformat_minor": 0,
 "worksheets": [
  {
   "cells": [
    {
     "cell_type": "code",
     "collapsed": false,
     "input": [
      "from pybug.io import smartimport\n",
      "from mayavi import mlab\n",
      "from pybug.spatialdata import SpatialDataCollection\n",
      "from pybug.spatialdata.mesh import FastTriMesh"
     ],
     "language": "python",
     "metadata": {},
     "outputs": []
    },
    {
     "cell_type": "code",
     "collapsed": false,
     "input": [
      "james_h = smartimport('/home/jab08/Dropbox/testData/james_h.obj')\n",
      "james_m = smartimport('/home/jab08/Dropbox/testData/james_m.obj')\n",
      "james_h_no_m_no_j = smartimport('/home/jab08/Dropbox/testData/james_h_no_mouth_no_jaw.obj')\n",
      "collection = SpatialDataCollection([james_h, james_m, james_h_no_m_no_j])"
     ],
     "language": "python",
     "metadata": {},
     "outputs": []
    },
    {
     "cell_type": "code",
     "collapsed": false,
     "input": [
      "james_h_no_m_no_j_fast = james_h_no_m_no_j.trimesh_from_pointmask(james_h_no_m_no_j.points[:,2] > 10, astype=FastTriMesh)"
     ],
     "language": "python",
     "metadata": {},
     "outputs": []
    },
    {
     "cell_type": "code",
     "collapsed": false,
     "input": [
      "collection.add_spatialdata(james_h_no_m_no_j_fast)"
     ],
     "language": "python",
     "metadata": {},
     "outputs": []
    },
    {
     "cell_type": "code",
     "collapsed": false,
     "input": [
      "collection.data"
     ],
     "language": "python",
     "metadata": {},
     "outputs": []
    },
    {
     "cell_type": "code",
     "collapsed": false,
     "input": [
      "import pickle\n",
      "import json\n",
      "def pickletojson(filepath):\n",
      "    with open(filepath +  '.landmarks', 'rb') as f:\n",
      "        pickled = pickle.load(f)\n",
      "    with open(filepath +  '.jsonlandmarks', 'wb') as f:\n",
      "        json.dump(pickled, f)\n",
      "pickletojson('/home/jab08/Dropbox/testData/james_n_no_mouth_no_jaw')"
     ],
     "language": "python",
     "metadata": {},
     "outputs": []
    }
   ],
   "metadata": {}
  }
 ]
}