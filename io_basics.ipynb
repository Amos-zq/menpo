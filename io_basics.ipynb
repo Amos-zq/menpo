{
 "metadata": {
  "name": "io_basics"
 },
 "nbformat": 3,
 "nbformat_minor": 0,
 "worksheets": [
  {
   "cells": [
    {
     "cell_type": "code",
     "collapsed": false,
     "input": [
      "from pybug.io.model import OBJImporter\n",
      "from pybug.shape.representation.mesh import TriMesh"
     ],
     "language": "python",
     "metadata": {},
     "outputs": []
    },
    {
     "cell_type": "code",
     "collapsed": false,
     "input": [
      "obj = OBJImporter('/home/jab08/Dropbox/testData/ioannis_1.obj')"
     ],
     "language": "python",
     "metadata": {},
     "outputs": []
    },
    {
     "cell_type": "code",
     "collapsed": false,
     "input": [
      "trimesh = TriMesh(obj.coords, obj.tri_index)\n",
      "trimesh.attach_texture(obj.texture, obj.texture_coords, tcoords_trilist=obj.texture_tri_index)"
     ],
     "language": "python",
     "metadata": {},
     "outputs": []
    },
    {
     "cell_type": "code",
     "collapsed": false,
     "input": [
      "trimesh.view()"
     ],
     "language": "python",
     "metadata": {},
     "outputs": []
    }
   ],
   "metadata": {}
  }
 ]
}