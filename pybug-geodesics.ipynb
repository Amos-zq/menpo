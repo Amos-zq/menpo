{
 "metadata": {
  "name": "pybug-geodesics"
 },
 "nbformat": 3,
 "nbformat_minor": 0,
 "worksheets": [
  {
   "cells": [
    {
     "cell_type": "markdown",
     "metadata": {},
     "source": [
      "Imports, definitions, and two faces we will use"
     ]
    },
    {
     "cell_type": "code",
     "collapsed": false,
     "input": [
      "import numpy as np\n",
      "from pybug.model.geodesic import GeodesicCorrespondence, GeodesicMasker\n",
      "from pybug.io import smartimport\n",
      "\n",
      "james_n_path = '/home/jab08/Dropbox/testData/james_n_no_mouth.obj'\n",
      "james_h_path = '/home/jab08/Dropbox/testData/james_h_no_mouth.obj'\n",
      "james_n = smartimport(james_n_path)\n",
      "james_h = smartimport(james_h_path)\n",
      "masker = GeodesicMasker([james_n, james_h])\n",
      "maskedjameses = masker.geodesics_from('nose', 150)"
     ],
     "language": "python",
     "metadata": {},
     "outputs": []
    },
    {
     "cell_type": "code",
     "collapsed": false,
     "input": [
      "print james_h"
     ],
     "language": "python",
     "metadata": {},
     "outputs": []
    },
    {
     "cell_type": "code",
     "collapsed": false,
     "input": [
      "geocorr = GeodesicCorrespondence(maskedjameses)"
     ],
     "language": "python",
     "metadata": {},
     "outputs": []
    },
    {
     "cell_type": "code",
     "collapsed": false,
     "input": [
      "from pybug.model.geodesic import *"
     ],
     "language": "python",
     "metadata": {},
     "outputs": []
    },
    {
     "cell_type": "code",
     "collapsed": false,
     "input": [
      "f1 = geocorr.data[0]\n",
      "f2 = geocorr.data[1]\n",
      "min2to1, min1to2 = linear_geodesic_mapping(f1.pointfields['gsig'], f2.pointfields['gsig'])"
     ],
     "language": "python",
     "metadata": {},
     "outputs": []
    },
    {
     "cell_type": "code",
     "collapsed": false,
     "input": [
      "f2.add_pointfield('linear_map', min1to2)\n",
      "f1.add_pointfield('linear_map', min2to1)"
     ],
     "language": "python",
     "metadata": {},
     "outputs": []
    },
    {
     "cell_type": "code",
     "collapsed": false,
     "input": [
      "for f in geocorr.data:\n",
      "    mouthgeo = f.geodesics.geodesics([x.asindex() for x in f.landmarks.with_label('mouth')])\n",
      "    f.add_pointfield('mouth_geo', mouthgeo['phi'])"
     ],
     "language": "python",
     "metadata": {},
     "outputs": []
    },
    {
     "cell_type": "markdown",
     "metadata": {},
     "source": [
      "**Geodesic Mapping** - calculate the *geodesic signitures*, $g$, for every vertex on both faces. The dimentionality of $g$ is equal to the number of landmarks - for $n_l$ landmarks there will be $n_l$ entries in the geodesic signiture, the $i$'th entry being the geodesic distance to the $i$'th landmark.\n",
      "\n",
      "For now, `GeodesicMapping` produces a mapping that is *linear* (i.e. we minimise the sum of the squared differences for geodesic signitures between the two faces\n",
      "$$i_2 = \\underset{k}{\\operatorname{argmin}} \\sum_j^l (g_i^j - g_k^j)^2 $$"
     ]
    },
    {
     "cell_type": "code",
     "collapsed": false,
     "input": [
      "# first we look at how isometry changes for just the mouth region\n",
      "interlandmark_gsig_1 = gsig_1[lm_mouth_1]\n",
      "interlandmark_gsig_2 = gsig_2[lm_mouth_2]\n",
      "interlandmark_gsig_ratio = interlandmark_gsig_2 / interlandmark_gsig_1\n",
      "interlandmark_gsig_ratio[np.isnan(interlandmark_gsig_ratio)] = 1\n",
      "plt.hist(interlandmark_gsig_ratio.flatten(), bins=1000);"
     ],
     "language": "python",
     "metadata": {},
     "outputs": []
    },
    {
     "cell_type": "code",
     "collapsed": false,
     "input": [
      "# now considering everything but the mouth\n",
      "interlandmark_gsig_1 = gsig_1[lm_nomouth_1]\n",
      "interlandmark_gsig_2 = gsig_2[lm_nomouth_2]\n",
      "interlandmark_gsig_ratio = interlandmark_gsig_2 / interlandmark_gsig_1\n",
      "interlandmark_gsig_ratio[np.isnan(interlandmark_gsig_ratio)] = 1 \n",
      "plt.hist(interlandmark_gsig_ratio.flatten(), bins=1000);"
     ],
     "language": "python",
     "metadata": {},
     "outputs": []
    },
    {
     "cell_type": "code",
     "collapsed": false,
     "input": [
      "# find the unique closest n points\n",
      "n = 10\n",
      "c_1, ci_1 = unique_closest_n(gsig_1, n)\n",
      "c_2, ci_2 = unique_closest_n(gsig_2, n)\n",
      "# find how times each signiture occurs\n",
      "bc_1 = np.bincount(ci_1)\n",
      "bc_2 = np.bincount(ci_2)\n",
      "print bc_1.shape\n",
      "p = plt.plot(bc_1)\n",
      "p = plt.plot(bc_2)\n",
      "f_2.view_scalar_per_vertex((ci_2 == np.argmax(bc_2)).astype(np.int))\n",
      "\n",
      "f_1.view_scalar_per_vertex((ci_1 == 48).astype(np.int))"
     ],
     "language": "python",
     "metadata": {},
     "outputs": []
    }
   ],
   "metadata": {}
  }
 ]
}