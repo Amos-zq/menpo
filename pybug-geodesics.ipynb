{
 "metadata": {
  "name": "pybug-geodesics"
 },
 "nbformat": 3,
 "nbformat_minor": 0,
 "worksheets": [
  {
   "cells": [
    {
     "cell_type": "markdown",
     "metadata": {},
     "source": [
      "Imports, definitions, and two faces we will use"
     ]
    },
    {
     "cell_type": "code",
     "collapsed": true,
     "input": [
      "import numpy as np\n",
      "from pybug.model.geodesic import GeodesicCorrespondence\n",
      "from pybug.io import smartimport\n",
      "\n",
      "james_n_path = '/home/jab08/Dropbox/testData/james_n_no_mouth_no_jaw.obj'\n",
      "james_h_path = '/home/jab08/Dropbox/testData/james_h_no_mouth_no_jaw.obj'\n",
      "james_n = smartimport(james_n_path)\n",
      "james_h = smartimport(james_h_path)"
     ],
     "language": "python",
     "metadata": {},
     "outputs": []
    },
    {
     "cell_type": "markdown",
     "metadata": {},
     "source": [
      "**Geodesic Mapping** - calculate the *geodesic signitures*, $g$, for every vertex on both faces. The dimentionality of $g$ is equal to the number of landmarks - for $n_l$ landmarks there will be $n_l$ entries in the geodesic signiture, the $i$'th entry being the geodesic distance to the $i$'th landmark.\n",
      "\n",
      "For now, `GeodesicMapping` produces a mapping that is *linear* (i.e. we minimise the sum of the squared differences for geodesic signitures between the two faces\n",
      "$$i_2 = \\underset{k}{\\operatorname{argmin}} \\sum_j^l (g_i^j - g_k^j)^2 $$"
     ]
    },
    {
     "cell_type": "code",
     "collapsed": false,
     "input": [
      "james_h.landmarks.all()"
     ],
     "language": "python",
     "metadata": {},
     "outputs": []
    },
    {
     "cell_type": "code",
     "collapsed": false,
     "input": [
      "geocorresp = GeodesicCorrespondence([james_n, james_h])"
     ],
     "language": "python",
     "metadata": {},
     "outputs": []
    },
    {
     "cell_type": "code",
     "collapsed": false,
     "input": [
      "geocorresp.gsig_all_points()"
     ],
     "language": "python",
     "metadata": {},
     "outputs": []
    },
    {
     "cell_type": "code",
     "collapsed": false,
     "input": [
      "print james_n.geodesic"
     ],
     "language": "python",
     "metadata": {},
     "outputs": []
    },
    {
     "cell_type": "code",
     "collapsed": false,
     "input": [
      "print eggeo.geodesics("
     ],
     "language": "python",
     "metadata": {},
     "outputs": []
    },
    {
     "cell_type": "code",
     "collapsed": false,
     "input": [
      "f_1 = james_mid_n\n",
      "f_2 = james_mid_h\n",
      "lm_1 = np.array(f_1.all_landmarks[0])\n",
      "lm_2 = np.array(f_2.all_landmarks[0])\n",
      "ls_1 = f_1.all_landmarks[1]\n",
      "ls_2 = f_2.all_landmarks[1]\n",
      "mouth_lm_mask_1 = all_landmark_mask(ls_1, 'mouth')\n",
      "mouth_lm_mask_2 = all_landmark_mask(ls_2, 'mouth')\n",
      "lm_mouth_1 = lm_1[mouth_lm_mask_1]\n",
      "lm_mouth_2 = lm_2[mouth_lm_mask_2]\n",
      "lm_nomouth_1 = lm_1[~mouth_lm_mask_1]\n",
      "lm_nomouth_2 = lm_2[~mouth_lm_mask_2]"
     ],
     "language": "python",
     "metadata": {},
     "outputs": []
    },
    {
     "cell_type": "code",
     "collapsed": false,
     "input": [
      "def landmarks_about(string):\n",
      "    lm_mask_1 = all_landmark_mask(ls_1, string)\n",
      "    lm_mask_2 = all_landmark_mask(ls_2, string)\n",
      "    lm_mouth_1 = lm_1[lm_mask_1]\n",
      "    lm_mouth_2 = lm_2[lm_mask_2]\n",
      "    return lm_mouth_1, lm_mouth_2"
     ],
     "language": "python",
     "metadata": {},
     "outputs": []
    },
    {
     "cell_type": "code",
     "collapsed": false,
     "input": [
      "# first we look at how isometry changes for just the mouth region\n",
      "interlandmark_gsig_1 = gsig_1[lm_mouth_1]\n",
      "interlandmark_gsig_2 = gsig_2[lm_mouth_2]\n",
      "interlandmark_gsig_ratio = interlandmark_gsig_2 / interlandmark_gsig_1\n",
      "interlandmark_gsig_ratio[np.isnan(interlandmark_gsig_ratio)] = 1\n",
      "plt.hist(interlandmark_gsig_ratio.flatten(), bins=1000);"
     ],
     "language": "python",
     "metadata": {},
     "outputs": []
    },
    {
     "cell_type": "code",
     "collapsed": false,
     "input": [
      "# now considering everything but the mouth\n",
      "interlandmark_gsig_1 = gsig_1[lm_nomouth_1]\n",
      "interlandmark_gsig_2 = gsig_2[lm_nomouth_2]\n",
      "interlandmark_gsig_ratio = interlandmark_gsig_2 / interlandmark_gsig_1\n",
      "interlandmark_gsig_ratio[np.isnan(interlandmark_gsig_ratio)] = 1 \n",
      "plt.hist(interlandmark_gsig_ratio.flatten(), bins=1000);"
     ],
     "language": "python",
     "metadata": {},
     "outputs": []
    },
    {
     "cell_type": "code",
     "collapsed": false,
     "input": [
      "# find the unique closest n points\n",
      "n = 10\n",
      "c_1, ci_1 = unique_closest_n(gsig_1, n)\n",
      "c_2, ci_2 = unique_closest_n(gsig_2, n)\n",
      "# find how times each signiture occurs\n",
      "bc_1 = np.bincount(ci_1)\n",
      "bc_2 = np.bincount(ci_2)\n",
      "print bc_1.shape\n",
      "p = plt.plot(bc_1)\n",
      "p = plt.plot(bc_2)\n",
      "f_2.view_scalar_per_vertex((ci_2 == np.argmax(bc_2)).astype(np.int))\n",
      "\n",
      "f_1.view_scalar_per_vertex((ci_1 == 48).astype(np.int))"
     ],
     "language": "python",
     "metadata": {},
     "outputs": []
    },
    {
     "cell_type": "code",
     "collapsed": false,
     "input": [
      "f_2.view()"
     ],
     "language": "python",
     "metadata": {},
     "outputs": []
    },
    {
     "cell_type": "code",
     "collapsed": false,
     "input": [
      "type('sintrg')"
     ],
     "language": "python",
     "metadata": {},
     "outputs": []
    },
    {
     "cell_type": "code",
     "collapsed": false,
     "input": [
      "mlab.figure()"
     ],
     "language": "python",
     "metadata": {},
     "outputs": []
    },
    {
     "cell_type": "code",
     "collapsed": false,
     "input": [
      "a = 2"
     ],
     "language": "python",
     "metadata": {},
     "outputs": []
    },
    {
     "cell_type": "code",
     "collapsed": false,
     "input": [],
     "language": "python",
     "metadata": {},
     "outputs": []
    }
   ],
   "metadata": {}
  }
 ]
}