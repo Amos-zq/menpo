{
 "metadata": {
  "name": "procrustes"
 },
 "nbformat": 3,
 "nbformat_minor": 0,
 "worksheets": [
  {
   "cells": [
    {
     "cell_type": "code",
     "collapsed": false,
     "input": [
      "import numpy as np\n",
      "from pybug.align import GeneralizedProcrustesAnalysis"
     ],
     "language": "python",
     "metadata": {},
     "outputs": []
    },
    {
     "cell_type": "code",
     "collapsed": false,
     "input": [
      "src_1 = np.array([ 0.0, 0.0,\n",
      "                   1.1, 0.0,\n",
      "                   1.0, 1.0,\n",
      "                   0.0, 1.0]).reshape([-1,2])\n",
      "src_2 = np.array([ 0.0, 0.0,\n",
      "                   2.0, 0.0,\n",
      "                   2.0, 2.0,\n",
      "                   0.0, 2.0]).reshape([-1,2])\n",
      "src_3 = np.array([-1.0, 0.0,\n",
      "                   0.0, 0.0,\n",
      "                   0.0, 1.0,\n",
      "                  -1.0, 1.0]).reshape([-1,2])\n",
      "tgt   = np.array([ 1.0, 0.0,\n",
      "                   1.0, 1.0,\n",
      "                   0.0, 1.0,\n",
      "                   0.0, 0.0]).reshape([-1,2])\n",
      "\n",
      "proc = GeneralizedProcrustesAnalysis([src_1, src_2, src_3])"
     ],
     "language": "python",
     "metadata": {},
     "outputs": []
    },
    {
     "cell_type": "code",
     "collapsed": false,
     "input": [
      "print reduce(lambda x,y: x.chain(y), [x.transform for x in proc.procrustes[0]])"
     ],
     "language": "python",
     "metadata": {},
     "outputs": []
    },
    {
     "cell_type": "code",
     "collapsed": false,
     "input": [
      "print proc.procrustes[0]"
     ],
     "language": "python",
     "metadata": {},
     "outputs": []
    },
    {
     "cell_type": "code",
     "collapsed": false,
     "input": [
      "print proc.target"
     ],
     "language": "python",
     "metadata": {},
     "outputs": []
    }
   ],
   "metadata": {}
  }
 ]
}