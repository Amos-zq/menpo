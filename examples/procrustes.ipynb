{
 "metadata": {
  "name": "procrustes"
 },
 "nbformat": 3,
 "nbformat_minor": 0,
 "worksheets": [
  {
   "cells": [
    {
     "cell_type": "code",
     "collapsed": false,
     "input": [
      "import numpy as np\n",
      "from pybug.transform.rigid import ParallelProcrustes"
     ],
     "language": "python",
     "metadata": {},
     "outputs": []
    },
    {
     "cell_type": "code",
     "collapsed": false,
     "input": [
      "src_1 = np.array([ 0.0, 0.0,\n",
      "                   1.0, 0.0,\n",
      "                   1.0, 1.0,\n",
      "                   0.0, 1.0]).reshape([-1,2])\n",
      "src_2 = np.array([ 0.0, 0.0,\n",
      "                   2.0, 0.0,\n",
      "                   2.0, 2.0,\n",
      "                   0.0, 2.0]).reshape([-1,2])\n",
      "src_3 = np.array([-1.0, 0.0,\n",
      "                   0.0, 0.0,\n",
      "                   0.0, 1.0,\n",
      "                  -1.0, 1.0]).reshape([-1,2])\n",
      "tgt   = np.array([ 1.0, 0.0,\n",
      "                   1.0, 1.0,\n",
      "                   0.0, 1.0,\n",
      "                   0.0, 0.0]).reshape([-1,2])\n",
      "\n",
      "proc = ParallelProcrustes([src_1], target=tgt)\n",
      "proc.general_alignment()"
     ],
     "language": "python",
     "metadata": {},
     "outputs": []
    }
   ],
   "metadata": {}
  }
 ]
}