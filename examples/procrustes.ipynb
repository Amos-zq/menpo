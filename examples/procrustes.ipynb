{
 "metadata": {
  "name": "procrustes"
 },
 "nbformat": 3,
 "nbformat_minor": 0,
 "worksheets": [
  {
   "cells": [
    {
     "cell_type": "code",
     "collapsed": false,
     "input": [
      "import numpy as np\n",
      "from pybug.transform.rigid import Procrustes"
     ],
     "language": "python",
     "metadata": {},
     "outputs": [],
     "prompt_number": 1
    },
    {
     "cell_type": "code",
     "collapsed": false,
     "input": [
      "src_1 = np.array([ 0.0, 0.0,\n",
      "                   1.0, 0.0,\n",
      "                   1.0, 1.0,\n",
      "                   0.0, 1.0]).reshape([-1,2])\n",
      "src_2 = np.array([ 0.0, 0.0,\n",
      "                   2.0, 0.0,\n",
      "                   2.0, 2.0,\n",
      "                   0.0, 2.0]).reshape([-1,2])\n",
      "src_3 = np.array([-1.0, 0.0,\n",
      "                   0.0, 0.0,\n",
      "                   0.0, 1.0,\n",
      "                  -1.0, 1.0]).reshape([-1,2])\n",
      "tgt   = np.array([ 1.0, 0.0,\n",
      "                   1.0, 1.0,\n",
      "                   0.0, 1.0,\n",
      "                   0.0, 0.0]).reshape([-1,2])\n",
      "\n",
      "proc = Procrustes(src_1, src_2)"
     ],
     "language": "python",
     "metadata": {},
     "outputs": [
      {
       "ename": "TypeError",
       "evalue": "__init__() takes exactly 2 arguments (3 given)",
       "output_type": "pyerr",
       "traceback": [
        "\u001b[1;31m---------------------------------------------------------------------------\u001b[0m\n\u001b[1;31mTypeError\u001b[0m                                 Traceback (most recent call last)",
        "\u001b[1;32m<ipython-input-3-4968f2f4054f>\u001b[0m in \u001b[0;36m<module>\u001b[1;34m()\u001b[0m\n\u001b[0;32m     16\u001b[0m                    0.0, 0.0]).reshape([-1,2])\n\u001b[0;32m     17\u001b[0m \u001b[1;33m\u001b[0m\u001b[0m\n\u001b[1;32m---> 18\u001b[1;33m \u001b[0mproc\u001b[0m \u001b[1;33m=\u001b[0m \u001b[0mParallelProcrustes\u001b[0m\u001b[1;33m(\u001b[0m\u001b[0msrc_1\u001b[0m\u001b[1;33m,\u001b[0m \u001b[0msrc_2\u001b[0m\u001b[1;33m)\u001b[0m\u001b[1;33m\u001b[0m\u001b[0m\n\u001b[0m",
        "\u001b[1;31mTypeError\u001b[0m: __init__() takes exactly 2 arguments (3 given)"
       ]
      }
     ],
     "prompt_number": 3
    },
    {
     "cell_type": "code",
     "collapsed": false,
     "input": [],
     "language": "python",
     "metadata": {},
     "outputs": []
    }
   ],
   "metadata": {}
  }
 ]
}