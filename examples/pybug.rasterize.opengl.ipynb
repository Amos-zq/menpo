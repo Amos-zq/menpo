{
 "metadata": {
  "name": ""
 },
 "nbformat": 3,
 "nbformat_minor": 0,
 "worksheets": [
  {
   "cells": [
    {
     "cell_type": "code",
     "collapsed": false,
     "input": [
      "import numpy as np\n",
      "from pybug.rasterize.opengl import OpenGLRasterizer\n",
      "import matplotlib.pyplot as plt\n",
      "from pybug.io import auto_import\n",
      "from pybug.transform import Translation, Scale\n",
      "\n",
      "def simple_render(points, trilist, tcoords, texture, render_width, render_height):\n",
      "    texture = np.ascontiguousarray(texture[::-1]) # flip the 'y' (OpenGL is indexed with the BOTTOM corner being (0,0) )\n",
      "    r = OpenGLRasterizer(points, trilist, tcoords, texture)\n",
      "    r_pixels = r.pixels(render_width, render_height)\n",
      "    return r_pixels\n",
      "    \n",
      "def imshow_with_flip(image):\n",
      "    plt.imshow(image[::-1,:,:3]/255.0 ) # imshow expects values in range (0,1). Note also that what comes back needs to be flipped"
     ],
     "language": "python",
     "metadata": {},
     "outputs": []
    },
    {
     "cell_type": "markdown",
     "metadata": {},
     "source": [
      "**RENDERING A FACE**"
     ]
    },
    {
     "cell_type": "markdown",
     "metadata": {},
     "source": [
      "First, we ensure the mesh fits into the clipping space `-1 < x,y,z < 1`"
     ]
    },
    {
     "cell_type": "code",
     "collapsed": false,
     "input": [
      "mesh = auto_import('/home/jab08/Dropbox/testData/ioannis_1.obj')[0]\n",
      "t = Translation(-mesh.centre) # centre on origin\n",
      "s = Scale(0.5 * mesh.range()) # resize to fit\n",
      "t.compose_before(s.pseudoinverse).apply_inplace(mesh)"
     ],
     "language": "python",
     "metadata": {},
     "outputs": []
    },
    {
     "cell_type": "code",
     "collapsed": false,
     "input": [
      "%matplotlib wx\n",
      "mesh.view()"
     ],
     "language": "python",
     "metadata": {},
     "outputs": []
    },
    {
     "cell_type": "markdown",
     "metadata": {},
     "source": [
      "points need to be homogeneous, and texture needs to have an alpha channel"
     ]
    },
    {
     "cell_type": "code",
     "collapsed": false,
     "input": [
      "points = np.ones((mesh.points.shape[0], 4), dtype=np.double)\n",
      "points[:,:3] = mesh.points\n",
      "trilist = np.ascontiguousarray(mesh.trilist.astype(np.uint32))\n",
      "texture = np.ones((mesh.texture.height, mesh.texture.width, 4), dtype=np.uint8) * 255 # fill out alpha channel with 255\n",
      "texture[:,:,:3] = mesh.texture.pixels * 255\n",
      "tcoords = np.ascontiguousarray(mesh.tcoords.points.astype(np.float32))"
     ],
     "language": "python",
     "metadata": {},
     "outputs": []
    },
    {
     "cell_type": "code",
     "collapsed": false,
     "input": [
      "%matplotlib inline\n",
      "pixels = simple_render(points, trilist, tcoords, texture, 768, 768)\n",
      "imshow_with_flip(pixels)"
     ],
     "language": "python",
     "metadata": {},
     "outputs": []
    },
    {
     "cell_type": "markdown",
     "metadata": {},
     "source": [
      "**RENDERING A SIMPLE SQUARE**"
     ]
    },
    {
     "cell_type": "markdown",
     "metadata": {},
     "source": [
      "Make a texture, half red, half blue"
     ]
    },
    {
     "cell_type": "code",
     "collapsed": false,
     "input": [
      "texture = np.zeros((64, 64, 4), dtype=np.uint8)\n",
      "texture[:,:,3] = 255\n",
      "texture[:32,:,:3] = np.array([255, 0, 0], dtype=np.uint8)\n",
      "texture[32:,:,:3] = np.array([0, 0, 255], dtype=np.uint8)"
     ],
     "language": "python",
     "metadata": {},
     "outputs": []
    },
    {
     "cell_type": "markdown",
     "metadata": {},
     "source": [
      "See the face example for explainations"
     ]
    },
    {
     "cell_type": "code",
     "collapsed": false,
     "input": [
      "points = np.array([[0.  , 0.  , 0., 1],\n",
      "                   [1, 0.  , 0., 1],\n",
      "                   [1, 1, 0., 1],\n",
      "                   [0.  , 1, 0., 1]], dtype=np.double)\n",
      "color = np.ones([4,3], dtype=np.float32)\n",
      "trilist = np.array([[0,1,3],\n",
      "                    [1,2,3]], dtype=np.uint32)\n",
      "tcoords = np.array([[0, 0],\n",
      "                    [1, 0],\n",
      "                    [1, 1],\n",
      "                    [0, 1]], dtype=np.float32)\n",
      "\n",
      "pixels = simple_render(points, trilist, tcoords, texture, 768, 768)\n",
      "imshow_with_flip(pixels)"
     ],
     "language": "python",
     "metadata": {},
     "outputs": []
    }
   ],
   "metadata": {}
  }
 ]
}