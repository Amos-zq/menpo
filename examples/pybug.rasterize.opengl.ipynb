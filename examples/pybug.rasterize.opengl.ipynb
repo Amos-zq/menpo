{
 "metadata": {
  "name": ""
 },
 "nbformat": 3,
 "nbformat_minor": 0,
 "worksheets": [
  {
   "cells": [
    {
     "cell_type": "code",
     "collapsed": false,
     "input": [
      "import numpy as np\n",
      "from pybug.rasterize.opengl import OpenGLRasterizer\n",
      "import matplotlib.pyplot as plt\n",
      "import pybug.io as pio\n",
      "from pybug.transform import Translation, Scale\n",
      "from pybug.image import Image\n",
      "\n",
      "def mesh_to_render_spec(mesh):\n",
      "    # get data in the correct formats\n",
      "    # points need to be homogeneous, and texture needs to have an alpha channel\n",
      "    points = np.require(mesh.points, dtype=np.float32, requirements='c')\n",
      "    trilist = np.require(mesh.trilist, dtype=np.uint32, requirements='c')\n",
      "    texture = np.require(mesh.texture.pixels[::-1], dtype=np.float32, requirements='c')\n",
      "    tcoords = np.require(mesh.tcoords.points, dtype=np.float32, requirements='c')\n",
      "    f3v_data = points\n",
      "    return points, f3v_data, trilist, tcoords, texture \n",
      "\n",
      "def render_mesh(mesh, renderer):\n",
      "    pixels, other = r.render_offscreen_rgb(*mesh_to_render_spec(mesh))\n",
      "    return Image(pixels[::-1].copy()), Image(other[::-1].copy()) # compress to (0,1). Note also that what comes back needs to be flipped"
     ],
     "language": "python",
     "metadata": {},
     "outputs": []
    },
    {
     "cell_type": "markdown",
     "metadata": {},
     "source": [
      "**RENDERING A FACE**"
     ]
    },
    {
     "cell_type": "markdown",
     "metadata": {},
     "source": [
      "First, we ensure the mesh fits into the clipping space `-1 < x,y,z < 1`"
     ]
    },
    {
     "cell_type": "code",
     "collapsed": false,
     "input": [
      "mesh = pio.import_mesh('/Users/jab08/Dropbox/testData/ioannis_1.obj')\n",
      "t = Translation(-mesh.centre) # centre on origin\n",
      "s = Scale(0.5 * mesh.range()) # resize to fit\n",
      "t.compose_before(s.pseudoinverse).apply_inplace(mesh)"
     ],
     "language": "python",
     "metadata": {},
     "outputs": []
    },
    {
     "cell_type": "code",
     "collapsed": false,
     "input": [
      "#%matplotlib wx\n",
      "#mesh.view()"
     ],
     "language": "python",
     "metadata": {},
     "outputs": []
    },
    {
     "cell_type": "code",
     "collapsed": false,
     "input": [
      "r = OpenGLRasterizer(1024, 1024)"
     ],
     "language": "python",
     "metadata": {},
     "outputs": []
    },
    {
     "cell_type": "code",
     "collapsed": false,
     "input": [
      "rgb_img, float_img = render_mesh(mesh, r)"
     ],
     "language": "python",
     "metadata": {},
     "outputs": []
    },
    {
     "cell_type": "code",
     "collapsed": false,
     "input": [
      "%matplotlib inline\n",
      "rgb_img.view()"
     ],
     "language": "python",
     "metadata": {},
     "outputs": []
    },
    {
     "cell_type": "code",
     "collapsed": false,
     "input": [
      "%matplotlib inline\n",
      "float_img.view()"
     ],
     "language": "python",
     "metadata": {},
     "outputs": []
    },
    {
     "cell_type": "markdown",
     "metadata": {},
     "source": [
      "**How long does it take?**"
     ]
    },
    {
     "cell_type": "code",
     "collapsed": false,
     "input": [
      "%timeit render_mesh(mesh, r)"
     ],
     "language": "python",
     "metadata": {},
     "outputs": []
    },
    {
     "cell_type": "markdown",
     "metadata": {},
     "source": [
      "**Converting a mesh for OpenGL renderering - timings**"
     ]
    },
    {
     "cell_type": "code",
     "collapsed": false,
     "input": [
      "render_args = mesh_to_render_spec(mesh)"
     ],
     "language": "python",
     "metadata": {},
     "outputs": []
    },
    {
     "cell_type": "code",
     "collapsed": false,
     "input": [
      "%timeit mesh_to_render_spec(mesh)"
     ],
     "language": "python",
     "metadata": {},
     "outputs": []
    },
    {
     "cell_type": "markdown",
     "metadata": {},
     "source": [
      "Consituent costs..."
     ]
    },
    {
     "cell_type": "code",
     "collapsed": false,
     "input": [
      "%timeit np.require(mesh.points, dtype=np.float32, requirements='c')"
     ],
     "language": "python",
     "metadata": {},
     "outputs": []
    },
    {
     "cell_type": "code",
     "collapsed": false,
     "input": [
      "%timeit np.require(mesh.trilist, dtype=np.uint32, requirements='c')"
     ],
     "language": "python",
     "metadata": {},
     "outputs": []
    },
    {
     "cell_type": "code",
     "collapsed": false,
     "input": [
      "# most expensive by far!\n",
      "%timeit np.require(mesh.texture.pixels[::-1], dtype=np.float32, requirements='c')"
     ],
     "language": "python",
     "metadata": {},
     "outputs": []
    },
    {
     "cell_type": "code",
     "collapsed": false,
     "input": [
      "%timeit np.require(mesh.tcoords.points, dtype=np.float32, requirements='c')"
     ],
     "language": "python",
     "metadata": {},
     "outputs": []
    },
    {
     "cell_type": "markdown",
     "metadata": {},
     "source": [
      "**Rendering the data - OpenGL only**"
     ]
    },
    {
     "cell_type": "code",
     "collapsed": false,
     "input": [
      "%timeit r.render_offscreen_rgb(*render_args)"
     ],
     "language": "python",
     "metadata": {},
     "outputs": []
    },
    {
     "cell_type": "code",
     "collapsed": false,
     "input": [
      "print r.get_projection_matrix()\n",
      "print r.get_model_matrix()\n",
      "print r.get_view_matrix()"
     ],
     "language": "python",
     "metadata": {},
     "outputs": []
    },
    {
     "cell_type": "code",
     "collapsed": false,
     "input": [
      "# budge the mesh a little using the model matrix and go again\n",
      "from pybug.transform import Translation\n",
      "t = Translation(np.array((0.5, 0.0, 0.0)))\n",
      "t.homogeneous_matrix\n",
      "\n",
      "r.set_model_matrix(np.require(t.homogeneous_matrix, dtype=np.float32, requirements='c'))"
     ],
     "language": "python",
     "metadata": {},
     "outputs": []
    },
    {
     "cell_type": "markdown",
     "metadata": {},
     "source": [
      "**RENDERING A SIMPLE SQUARE**"
     ]
    },
    {
     "cell_type": "code",
     "collapsed": false,
     "input": [
      "%matplotlib inline\n",
      "# make a texture - half red, half blue\n",
      "texture = np.empty((64, 64, 4), dtype=np.uint8)\n",
      "texture[..., 3] = 255\n",
      "texture[:32,:,:3] = np.array([255, 0, 0], dtype=np.uint8)\n",
      "texture[32:,:,:3] = np.array([0, 0, 255], dtype=np.uint8)\n",
      "\n",
      "# unit square (0,0) -> (1, 1)\n",
      "points = np.array([[0, 0, 0, 1.],\n",
      "                   [1, 0, 0, 1.],\n",
      "                   [1, 1, 0, 1],\n",
      "                   [0, 1, 0, 1]], dtype=np.double)\n",
      "trilist = np.array([[0,1,3],\n",
      "                    [1,2,3]], dtype=np.uint32)\n",
      "tcoords = np.array([[0, 0],\n",
      "                    [1, 0],\n",
      "                    [1, 1],\n",
      "                    [0, 1]], dtype=np.float32)\n",
      "pixels = r.render_offscreen_rgb(points, trilist, tcoords, texture)\n",
      "# pixels will need to be flipped!"
     ],
     "language": "python",
     "metadata": {},
     "outputs": []
    },
    {
     "cell_type": "code",
     "collapsed": false,
     "input": [
      "mesh.points.ravel"
     ],
     "language": "python",
     "metadata": {},
     "outputs": []
    }
   ],
   "metadata": {}
  }
 ]
}