{
 "metadata": {
  "name": "pybug.rasterize.opengl"
 },
 "nbformat": 3,
 "nbformat_minor": 0,
 "worksheets": [
  {
   "cells": [
    {
     "cell_type": "code",
     "collapsed": false,
     "input": [
      "import numpy as np\n",
      "from pybug.rasterize.opengl import OpenGLRasterizer\n",
      "import matplotlib.pyplot as plt"
     ],
     "language": "python",
     "metadata": {},
     "outputs": []
    },
    {
     "cell_type": "code",
     "collapsed": false,
     "input": [
      "tpsCoords = np.array([[0.  , 0.  , 0., 1],\n",
      "                      [0.75, 0.  , 0., 1],\n",
      "                      [0.75, 0.75, 0., 1],\n",
      "                      [0.  , 0.75, 0., 1]], dtype=np.double)\n",
      "coords = np.ones([4,3], dtype=np.float32)\n",
      "trilist = np.array([[0,1,3],\n",
      "                    [1,2,3]], dtype=np.uint32)\n",
      "texture = np.zeros((64, 64, 4), dtype=np.uint8)\n",
      "texture[:,:,3] = 255\n",
      "texture[:16,:,:3] = np.array([255, 0, 0], dtype=np.uint8)\n",
      "texture[16:32,:,:3] = np.array([0, 255, 0], dtype=np.uint8)\n",
      "texture[32:,:,:3] = np.array([0, 0, 255], dtype=np.uint8)\n",
      "tcoords = np.array([[0, 0],\n",
      "                    [1, 0],\n",
      "                    [1, 1],\n",
      "                    [0, 1]], dtype=np.float32)"
     ],
     "language": "python",
     "metadata": {},
     "outputs": []
    },
    {
     "cell_type": "code",
     "collapsed": false,
     "input": [
      "r = OpenGLRasterizer(tpsCoords, coords, trilist, tcoords, texture)"
     ],
     "language": "python",
     "metadata": {},
     "outputs": []
    },
    {
     "cell_type": "code",
     "collapsed": false,
     "input": [
      "r_pixels, r_coords = r.pixels"
     ],
     "language": "python",
     "metadata": {},
     "outputs": []
    },
    {
     "cell_type": "code",
     "collapsed": false,
     "input": [
      "plt.imshow(r_pixels)"
     ],
     "language": "python",
     "metadata": {},
     "outputs": []
    },
    {
     "cell_type": "code",
     "collapsed": false,
     "input": [
      "plt.imshow(r_coords)"
     ],
     "language": "python",
     "metadata": {},
     "outputs": []
    }
   ],
   "metadata": {}
  }
 ]
}