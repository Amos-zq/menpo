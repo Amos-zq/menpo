{
 "metadata": {
  "name": ""
 },
 "nbformat": 3,
 "nbformat_minor": 0,
 "worksheets": [
  {
   "cells": [
    {
     "cell_type": "code",
     "collapsed": false,
     "input": [
      "import numpy as np\n",
      "from pybug.rasterize import GLRasterizer\n",
      "import matplotlib.pyplot as plt\n",
      "import pybug.io as pio"
     ],
     "language": "python",
     "metadata": {},
     "outputs": []
    },
    {
     "cell_type": "markdown",
     "metadata": {},
     "source": [
      "**RENDERING A FACE**"
     ]
    },
    {
     "cell_type": "code",
     "collapsed": false,
     "input": [
      "mesh = pio.import_mesh('/vol/hci2/Databases/video/BU-4DFE/F001/Angry/000.wrl')"
     ],
     "language": "python",
     "metadata": {},
     "outputs": []
    },
    {
     "cell_type": "code",
     "collapsed": false,
     "input": [
      "%matplotlib wx\n",
      "x = mesh.view()"
     ],
     "language": "python",
     "metadata": {},
     "outputs": []
    },
    {
     "cell_type": "code",
     "collapsed": false,
     "input": [
      "# build a rasterizer configured from the current view\n",
      "r = GLRasterizer.from_mayavi_viewer()"
     ],
     "language": "python",
     "metadata": {},
     "outputs": []
    },
    {
     "cell_type": "code",
     "collapsed": false,
     "input": [
      "# rasterize to produce an RGB and shape image\n",
      "rgb_img, shape_img = r.rasterize_with_shape_image(mesh)"
     ],
     "language": "python",
     "metadata": {},
     "outputs": []
    },
    {
     "cell_type": "code",
     "collapsed": false,
     "input": [
      "%matplotlib inline\n",
      "rgb_img.view()\n",
      "shape_img.view()"
     ],
     "language": "python",
     "metadata": {},
     "outputs": []
    },
    {
     "cell_type": "code",
     "collapsed": false,
     "input": [
      "# after some adjustments, we can set the value of the matrices from the changed mayavi viewer and re-render\n",
      "r.set_matrices_from_mayavi_viewer()\n",
      "rgb_img = r.rasterize(mesh)"
     ],
     "language": "python",
     "metadata": {},
     "outputs": []
    },
    {
     "cell_type": "code",
     "collapsed": false,
     "input": [
      "%matplotlib inline\n",
      "x = rgb_img.view()"
     ],
     "language": "python",
     "metadata": {},
     "outputs": []
    }
   ],
   "metadata": {}
  }
 ]
}