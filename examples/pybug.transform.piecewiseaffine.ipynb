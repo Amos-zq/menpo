{
 "metadata": {
  "name": ""
 },
 "nbformat": 3,
 "nbformat_minor": 0,
 "worksheets": [
  {
   "cells": [
    {
     "cell_type": "code",
     "collapsed": false,
     "input": [
      "import numpy as np\n",
      "from pybug.transform.piecewiseaffine import DiscreteAffinePWATransform, \\\n",
      "CDotProductPWATransform, TriangleContainmentError"
     ],
     "language": "python",
     "metadata": {},
     "outputs": []
    },
    {
     "cell_type": "markdown",
     "metadata": {},
     "source": [
      "We build a `PiecewiseAffineTransform` by supplying two sets of points and a shared triangle list"
     ]
    },
    {
     "cell_type": "code",
     "collapsed": false,
     "input": [
      "a = np.array([[0,0], [1, 0], [0, 1], [1, 1]])\n",
      "b = np.array([[0,0], [2, 0], [-1, 3], [2, 6]])\n",
      "tl = np.array([[0,2,1], [1,3,2], [1,2,3], [1,0,2]])\n",
      "\n",
      "slow_pwa = DiscreteAffinePWATransform(a,b,tl)\n",
      "fast_pwa = CDotProductPWATransform(a,b,tl)"
     ],
     "language": "python",
     "metadata": {},
     "outputs": []
    },
    {
     "cell_type": "markdown",
     "metadata": {},
     "source": [
      "Lets make a random 5000 point `PointCloud` in the unit square and view it "
     ]
    },
    {
     "cell_type": "code",
     "collapsed": false,
     "input": [
      "from pybug.shape import PointCloud\n",
      "points_s = PointCloud(np.random.rand(10000).reshape([-1,2]))\n",
      "points_f = PointCloud(np.random.rand(10000).reshape([-1,2]))\n",
      "points_s.view();"
     ],
     "language": "python",
     "metadata": {},
     "outputs": []
    },
    {
     "cell_type": "markdown",
     "metadata": {},
     "source": [
      "Now lets see the effect having warped"
     ]
    },
    {
     "cell_type": "code",
     "collapsed": false,
     "input": [
      "slow_pwa.apply(points_s);\n",
      "fast_pwa.apply(points_f);"
     ],
     "language": "python",
     "metadata": {},
     "outputs": []
    },
    {
     "cell_type": "code",
     "collapsed": false,
     "input": [
      "points_s.view();"
     ],
     "language": "python",
     "metadata": {},
     "outputs": []
    },
    {
     "cell_type": "code",
     "collapsed": false,
     "input": [
      "points_f.view()"
     ],
     "language": "python",
     "metadata": {},
     "outputs": []
    },
    {
     "cell_type": "code",
     "collapsed": false,
     "input": [
      "try:\n",
      "    x = pwa.apply(points)\n",
      "except TriangleContainmentError, e:\n",
      "    pass"
     ],
     "language": "python",
     "metadata": {},
     "outputs": []
    },
    {
     "cell_type": "code",
     "collapsed": false,
     "input": [
      "test = np.array([[0.1,0.1], [0.7, 0.9]])"
     ],
     "language": "python",
     "metadata": {},
     "outputs": []
    },
    {
     "cell_type": "code",
     "collapsed": false,
     "input": [
      "slow_pwa.apply(test)"
     ],
     "language": "python",
     "metadata": {},
     "outputs": []
    },
    {
     "cell_type": "code",
     "collapsed": false,
     "input": [
      "fast_pwa.apply(test)"
     ],
     "language": "python",
     "metadata": {},
     "outputs": []
    },
    {
     "cell_type": "code",
     "collapsed": false,
     "input": [
      "i, a, b = slow_pwa.index_alpha_beta(test)"
     ],
     "language": "python",
     "metadata": {},
     "outputs": []
    }
   ],
   "metadata": {}
  }
 ]
}