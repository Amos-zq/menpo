{
 "metadata": {
  "name": "pybug.rasterize.openglc"
 },
 "nbformat": 3,
 "nbformat_minor": 0,
 "worksheets": [
  {
   "cells": [
    {
     "cell_type": "code",
     "collapsed": false,
     "input": [
      "import numpy as np\n",
      "from pybug.rasterize.openglc import OpenGLRasterizer\n",
      "import matplotlib.pyplot as plt\n",
      "from pybug.io import auto_import\n",
      "from pybug.transform import Translation, Scale\n",
      "\n",
      "def simple_render(points, trilist, tcoords, texture, render_width, render_height):\n",
      "    texture = np.ascontiguousarray(texture[::-1]) # flip the 'y' (OpenGL is indexed with the BOTTOM corner being (0,0) )\n",
      "    r = OpenGLRasterizer(points, trilist, tcoords, texture)\n",
      "    r_pixels = r.pixels(render_width, render_height)\n",
      "    return r_pixels\n",
      "    \n",
      "def imshow_with_flip(image):\n",
      "    plt.imshow(image[::-1,:,:3]*1.0/255 ) # imshow expects values in range (0,1). Note also that what comes back needs to be flipped"
     ],
     "language": "python",
     "metadata": {},
     "outputs": []
    },
    {
     "cell_type": "markdown",
     "metadata": {},
     "source": [
      "**RENDERING A FACE**"
     ]
    },
    {
     "cell_type": "markdown",
     "metadata": {},
     "source": [
      "First, we ensure the mesh fits into the clipping space `-1 < x,y,z < 1`"
     ]
    },
    {
     "cell_type": "code",
     "collapsed": false,
     "input": [
      "mesh = auto_import('/home/jab08/Dropbox/testData/ioannis_1.obj')[0]\n",
      "t = Translation(-np.mean(mesh.points, axis=0)) # centre on origin\n",
      "s = Scale(0.5 * np.max(np.max(mesh.points, axis=0) - np.min(mesh.points, axis=0)), n_dim=3) # resize to fit\n",
      "t.compose(s.inverse).apply(mesh)"
     ],
     "language": "python",
     "metadata": {},
     "outputs": []
    },
    {
     "cell_type": "markdown",
     "metadata": {},
     "source": [
      "points need to be homogeneous, and texture needs to have an alpha channel"
     ]
    },
    {
     "cell_type": "code",
     "collapsed": false,
     "input": [
      "points = ones((mesh.points.shape[0], 4), dtype=np.double)\n",
      "points[:,:3] = mesh.points\n",
      "trilist = np.ascontiguousarray(mesh.trilist.astype(np.uint32))\n",
      "texture = np.ones((mesh.texture.width, mesh.texture.height, 4), dtype=np.uint8) * 255 # fill out alpha channel with 255\n",
      "texture[:,:,:3] = mesh.texture.pixels\n",
      "tcoords = np.ascontiguousarray(mesh.tcoords.points.astype(np.float32))"
     ],
     "language": "python",
     "metadata": {},
     "outputs": []
    },
    {
     "cell_type": "code",
     "collapsed": false,
     "input": [
      "pixels = simple_render(points, trilist, tcoords, texture, 512, 512)\n",
      "imshow_with_flip(pixels)"
     ],
     "language": "python",
     "metadata": {},
     "outputs": []
    },
    {
     "cell_type": "markdown",
     "metadata": {},
     "source": [
      "**RENDERING A SIMPLE SQUARE**"
     ]
    },
    {
     "cell_type": "markdown",
     "metadata": {},
     "source": [
      "Make a texture, half red, half blue"
     ]
    },
    {
     "cell_type": "code",
     "collapsed": false,
     "input": [
      "texture = np.zeros((64, 64, 4), dtype=np.uint8)\n",
      "texture[:,:,3] = 255\n",
      "texture[:32,:,:3] = np.array([255, 0, 0], dtype=np.uint8)\n",
      "texture[32:,:,:3] = np.array([0, 0, 255], dtype=np.uint8)"
     ],
     "language": "python",
     "metadata": {},
     "outputs": []
    },
    {
     "cell_type": "markdown",
     "metadata": {},
     "source": [
      "See the face example for explainations"
     ]
    },
    {
     "cell_type": "code",
     "collapsed": false,
     "input": [
      "points = np.array([[0.  , 0.  , 0., 1],\n",
      "                   [0.75, 0.  , 0., 1],\n",
      "                   [0.75, 0.75, 0., 1],\n",
      "                   [0.  , 0.75, 0., 1]], dtype=np.double)\n",
      "color = np.ones([4,3], dtype=np.float32)\n",
      "trilist = np.array([[0,1,3],\n",
      "                    [1,2,3]], dtype=np.uint32)\n",
      "tcoords = np.array([[0, 0],\n",
      "                    [1, 0],\n",
      "                    [1, 1],\n",
      "                    [0, 1]], dtype=np.float32)\n",
      "\n",
      "pixels = simple_render(points, trilist, tcoords, texture, 512, 512)\n",
      "imshow_with_flip(pixels)"
     ],
     "language": "python",
     "metadata": {},
     "outputs": []
    }
   ],
   "metadata": {}
  }
 ]
}