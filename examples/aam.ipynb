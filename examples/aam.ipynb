{
 "metadata": {
  "name": "aam"
 },
 "nbformat": 3,
 "nbformat_minor": 0,
 "worksheets": [
  {
   "cells": [
    {
     "cell_type": "heading",
     "level": 1,
     "metadata": {},
     "source": [
      "Active Appearance Model (AAM)"
     ]
    },
    {
     "cell_type": "markdown",
     "metadata": {},
     "source": [
      "Load the aligned bw faces image from the data directory using the auto importer."
     ]
    },
    {
     "cell_type": "code",
     "collapsed": false,
     "input": [
      "import scipy.io as sio\n",
      "from pybug.image import Image\n",
      "from pybug import data_path_to\n",
      "im_db = sio.loadmat(data_path_to('alignedbwfaces.mat'))\n",
      "imagedata = im_db['images']\n",
      "mask = im_db['mask']\n",
      "images = []\n",
      "for i in range(imagedata.shape[-1]):\n",
      "    images.append(Image(imagedata[...,i], mask=mask))"
     ],
     "language": "python",
     "metadata": {},
     "outputs": []
    },
    {
     "cell_type": "markdown",
     "metadata": {},
     "source": [
      "Build the appearance model and shape model"
     ]
    },
    {
     "cell_type": "code",
     "collapsed": false,
     "input": [
      "from pybug.model.linear import PCAModel\n",
      "from pybug.align.nonrigid.tps import TPS\n",
      "from pybug.transform.statisticallydriven import StatisticallyDrivenTransform\n",
      "# TODO shapes needs to be a list of PointClouds IN THE PIXEL SPACE.\n",
      "shapes = [1]\n",
      "appearance_model = PCAModel(images)\n",
      "shape_model = PCAModel(shapes)\n",
      "\n",
      "def tps_constructor(src_landmarks, tgt_landmarks):\n",
      "    tps = TPS(src_landmarks, tgt_landmarks)\n",
      "    return tps.transform\n",
      "\n",
      "transform = StatisticallyDrivenTransform(shape_model, tps_constructor)"
     ],
     "language": "python",
     "metadata": {},
     "outputs": []
    },
    {
     "cell_type": "markdown",
     "metadata": {},
     "source": [
      "Align the image to the AAM"
     ]
    },
    {
     "cell_type": "code",
     "collapsed": false,
     "input": [
      "from pybug.align.lucaskanade.residual import LSIntensity\n",
      "from pybug.align.lucaskanade import ProjectOutAppearanceFowardAdditive\n",
      "\n",
      "residual = LSIntensity()\n",
      "project_out = ProjectOutAppearanceFowardAdditive(image, appearance_model, residual, transform)"
     ],
     "language": "python",
     "metadata": {},
     "outputs": []
    }
   ],
   "metadata": {}
  }
 ]
}