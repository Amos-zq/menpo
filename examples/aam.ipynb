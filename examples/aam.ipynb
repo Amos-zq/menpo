{
 "metadata": {
  "name": "aam"
 },
 "nbformat": 3,
 "nbformat_minor": 0,
 "worksheets": [
  {
   "cells": [
    {
     "cell_type": "heading",
     "level": 1,
     "metadata": {},
     "source": [
      "Active Appearance Model (AAM)"
     ]
    },
    {
     "cell_type": "markdown",
     "metadata": {},
     "source": [
      "Load the aligned bw faces image from the data directory using the auto importer."
     ]
    },
    {
     "cell_type": "code",
     "collapsed": false,
     "input": [
      "import scipy.io as sio\n",
      "import numpy as np\n",
      "from pybug.image import Image\n",
      "from pybug.shape import PointCloud\n",
      "\n",
      "from pybug import data_path_to\n",
      "model = sio.loadmat(data_path_to('alignedshapetexture.mat'))\n",
      "\n",
      "old_mask  = model['mask']\n",
      "textures = model['textures'].astype(np.float64)\n",
      "t_coords = model['texturecoords'].astype(np.uint32)\n",
      "shapes = model['shapes'].astype(np.float64)\n",
      "\n",
      "# make a template for storing out image pixels to\n",
      "image_template = np.zeros_like(old_mask, dtype=np.float64)\n",
      "# create the mask by filling all coordinate squares with True\n",
      "mask = np.zeros_like(old_mask, dtype=np.bool)\n",
      "mask[t_coords[:,1], t_coords[:,0]] = True\n",
      "# loop through building complete images + masks\n",
      "images = []\n",
      "for i in range(textures.shape[-1]):\n",
      "    image_template[t_coords[:,1], t_coords[:,0]]  = textures[...,i]\n",
      "    images.append(Image(image_template, mask=mask))\n",
      "pointclouds = []\n",
      "for i in range(shapes.shape[-1]):\n",
      "    pointclouds.append(PointCloud(shapes[...,i]))"
     ],
     "language": "python",
     "metadata": {},
     "outputs": []
    },
    {
     "cell_type": "markdown",
     "metadata": {},
     "source": [
      "Build the appearance model and shape model"
     ]
    },
    {
     "cell_type": "code",
     "collapsed": false,
     "input": [
      "from pybug.model.linear import PCAModel\n",
      "from pybug.align.nonrigid.tps import TPS\n",
      "from pybug.transform.statisticallydriven import StatisticallyDrivenTransform\n",
      "# TODO shapes needs to be a list of PointClouds IN THE PIXEL SPACE.\n",
      "shapes = [1]\n",
      "appearance_model = PCAModel(images)\n",
      "shape_model = PCAModel(pointclouds)\n",
      "\n",
      "def tps_constructor(src_landmarks, tgt_landmarks):\n",
      "    tps = TPS(src_landmarks, tgt_landmarks)\n",
      "    return tps.transform\n",
      "\n",
      "transform = StatisticallyDrivenTransform(shape_model, tps_constructor)"
     ],
     "language": "python",
     "metadata": {},
     "outputs": []
    },
    {
     "cell_type": "markdown",
     "metadata": {},
     "source": [
      "Align the image to the AAM"
     ]
    },
    {
     "cell_type": "code",
     "collapsed": false,
     "input": [
      "from pybug.align.lucaskanade.residual import LSIntensity\n",
      "from pybug.align.lucaskanade.base import ProjectOutAppearanceForwardAdditive\n",
      "\n",
      "residual = LSIntensity()\n",
      "project_out = ProjectOutAppearanceForwardAdditive(images[0].pixels[...,0], appearance_model, residual, transform)\n",
      "project_out.align()"
     ],
     "language": "python",
     "metadata": {},
     "outputs": []
    }
   ],
   "metadata": {}
  }
 ]
}