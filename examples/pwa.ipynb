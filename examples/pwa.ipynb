{
 "metadata": {
  "name": ""
 },
 "nbformat": 3,
 "nbformat_minor": 0,
 "worksheets": [
  {
   "cells": [
    {
     "cell_type": "code",
     "collapsed": false,
     "input": [
      "import numpy as np\n",
      "from pybug.shape import TriMesh\n",
      "from pybug.transform.affine import AffineTransform\n",
      "from pybug.transform.piecewiseaffine import PiecewiseAffineTransform"
     ],
     "language": "python",
     "metadata": {},
     "outputs": []
    },
    {
     "cell_type": "code",
     "collapsed": false,
     "input": [
      "a = np.array([[0,0], [1, 0], [0, 1], [1, 1]])\n",
      "b = np.array([[0,0], [2, 0], [0, 2], [2, 3]])\n",
      "tl = np.array([[0,1,2], [1,3,2]])"
     ],
     "language": "python",
     "metadata": {},
     "outputs": []
    },
    {
     "cell_type": "code",
     "collapsed": false,
     "input": [
      "pwa = PiecewiseAffineTransform(a,b,tl)\n",
      "# lets check the transform between the 0'th triangles...\n",
      "print pwa.transforms[0]"
     ],
     "language": "python",
     "metadata": {},
     "outputs": []
    }
   ],
   "metadata": {}
  }
 ]
}