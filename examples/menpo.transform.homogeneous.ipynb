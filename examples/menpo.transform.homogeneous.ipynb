{
 "metadata": {
  "name": "",
  "signature": "sha256:1def8068ea9b7379f0e0d73a166e6a2b52571212bc51f5b9954aa6e1c1059d9c"
 },
 "nbformat": 3,
 "nbformat_minor": 0,
 "worksheets": [
  {
   "cells": [
    {
     "cell_type": "code",
     "collapsed": false,
     "input": [
      "import numpy as np\n",
      "from menpo.shape import PointCloud\n",
      "from menpo.transform.homogeneous import HomogeneousTransform"
     ],
     "language": "python",
     "metadata": {},
     "outputs": []
    },
    {
     "cell_type": "markdown",
     "metadata": {},
     "source": [
      "If you know the form of a basic homogeneous transform (like here a mirror along y=x) it's trivial to build a `HomogeneousTransform` to use this operation in Menpo"
     ]
    },
    {
     "cell_type": "code",
     "collapsed": false,
     "input": [
      "# mirror along y=x\n",
      "xy_yx = HomogeneousTransform(np.array([[0, 1, 0], \n",
      "                                       [1, 0, 0], \n",
      "                                       [0, 0, 1]]))"
     ],
     "language": "python",
     "metadata": {},
     "outputs": []
    },
    {
     "cell_type": "code",
     "collapsed": false,
     "input": [
      "pc = PointCloud(np.random.random([12, 2]))\n",
      "print pc"
     ],
     "language": "python",
     "metadata": {},
     "outputs": []
    },
    {
     "cell_type": "code",
     "collapsed": false,
     "input": [
      "%matplotlib inline\n",
      "pc.view()"
     ],
     "language": "python",
     "metadata": {},
     "outputs": []
    },
    {
     "cell_type": "markdown",
     "metadata": {},
     "source": [
      "Applying this Transform to a `PointCloud` has the desired effect"
     ]
    },
    {
     "cell_type": "code",
     "collapsed": false,
     "input": [
      "pc_flipped = xy_yx.apply(pc)"
     ],
     "language": "python",
     "metadata": {},
     "outputs": []
    },
    {
     "cell_type": "code",
     "collapsed": false,
     "input": [
      "pc_flipped.view()"
     ],
     "language": "python",
     "metadata": {},
     "outputs": []
    },
    {
     "cell_type": "markdown",
     "metadata": {},
     "source": [
      "Homogeneous transforms support native composition"
     ]
    },
    {
     "cell_type": "code",
     "collapsed": false,
     "input": [
      "no_op = xy_yx.compose_before(xy_yx)\n",
      "print no_op.h_matrix"
     ],
     "language": "python",
     "metadata": {},
     "outputs": []
    },
    {
     "cell_type": "code",
     "collapsed": false,
     "input": [
      "no_op = xy_yx.compose_after(xy_yx)\n",
      "print no_op.h_matrix"
     ],
     "language": "python",
     "metadata": {},
     "outputs": []
    },
    {
     "cell_type": "code",
     "collapsed": false,
     "input": [
      "xy_yx.compose_before_inplace(xy_yx)\n",
      "print xy_yx.h_matrix"
     ],
     "language": "python",
     "metadata": {},
     "outputs": []
    }
   ],
   "metadata": {}
  }
 ]
}