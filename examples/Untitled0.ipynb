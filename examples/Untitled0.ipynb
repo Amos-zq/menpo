{
 "metadata": {
  "name": ""
 },
 "nbformat": 3,
 "nbformat_minor": 0,
 "worksheets": [
  {
   "cells": [
    {
     "cell_type": "code",
     "collapsed": false,
     "input": [
      "from pybug.io import auto_import"
     ],
     "language": "python",
     "metadata": {},
     "outputs": [],
     "prompt_number": 1
    },
    {
     "cell_type": "code",
     "collapsed": false,
     "input": [
      "lms = auto_import('/vol/hmi/datasets/FRGC Range/FRGC-2.0-dist/nd1/4007 abs files/02463d460.abs')[0]\n",
      "image = auto_import('/vol/hmi/datasets/FRGC Range/FRGC-2.0-dist/nd1/Fall2003range/ppm files/02463d547.ppm')[0]\n",
      "image_2 = auto_import('/vol/hmi/datasets/FRGC Range/FRGC-2.0-dist/nd1/Fall2003range/ppm files/02463d459.ppm')[0]"
     ],
     "language": "python",
     "metadata": {},
     "outputs": [
      {
       "output_type": "stream",
       "stream": "stdout",
       "text": [
        "Found 0 files. (0/0) are importable\n",
        "\n"
       ]
      },
      {
       "output_type": "stream",
       "stream": "stdout",
       "text": [
        "Found 0 files. (0/0) are importable\n",
        "\n"
       ]
      },
      {
       "ename": "IndexError",
       "evalue": "list index out of range",
       "output_type": "pyerr",
       "traceback": [
        "\u001b[1;31m---------------------------------------------------------------------------\u001b[0m\n\u001b[1;31mIndexError\u001b[0m                                Traceback (most recent call last)",
        "\u001b[1;32m<ipython-input-18-da528a112b4b>\u001b[0m in \u001b[0;36m<module>\u001b[1;34m()\u001b[0m\n\u001b[1;32m----> 1\u001b[1;33m \u001b[0mlms\u001b[0m \u001b[1;33m=\u001b[0m \u001b[0mauto_import\u001b[0m\u001b[1;33m(\u001b[0m\u001b[1;34m'/vol/hmi/datasets/FRGC Range/FRGC-2.0-dist/nd1/4007 abs files/02463d460.abs'\u001b[0m\u001b[1;33m)\u001b[0m\u001b[1;33m[\u001b[0m\u001b[1;36m0\u001b[0m\u001b[1;33m]\u001b[0m\u001b[1;33m\u001b[0m\u001b[0m\n\u001b[0m\u001b[0;32m      2\u001b[0m \u001b[0mimage\u001b[0m \u001b[1;33m=\u001b[0m \u001b[0mauto_import\u001b[0m\u001b[1;33m(\u001b[0m\u001b[1;34m'/vol/hmi/datasets/FRGC Range/FRGC-2.0-dist/nd1/Fall2003range/ppm files/02463d547.ppm'\u001b[0m\u001b[1;33m)\u001b[0m\u001b[1;33m[\u001b[0m\u001b[1;36m0\u001b[0m\u001b[1;33m]\u001b[0m\u001b[1;33m\u001b[0m\u001b[0m\n\u001b[0;32m      3\u001b[0m \u001b[0mimage_2\u001b[0m \u001b[1;33m=\u001b[0m \u001b[0mauto_import\u001b[0m\u001b[1;33m(\u001b[0m\u001b[1;34m'/vol/hmi/datasets/FRGC Range/FRGC-2.0-dist/nd1/Fall2003range/ppm files/02463d459.ppm'\u001b[0m\u001b[1;33m)\u001b[0m\u001b[1;33m[\u001b[0m\u001b[1;36m0\u001b[0m\u001b[1;33m]\u001b[0m\u001b[1;33m\u001b[0m\u001b[0m\n",
        "\u001b[1;31mIndexError\u001b[0m: list index out of range"
       ]
      }
     ],
     "prompt_number": 18
    },
    {
     "cell_type": "code",
     "collapsed": false,
     "input": [
      "lms.view()"
     ],
     "language": "python",
     "metadata": {},
     "outputs": [
      {
       "metadata": {},
       "output_type": "pyout",
       "prompt_number": 3,
       "text": [
        "<pybug.visualize.viewmayavi.MayaviTriMeshViewer3d at 0x7158190>"
       ]
      }
     ],
     "prompt_number": 3
    },
    {
     "cell_type": "code",
     "collapsed": false,
     "input": [
      "lms.points[:10]"
     ],
     "language": "python",
     "metadata": {},
     "outputs": [
      {
       "metadata": {},
       "output_type": "pyout",
       "prompt_number": 4,
       "text": [
        "array([[   -5.357781,   104.209089, -2444.1869  ],\n",
        "       [   -4.64188 ,   104.165916, -2443.167433],\n",
        "       [   -3.928993,   104.186956, -2443.663479],\n",
        "       [   -3.216099,   104.21777 , -2444.390484],\n",
        "       [   -2.499276,   104.10167 , -2441.650089],\n",
        "       [  -13.234363,   103.67344 , -2448.424736],\n",
        "       [  -12.51274 ,   103.62035 , -2447.16178 ],\n",
        "       [  -11.800369,   103.642068, -2447.676864],\n",
        "       [  -11.076055,   103.555128, -2445.609738],\n",
        "       [  -10.352343,   103.461996, -2443.395478]])"
       ]
      }
     ],
     "prompt_number": 4
    },
    {
     "cell_type": "code",
     "collapsed": false,
     "input": [
      "image.pixels.shape"
     ],
     "language": "python",
     "metadata": {},
     "outputs": [
      {
       "metadata": {},
       "output_type": "pyout",
       "prompt_number": 15,
       "text": [
        "(480, 640, 3)"
       ]
      }
     ],
     "prompt_number": 15
    },
    {
     "cell_type": "code",
     "collapsed": false,
     "input": [
      "z_buff = lms.points[...,0]"
     ],
     "language": "python",
     "metadata": {},
     "outputs": [],
     "prompt_number": 6
    },
    {
     "cell_type": "code",
     "collapsed": false,
     "input": [
      "zbr = z_buff.reshape([480, -1])"
     ],
     "language": "python",
     "metadata": {},
     "outputs": [
      {
       "ename": "ValueError",
       "evalue": "total size of new array must be unchanged",
       "output_type": "pyerr",
       "traceback": [
        "\u001b[1;31m---------------------------------------------------------------------------\u001b[0m\n\u001b[1;31mValueError\u001b[0m                                Traceback (most recent call last)",
        "\u001b[1;32m<ipython-input-19-6334f391de5f>\u001b[0m in \u001b[0;36m<module>\u001b[1;34m()\u001b[0m\n\u001b[1;32m----> 1\u001b[1;33m \u001b[0mzbr\u001b[0m \u001b[1;33m=\u001b[0m \u001b[0mz_buff\u001b[0m\u001b[1;33m.\u001b[0m\u001b[0mreshape\u001b[0m\u001b[1;33m(\u001b[0m\u001b[1;33m[\u001b[0m\u001b[1;36m480\u001b[0m\u001b[1;33m,\u001b[0m \u001b[1;33m-\u001b[0m\u001b[1;36m1\u001b[0m\u001b[1;33m]\u001b[0m\u001b[1;33m)\u001b[0m\u001b[1;33m\u001b[0m\u001b[0m\n\u001b[0m",
        "\u001b[1;31mValueError\u001b[0m: total size of new array must be unchanged"
       ]
      }
     ],
     "prompt_number": 19
    },
    {
     "cell_type": "code",
     "collapsed": false,
     "input": [
      "640*480"
     ],
     "language": "python",
     "metadata": {},
     "outputs": [
      {
       "metadata": {},
       "output_type": "pyout",
       "prompt_number": 24,
       "text": [
        "307200"
       ]
      }
     ],
     "prompt_number": 24
    },
    {
     "cell_type": "code",
     "collapsed": false,
     "input": [
      "lms.points.shape"
     ],
     "language": "python",
     "metadata": {},
     "outputs": [
      {
       "metadata": {},
       "output_type": "pyout",
       "prompt_number": 20,
       "text": [
        "(81419, 3)"
       ]
      }
     ],
     "prompt_number": 20
    },
    {
     "cell_type": "code",
     "collapsed": false,
     "input": [
      "from pybug.image import Image"
     ],
     "language": "python",
     "metadata": {},
     "outputs": [],
     "prompt_number": 7
    },
    {
     "cell_type": "code",
     "collapsed": false,
     "input": [
      "im_z = Image(z_buff)"
     ],
     "language": "python",
     "metadata": {},
     "outputs": [
      {
       "ename": "ValueError",
       "evalue": "need more than 1 value to unpack",
       "output_type": "pyerr",
       "traceback": [
        "\u001b[1;31m---------------------------------------------------------------------------\u001b[0m\n\u001b[1;31mValueError\u001b[0m                                Traceback (most recent call last)",
        "\u001b[1;32m<ipython-input-8-3258f8ce75b6>\u001b[0m in \u001b[0;36m<module>\u001b[1;34m()\u001b[0m\n\u001b[1;32m----> 1\u001b[1;33m \u001b[0mim_z\u001b[0m \u001b[1;33m=\u001b[0m \u001b[0mImage\u001b[0m\u001b[1;33m(\u001b[0m\u001b[0mz_buff\u001b[0m\u001b[1;33m)\u001b[0m\u001b[1;33m\u001b[0m\u001b[0m\n\u001b[0m",
        "\u001b[1;32m/home/jab08/.virtualenvs/pybug/src/pybug/pybug/image/base.pyc\u001b[0m in \u001b[0;36m__init__\u001b[1;34m(self, image_data, mask)\u001b[0m\n\u001b[0;32m     13\u001b[0m             \u001b[0mimage_data\u001b[0m \u001b[1;33m=\u001b[0m \u001b[0mnp\u001b[0m\u001b[1;33m.\u001b[0m\u001b[0marray\u001b[0m\u001b[1;33m(\u001b[0m\u001b[0mimage_data\u001b[0m\u001b[1;33m)\u001b[0m\u001b[1;33m\u001b[0m\u001b[0m\n\u001b[0;32m     14\u001b[0m         \u001b[1;31m# get the attributes of the image\u001b[0m\u001b[1;33m\u001b[0m\u001b[1;33m\u001b[0m\u001b[0m\n\u001b[1;32m---> 15\u001b[1;33m         \u001b[0mself\u001b[0m\u001b[1;33m.\u001b[0m\u001b[0mwidth\u001b[0m\u001b[1;33m,\u001b[0m \u001b[0mself\u001b[0m\u001b[1;33m.\u001b[0m\u001b[0mheight\u001b[0m \u001b[1;33m=\u001b[0m \u001b[0mimage_data\u001b[0m\u001b[1;33m.\u001b[0m\u001b[0mshape\u001b[0m\u001b[1;33m[\u001b[0m\u001b[1;33m:\u001b[0m\u001b[1;36m2\u001b[0m\u001b[1;33m]\u001b[0m\u001b[1;33m\u001b[0m\u001b[0m\n\u001b[0m\u001b[0;32m     16\u001b[0m         \u001b[1;32mif\u001b[0m \u001b[0mlen\u001b[0m\u001b[1;33m(\u001b[0m\u001b[0mimage_data\u001b[0m\u001b[1;33m.\u001b[0m\u001b[0mshape\u001b[0m\u001b[1;33m)\u001b[0m \u001b[1;33m>=\u001b[0m \u001b[1;36m3\u001b[0m\u001b[1;33m:\u001b[0m\u001b[1;33m\u001b[0m\u001b[0m\n\u001b[0;32m     17\u001b[0m             \u001b[0mself\u001b[0m\u001b[1;33m.\u001b[0m\u001b[0mn_channels\u001b[0m \u001b[1;33m=\u001b[0m \u001b[0mimage_data\u001b[0m\u001b[1;33m.\u001b[0m\u001b[0mshape\u001b[0m\u001b[1;33m[\u001b[0m\u001b[1;33m-\u001b[0m\u001b[1;36m1\u001b[0m\u001b[1;33m]\u001b[0m\u001b[1;33m\u001b[0m\u001b[0m\n",
        "\u001b[1;31mValueError\u001b[0m: need more than 1 value to unpack"
       ]
      }
     ],
     "prompt_number": 8
    },
    {
     "cell_type": "code",
     "collapsed": false,
     "input": [
      "x = np.array([ [162.824502, 200.209506],\n",
      "[163.511822, 232.523970],\n",
      "[164.442138, 261.651372],\n",
      "[169.209752, 288.005601],\n",
      "[174.078955, 315.782510],\n",
      "[186.469263, 341.412754],\n",
      "[206.870940, 358.915041],\n",
      "[232.442208, 371.196116],\n",
      "[258.562301, 373.992292],\n",
      "[290.155111, 373.593708],\n",
      "[313.997679, 359.565881],\n",
      "[333.230129, 342.825695],\n",
      "[347.733663, 321.417629],\n",
      "[354.954435, 296.738810],\n",
      "[360.365003, 271.002042],\n",
      "[363.622275, 243.188471],\n",
      "[365.168968, 215.004408],\n",
      "[180.164291, 190.761411],\n",
      "[190.741657, 171.823370],\n",
      "[214.462112, 167.875339],\n",
      "[239.563007, 172.452396],\n",
      "[256.955536, 186.553671],\n",
      "[284.435756, 186.435569],\n",
      "[305.010121, 175.514364],\n",
      "[329.007205, 175.542677],\n",
      "[350.960922, 182.256515],\n",
      "[356.485135, 201.393100],\n",
      "[268.756878, 209.001985],\n",
      "[268.490343, 225.685927],\n",
      "[269.278777, 242.557775],\n",
      "[269.374197, 259.075406],\n",
      "[247.554054, 274.915126],\n",
      "[257.957358, 277.091853],\n",
      "[269.010127, 279.046744],\n",
      "[277.933983, 278.125439],\n",
      "[286.435808, 276.359627],\n",
      "[199.022824, 209.230227],\n",
      "[208.846195, 203.602712],\n",
      "[225.181068, 203.697012],\n",
      "[238.703765, 211.554244],\n",
      "[224.339654, 214.470058],\n",
      "[209.081297, 214.620970],\n",
      "[294.170313, 214.591211],\n",
      "[307.650549, 209.414954],\n",
      "[323.511640, 209.420295],\n",
      "[333.646806, 216.143157],\n",
      "[324.033638, 219.961333],\n",
      "[307.443412, 219.366521],\n",
      "[225.815867, 314.318219],\n",
      "[240.040329, 307.947726],\n",
      "[253.254655, 304.361653],\n",
      "[265.738108, 307.629367],\n",
      "[278.420926, 304.972902],\n",
      "[290.532744, 310.147497],\n",
      "[301.899784, 316.105024],\n",
      "[290.604344, 318.820852],\n",
      "[279.126969, 321.018841],\n",
      "[264.525498, 324.147505],\n",
      "[249.235472, 320.921031],\n",
      "[238.940702, 317.867407],\n",
      "[232.286699, 313.214420],\n",
      "[252.857650, 312.294962],\n",
      "[265.046925, 312.608025],\n",
      "[277.287897, 312.140050],\n",
      "[295.956600, 315.491375],\n",
      "[276.773799, 311.963025],\n",
      "[265.248750, 312.708107],\n",
      "[252.964895, 312.381534]])"
     ],
     "language": "python",
     "metadata": {},
     "outputs": [],
     "prompt_number": 8
    },
    {
     "cell_type": "code",
     "collapsed": false,
     "input": [
      "import numpy as np"
     ],
     "language": "python",
     "metadata": {},
     "outputs": [],
     "prompt_number": 7
    },
    {
     "cell_type": "code",
     "collapsed": false,
     "input": [
      "lms.landmarks.add_meta_landmarks(lmd)"
     ],
     "language": "python",
     "metadata": {},
     "outputs": [
      {
       "ename": "Exception",
       "evalue": "metapoint must be of the same number of dims as the parent shape",
       "output_type": "pyerr",
       "traceback": [
        "\u001b[1;31m---------------------------------------------------------------------------\u001b[0m\n\u001b[1;31mException\u001b[0m                                 Traceback (most recent call last)",
        "\u001b[1;32m<ipython-input-14-5457b63e0273>\u001b[0m in \u001b[0;36m<module>\u001b[1;34m()\u001b[0m\n\u001b[1;32m----> 1\u001b[1;33m \u001b[0mlms\u001b[0m\u001b[1;33m.\u001b[0m\u001b[0mlandmarks\u001b[0m\u001b[1;33m.\u001b[0m\u001b[0madd_meta_landmarks\u001b[0m\u001b[1;33m(\u001b[0m\u001b[0mlmd\u001b[0m\u001b[1;33m)\u001b[0m\u001b[1;33m\u001b[0m\u001b[0m\n\u001b[0m",
        "\u001b[1;32m/home/jab08/.virtualenvs/pybug/src/pybug/pybug/shape/landmarks.pyc\u001b[0m in \u001b[0;36madd_meta_landmarks\u001b[1;34m(self, landmark_dict)\u001b[0m\n\u001b[0;32m    120\u001b[0m             \u001b[1;32melse\u001b[0m\u001b[1;33m:\u001b[0m\u001b[1;33m\u001b[0m\u001b[0m\n\u001b[0;32m    121\u001b[0m                 \u001b[1;32mfor\u001b[0m \u001b[0mi\u001b[0m\u001b[1;33m,\u001b[0m \u001b[0mindex\u001b[0m \u001b[1;32min\u001b[0m \u001b[0menumerate\u001b[0m\u001b[1;33m(\u001b[0m\u001b[0mv\u001b[0m\u001b[1;33m)\u001b[0m\u001b[1;33m:\u001b[0m\u001b[1;33m\u001b[0m\u001b[0m\n\u001b[1;32m--> 122\u001b[1;33m                     \u001b[0mlm\u001b[0m \u001b[1;33m=\u001b[0m \u001b[0mMetaLandmark\u001b[0m\u001b[1;33m(\u001b[0m\u001b[0mself\u001b[0m\u001b[1;33m.\u001b[0m\u001b[0mshape\u001b[0m\u001b[1;33m,\u001b[0m \u001b[0mindex\u001b[0m\u001b[1;33m,\u001b[0m \u001b[0mk\u001b[0m\u001b[1;33m,\u001b[0m \u001b[0mi\u001b[0m\u001b[1;33m)\u001b[0m\u001b[1;33m\u001b[0m\u001b[0m\n\u001b[0m\u001b[0;32m    123\u001b[0m                     \u001b[0mself\u001b[0m\u001b[1;33m.\u001b[0m\u001b[0m_data\u001b[0m\u001b[1;33m.\u001b[0m\u001b[0mappend\u001b[0m\u001b[1;33m(\u001b[0m\u001b[0mlm\u001b[0m\u001b[1;33m)\u001b[0m\u001b[1;33m\u001b[0m\u001b[0m\n\u001b[0;32m    124\u001b[0m         \u001b[0mself\u001b[0m\u001b[1;33m.\u001b[0m\u001b[0m_sort_data\u001b[0m\u001b[1;33m(\u001b[0m\u001b[1;33m)\u001b[0m\u001b[1;33m\u001b[0m\u001b[0m\n",
        "\u001b[1;32m/home/jab08/.virtualenvs/pybug/src/pybug/pybug/shape/landmarks.pyc\u001b[0m in \u001b[0;36m__init__\u001b[1;34m(self, shape, metapoint, label, label_index)\u001b[0m\n\u001b[0;32m     48\u001b[0m \u001b[1;33m\u001b[0m\u001b[0m\n\u001b[0;32m     49\u001b[0m     \u001b[1;32mdef\u001b[0m \u001b[0m__init__\u001b[0m\u001b[1;33m(\u001b[0m\u001b[0mself\u001b[0m\u001b[1;33m,\u001b[0m \u001b[0mshape\u001b[0m\u001b[1;33m,\u001b[0m \u001b[0mmetapoint\u001b[0m\u001b[1;33m,\u001b[0m \u001b[0mlabel\u001b[0m\u001b[1;33m,\u001b[0m \u001b[0mlabel_index\u001b[0m\u001b[1;33m)\u001b[0m\u001b[1;33m:\u001b[0m\u001b[1;33m\u001b[0m\u001b[0m\n\u001b[1;32m---> 50\u001b[1;33m         \u001b[0mindex\u001b[0m \u001b[1;33m=\u001b[0m \u001b[0mshape\u001b[0m\u001b[1;33m.\u001b[0m\u001b[0m_add_meta_landmark_item\u001b[0m\u001b[1;33m(\u001b[0m\u001b[0mmetapoint\u001b[0m\u001b[1;33m)\u001b[0m\u001b[1;33m\u001b[0m\u001b[0m\n\u001b[0m\u001b[0;32m     51\u001b[0m         \u001b[1;32mif\u001b[0m \u001b[0mindex\u001b[0m \u001b[1;32mis\u001b[0m \u001b[0mNone\u001b[0m\u001b[1;33m:\u001b[0m\u001b[1;33m\u001b[0m\u001b[0m\n\u001b[0;32m     52\u001b[0m             raise Exception(\"The parent shape of type \" + repr(shape) + \" is\"\n",
        "\u001b[1;32m/home/jab08/.virtualenvs/pybug/src/pybug/pybug/shape/pointcloud.pyc\u001b[0m in \u001b[0;36m_add_meta_landmark_item\u001b[1;34m(self, metapoint)\u001b[0m\n\u001b[0;32m    104\u001b[0m         \"\"\"\n\u001b[0;32m    105\u001b[0m         \u001b[1;32mif\u001b[0m \u001b[0mmetapoint\u001b[0m\u001b[1;33m.\u001b[0m\u001b[0msize\u001b[0m \u001b[1;33m!=\u001b[0m \u001b[0mself\u001b[0m\u001b[1;33m.\u001b[0m\u001b[0mn_dims\u001b[0m\u001b[1;33m:\u001b[0m\u001b[1;33m\u001b[0m\u001b[0m\n\u001b[1;32m--> 106\u001b[1;33m             raise Exception(\"metapoint must be of the same number of dims \"\n\u001b[0m\u001b[0;32m    107\u001b[0m                             \"as the parent shape\")\n\u001b[0;32m    108\u001b[0m         \u001b[0mnext_index\u001b[0m \u001b[1;33m=\u001b[0m \u001b[0mself\u001b[0m\u001b[1;33m.\u001b[0m\u001b[0mn_points_and_metapoints\u001b[0m\u001b[1;33m\u001b[0m\u001b[0m\n",
        "\u001b[1;31mException\u001b[0m: metapoint must be of the same number of dims as the parent shape"
       ]
      }
     ],
     "prompt_number": 14
    },
    {
     "cell_type": "code",
     "collapsed": false,
     "input": [
      "lmd  = {}\n",
      "lmd['pts'] = x"
     ],
     "language": "python",
     "metadata": {},
     "outputs": [],
     "prompt_number": 13
    },
    {
     "cell_type": "code",
     "collapsed": false,
     "input": [],
     "language": "python",
     "metadata": {},
     "outputs": []
    }
   ],
   "metadata": {}
  }
 ]
}