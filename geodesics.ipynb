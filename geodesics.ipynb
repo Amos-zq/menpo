{
 "metadata": {
  "name": "geodesics"
 },
 "nbformat": 3,
 "nbformat_minor": 0,
 "worksheets": [
  {
   "cells": [
    {
     "cell_type": "markdown",
     "metadata": {},
     "source": [
      "Imports, definitions, and two faces we will use"
     ]
    },
    {
     "cell_type": "code",
     "collapsed": true,
     "input": [
      "# imports, definitions and build faces we will use\n",
      "%pylab wx\n",
      "import numpy as np\n",
      "from ibugMM.mapping.geodesic import *\n",
      "from ibugMM.importer.model import import_face\n",
      "\n",
      "james_n_path = '/home/jab08/Dropbox/testData/james_n_no_mouth.obj'\n",
      "james_h_path = '/home/jab08/Dropbox/testData/james_h_no_mouth.obj'\n",
      "\n",
      "def all_landmark_mask(lm_sources, source_of_interest):\n",
      "    return np.array([s == source_of_interest for s in lm_sources])\n",
      "\n",
      "james_n = import_face(james_n_path);\n",
      "james_h = import_face(james_h_path);\n",
      "\n",
      "james_mid_h = james_h.new_face_masked_from_lms(['nose', 'mouth'], [120.0, 50], method='exact');\n",
      "james_mid_n = james_n.new_face_masked_from_lms(['nose', 'mouth'], [120.0, 50], method='exact');"
     ],
     "language": "python",
     "metadata": {},
     "outputs": []
    },
    {
     "cell_type": "markdown",
     "metadata": {},
     "source": [
      "**Geodesic Mapping** - calculate the *geodesic signitures*, $g$, for every vertex on both faces. The dimentionality of $g$ is equal to the number of landmarks - for $n_l$ landmarks there will be $n_l$ entries in the geodesic signiture, the $i$'th entry being the geodesic distance to the $i$'th landmark.\n",
      "\n",
      "For now, `GeodesicMapping` produces a mapping that is *linear* (i.e. we minimise the sum of the squared differences for geodesic signitures between the two faces\n",
      "$$i_2 = \\underset{k}{\\operatorname{argmin}} \\sum_j^l (g_i^j - g_k^j)^2 $$"
     ]
    },
    {
     "cell_type": "code",
     "collapsed": false,
     "input": [
      "geodesic_mapper = GeodesicMapping(james_mid_n, james_mid_h, signiture='vertices')\n",
      "gsig_1 = geodesic_mapper.gsig_1\n",
      "gsig_2 = geodesic_mapper.gsig_2\n",
      "f_1 = geodesic_mapper.face_1\n",
      "f_2 = geodesic_mapper.face_2"
     ],
     "language": "python",
     "metadata": {},
     "outputs": []
    },
    {
     "cell_type": "code",
     "collapsed": false,
     "input": [
      "# visualise the result of the mapping\n",
      "geodesic_mapper.face_1_on_2.view();\n",
      "geodesic_mapper.face_2_on_1.view();"
     ],
     "language": "python",
     "metadata": {},
     "outputs": []
    },
    {
     "cell_type": "code",
     "collapsed": false,
     "input": [
      "geodesic_mapper.face_2.view()\n",
      "geodesic_mapper.face_1.view()"
     ],
     "language": "python",
     "metadata": {},
     "outputs": []
    },
    {
     "cell_type": "code",
     "collapsed": false,
     "input": [
      "f_1 = james_mid_n\n",
      "f_2 = james_mid_h\n",
      "lm_1 = np.array(f_1.all_landmarks[0])\n",
      "lm_2 = np.array(f_2.all_landmarks[0])\n",
      "ls_1 = f_1.all_landmarks[1]\n",
      "ls_2 = f_2.all_landmarks[1]\n",
      "mouth_lm_mask_1 = all_landmark_mask(ls_1, 'mouth')\n",
      "mouth_lm_mask_2 = all_landmark_mask(ls_2, 'mouth')\n",
      "lm_mouth_1 = lm_1[mouth_lm_mask_1]\n",
      "lm_mouth_2 = lm_2[mouth_lm_mask_2]\n",
      "lm_nomouth_1 = lm_1[~mouth_lm_mask_1]\n",
      "lm_nomouth_2 = lm_2[~mouth_lm_mask_2]\n",
      "\n",
      "# first we look at how isometry changes for just the mouth region\n",
      "interlandmark_gsig_1 = gsig_1[lm_mouth_1]\n",
      "interlandmark_gsig_2 = gsig_2[lm_mouth_2]\n",
      "interlandmark_gsig_ratio = interlandmark_gsig_2 / interlandmark_gsig_1\n",
      "interlandmark_gsig_ratio[np.isnan(interlandmark_gsig_ratio)] = 1\n",
      "plt.hist(interlandmark_gsig_ratio.flatten(), bins=1000);\n",
      "\n",
      "# now considering everything but the mouth\n",
      "interlandmark_gsig_1 = gsig_1[lm_nomouth_1]\n",
      "interlandmark_gsig_2 = gsig_2[lm_nomouth_2]\n",
      "interlandmark_gsig_ratio = interlandmark_gsig_2 / interlandmark_gsig_1\n",
      "interlandmark_gsig_ratio[np.isnan(interlandmark_gsig_ratio)] = 1 \n",
      "plt.hist(interlandmark_gsig_ratio.flatten(), bins=1000);"
     ],
     "language": "python",
     "metadata": {},
     "outputs": []
    },
    {
     "cell_type": "code",
     "collapsed": false,
     "input": [
      "# find the unique closest n points\n",
      "n = 10\n",
      "c_1, ci_1 = unique_closest_n(gsig_1, n)\n",
      "c_2, ci_2 = unique_closest_n(gsig_2, n)\n",
      "# find how times each signiture occurs\n",
      "bc_1 = np.bincount(ci_1)\n",
      "bc_2 = np.bincount(ci_2)\n",
      "print bc_1.shape\n",
      "p = plt.plot(bc_1)\n",
      "p = plt.plot(bc_2)\n",
      "f_2.view_scalar_per_vertex((ci_2 == np.argmax(bc_2)).astype(np.int))"
     ],
     "language": "python",
     "metadata": {},
     "outputs": []
    },
    {
     "cell_type": "code",
     "collapsed": false,
     "input": [
      "def landmarks_about(string):\n",
      "    lm_mask_1 = all_landmark_mask(ls_1, string)\n",
      "    lm_mask_2 = all_landmark_mask(ls_2, string)\n",
      "    lm_mouth_1 = lm_1[lm_mask_1]\n",
      "    lm_mouth_2 = lm_2[lm_mask_2]\n",
      "    return lm_mouth_1, lm_mouth_2\n",
      "\n",
      "\n",
      "lm_l_brow_1, lm_l_brow_2 = landmarks_about('l_brow')\n",
      "lm_r_brow_1, lm_r_brow_2 = landmarks_about('r_brow')\n",
      "\n",
      "lm_brow_1 = list(lm_l_brow_1) + list(lm_r_brow_1)\n",
      "lm_brow_2 = list(lm_l_brow_2) + list(lm_r_brow_2)\n",
      "print type(lm_brow_1)\n",
      "print lm_brow_2"
     ],
     "language": "python",
     "metadata": {},
     "outputs": []
    },
    {
     "cell_type": "code",
     "collapsed": false,
     "input": [
      "# ranking indexes the signitures to arrange them by distance to source\n",
      "ranking = np.argsort(gsig_1, axis=1)\n",
      "diffvec = gsig_1[:,np.newaxis, :] - gsig_2 # shape (n_v1, n_v2, n_lms)\n",
      "distances = distance.cdist(gsig_1, gsig_2) \n",
      "ran = np.arange(diffvec.shape[0])\n",
      "min_2_to_1 = np.argmin(distances, axis=1)\n",
      "vec2to1 = diffvec[ran, min_2_to_1]\n",
      "absvec221 = np.abs(vec2to1)"
     ],
     "language": "python",
     "metadata": {},
     "outputs": []
    },
    {
     "cell_type": "code",
     "collapsed": false,
     "input": [
      "i = 6\n",
      "nearest_i_diffs = absvec221[ran[...,np.newaxis], ranking[:,:i]]\n",
      "errors_below_i_per_sig(nearest_i_diffs)"
     ],
     "language": "python",
     "metadata": {},
     "outputs": []
    },
    {
     "cell_type": "code",
     "collapsed": false,
     "input": [
      "# frequency of all errors below i in signiture \n",
      "def errors_below_i_per_sig(vec):\n",
      "    n_coords = vec.shape[0]\n",
      "    n_samples = 1000\n",
      "    max_check = 40\n",
      "    linspace(0, max_check, num=n_samples)\n",
      "    bins = np.zeros(n_samples)\n",
      "    sample_values = np.linspace(0, max_check, num=n_samples)\n",
      "    for i in xrange(n_samples):\n",
      "        bins[i] = np.sum(np.all(vec < sample_values[i], axis=1))\n",
      "    plot(sample_values, bins/n_coords);\n",
      "    \n",
      "# frequency of all errors\n",
      "def error_freq(vec):\n",
      "    hist(vec.flatten(), bins=1000);\n",
      "    \n",
      "# frequency of maximum error per signiture\n",
      "def max_error_per_sig(vec):\n",
      "    hist(np.max(vec, axis=1), bins=1000);"
     ],
     "language": "python",
     "metadata": {},
     "outputs": []
    },
    {
     "cell_type": "code",
     "collapsed": false,
     "input": [
      "v_2_keep = ran[np.all(nearest_i_diffs < 5, axis=1)]\n",
      "face_from_iso_vertex = james_mid_n.new_face_from_vertex_list(v_2_keep)\n",
      "face_from_iso_vertex.view()"
     ],
     "language": "python",
     "metadata": {},
     "outputs": []
    },
    {
     "cell_type": "markdown",
     "metadata": {},
     "source": [
      "**INTERLANDMARK SPACING**"
     ]
    },
    {
     "cell_type": "code",
     "collapsed": false,
     "input": [
      "all_lm_1 = (james_mid_n.all_landmarks[0])\n",
      "all_lm_2 = (james_mid_h.all_landmarks[0])\n",
      "intergsig_1 = gsig_1[all_lm_1]\n",
      "intergsig_2 = gsig_2[all_lm_2]\n",
      "# diagonals on both are zero - set to mask value before divide\n",
      "np.fill_diagonal(intergsig_1, 999)\n",
      "np.fill_diagonal(intergsig_2, 999)\n",
      "intergsig_ratio = intergsig_1/intergsig_2"
     ],
     "language": "python",
     "metadata": {},
     "outputs": []
    },
    {
     "cell_type": "code",
     "collapsed": false,
     "input": [
      "hist(intergsig_ratio[10], bins=32)"
     ],
     "language": "python",
     "metadata": {},
     "outputs": []
    },
    {
     "cell_type": "code",
     "collapsed": false,
     "input": [
      "plot(np.var(intergsig_ratio, axis=1))"
     ],
     "language": "python",
     "metadata": {},
     "outputs": []
    },
    {
     "cell_type": "code",
     "collapsed": false,
     "input": [
      "np.var(intergsig_ratio[26])"
     ],
     "language": "python",
     "metadata": {},
     "outputs": []
    },
    {
     "cell_type": "code",
     "collapsed": false,
     "input": [
      "plot(intergsig_ratio[26])"
     ],
     "language": "python",
     "metadata": {},
     "outputs": []
    },
    {
     "cell_type": "code",
     "collapsed": false,
     "input": [
      "intergsig_ratio[26][31]"
     ],
     "language": "python",
     "metadata": {},
     "outputs": []
    },
    {
     "cell_type": "markdown",
     "metadata": {},
     "source": [
      "**SEPERATING THE MOUTH**"
     ]
    },
    {
     "cell_type": "code",
     "collapsed": false,
     "input": [
      "mouth_f1 = geodesic_mapper.face_1.new_face_masked_from_lm(ange(1,8), [50]*8, method='exact')"
     ],
     "language": "python",
     "metadata": {},
     "outputs": []
    },
    {
     "cell_type": "code",
     "collapsed": false,
     "input": [
      "geodesic_mapper.face_1.all_landmarks"
     ],
     "language": "python",
     "metadata": {},
     "outputs": []
    },
    {
     "cell_type": "code",
     "collapsed": false,
     "input": [
      "range(1,9)"
     ],
     "language": "python",
     "metadata": {},
     "outputs": []
    },
    {
     "cell_type": "code",
     "collapsed": false,
     "input": [],
     "language": "python",
     "metadata": {},
     "outputs": []
    }
   ],
   "metadata": {}
  }
 ]
}