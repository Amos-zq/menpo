{
 "metadata": {
  "name": "geodesics"
 }, 
 "nbformat": 2, 
 "worksheets": [
  {
   "cells": [
    {
     "cell_type": "code", 
     "collapsed": false, 
     "input": [
      "", 
      "%pylab inline"
     ], 
     "language": "python", 
     "outputs": [
      {
       "output_type": "stream", 
       "stream": "stdout", 
       "text": [
        "", 
        "Welcome to pylab, a matplotlib-based Python environment [backend: module://IPython.zmq.pylab.backend_inline].", 
        "For more information, type 'help(pylab)'."
       ]
      }
     ], 
     "prompt_number": 1
    }, 
    {
     "cell_type": "code", 
     "collapsed": true, 
     "input": [
      "import numpy as np", 
      "from ibugMM.mapping.geodesic import *", 
      "import matplotlib.pyplot as plt", 
      "from mayavi import mlab", 
      "plt.interactive(True)", 
      "from ibugMM.importer.model import import_face", 
      "", 
      "james_n_path = '/home/jab08/Dropbox/testData/james_n_no_mouth.obj'", 
      "james_h_path = '/home/jab08/Dropbox/testData/james_h_no_mouth.obj'"
     ], 
     "language": "python", 
     "outputs": [], 
     "prompt_number": 2
    }, 
    {
     "cell_type": "code", 
     "collapsed": true, 
     "input": [
      "james_n = import_face(james_n_path)", 
      "james_h = import_face(james_h_path)", 
      "", 
      "james_mid_h = james_h.new_face_masked_from_lms(['nose', 'mouth'], [120.0, 50], method='exact')", 
      "james_mid_n = james_n.new_face_masked_from_lms(['nose', 'mouth'], [120.0, 50], method='exact')"
     ], 
     "language": "python", 
     "outputs": []
    }, 
    {
     "cell_type": "code", 
     "collapsed": true, 
     "input": [
      "geodesic_mapper = GeodesicMapping(james_mid_h, james_mid_n)"
     ], 
     "language": "python", 
     "outputs": [
      {
       "output_type": "stream", 
       "stream": "stdout", 
       "text": [
        "calculating geodesic signiture for all landmark vertices", 
        "no std dev supplied - creating a linear mapping"
       ]
      }, 
      {
       "output_type": "stream", 
       "stream": "stdout", 
       "text": [
        "", 
        "after construction, CppMesh cache size is 8.80MB."
       ]
      }, 
      {
       "output_type": "stream", 
       "stream": "stdout", 
       "text": [
        "", 
        "Building new face with a texture, texture_coords, and texture_tri_index -> assuming per-triangle texturing (texture_coords per vertex will be generated)", 
        "after construction, CppMesh cache size is 8.87MB."
       ]
      }, 
      {
       "output_type": "stream", 
       "stream": "stderr", 
       "text": [
        "ibugMM/mapping/geodesic.py:118: RuntimeWarning: invalid value encountered in divide", 
        "  texture_tri_index=face_a.texture_tri_index)", 
        "ibugMM/mapping/geodesic.py:118: RuntimeWarning: divide by zero encountered in divide", 
        "  texture_tri_index=face_a.texture_tri_index)", 
        "ibugMM/mapping/geodesic.py:121: RuntimeWarning: invalid value encountered in divide", 
        "  texture=face_b.texture, texture_coords=face_b.texture_coords_per_vertex[min_b_to_a])"
       ]
      }, 
      {
       "output_type": "stream", 
       "stream": "stdout", 
       "text": [
        "", 
        "Building new face with a texture, texture_coords, and texture_tri_index -> assuming per-triangle texturing (texture_coords per vertex will be generated)", 
        "after construction, CppMesh cache size is 8.80MB."
       ]
      }, 
      {
       "output_type": "stream", 
       "stream": "stdout", 
       "text": [
        "", 
        "Building new face with a texture, texture_coords but without a texture_tri_index -> assuming per vertex texturing", 
        "after construction, CppMesh cache size is 8.87MB."
       ]
      }, 
      {
       "output_type": "stream", 
       "stream": "stdout", 
       "text": [
        "", 
        "Building new face with a texture, texture_coords but without a texture_tri_index -> assuming per vertex texturing"
       ]
      }, 
      {
       "output_type": "stream", 
       "stream": "stderr", 
       "text": [
        "ibugMM/mapping/geodesic.py:121: RuntimeWarning: divide by zero encountered in divide", 
        "  texture=face_b.texture, texture_coords=face_b.texture_coords_per_vertex[min_b_to_a])"
       ]
      }
     ], 
     "prompt_number": 4
    }, 
    {
     "cell_type": "code", 
     "collapsed": false, 
     "input": [
      "n = 10", 
      "gsig_1 = geodesic_mapper.gsig_1", 
      "gsig_2 = geodesic_mapper.gsig_2", 
      "f_1 = geodesic_mapper.face_1", 
      "f_2 = geodesic_mapper.face_2", 
      "c_1, ci_1 = unique_closest_n(gsig_1, n)", 
      "c_2, ci_2 = unique_closest_n(gsig_2, n)"
     ], 
     "language": "python", 
     "outputs": [], 
     "prompt_number": 47
    }, 
    {
     "cell_type": "code", 
     "collapsed": false, 
     "input": [
      "bc_1 = np.bincount(ci_1)", 
      "bc_2 = np.bincount(ci_2)", 
      "print bc_1.shape", 
      "p = plt.plot(bc_1)", 
      "p = plt.plot(bc_2)"
     ], 
     "language": "python", 
     "outputs": [
      {
       "output_type": "stream", 
       "stream": "stdout", 
       "text": [
        "(3331,)"
       ]
      }, 
      {
       "output_type": "display_data", 
       "png": "[encoded data removed]"
      }
     ], 
     "prompt_number": 49
    }, 
    {
     "cell_type": "code", 
     "collapsed": false, 
     "input": [
      "f_2.view_scalar_per_vertex((ci_2 == np.argmax(bc_2)).astype(np.int))"
     ], 
     "language": "python", 
     "outputs": [], 
     "prompt_number": 43
    }, 
    {
     "cell_type": "code", 
     "collapsed": true, 
     "input": [
      "f_1.view_scalar_per_vertex((ci_1 == 48).astype(np.int))"
     ], 
     "language": "python", 
     "outputs": [], 
     "prompt_number": 38
    }, 
    {
     "cell_type": "code", 
     "collapsed": false, 
     "input": [
      "np.max(bc_1)"
     ], 
     "language": "python", 
     "outputs": [
      {
       "output_type": "pyout", 
       "prompt_number": 39, 
       "text": [
        "489"
       ]
      }
     ], 
     "prompt_number": 39
    }
   ]
  }
 ]
}