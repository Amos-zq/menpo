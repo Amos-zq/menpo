{
 "metadata": {
  "name": "geodesics"
 },
 "nbformat": 3,
 "nbformat_minor": 0,
 "worksheets": [
  {
   "cells": [
    {
     "cell_type": "markdown",
     "metadata": {},
     "source": [
      "Imports, definitions, and two faces we will use"
     ]
    },
    {
     "cell_type": "code",
     "collapsed": true,
     "input": [
      "# imports, definitions and build faces we will use\n",
      "%pylab wx\n",
      "import numpy as np\n",
      "from ibugMM.mapping.geodesic import *\n",
      "from ibugMM.importer.model import import_face\n",
      "\n",
      "james_n_path = '/home/jab08/Dropbox/testData/james_n_no_mouth_no_jaw.obj'\n",
      "james_h_path = '/home/jab08/Dropbox/testData/james_h_no_mouth_no_jaw.obj'\n",
      "\n",
      "def all_landmark_mask(lm_sources, source_of_interest):\n",
      "    return np.array([s == source_of_interest for s in lm_sources])\n",
      "\n",
      "james_n = import_face(james_n_path);\n",
      "james_h = import_face(james_h_path);\n",
      "\n",
      "james_mid_h = james_h.new_face_masked_from_lms(['nose', 'mouth'], [120.0, 50], method='exact');\n",
      "james_mid_n = james_n.new_face_masked_from_lms(['nose', 'mouth'], [120.0, 50], method='exact');"
     ],
     "language": "python",
     "metadata": {},
     "outputs": [
      {
       "output_type": "stream",
       "stream": "stdout",
       "text": [
        "\n",
        "Welcome to pylab, a matplotlib-based Python environment [backend: WXAgg].\n",
        "For more information, type 'help(pylab)'.\n"
       ]
      },
      {
       "output_type": "stream",
       "stream": "stdout",
       "text": [
        "importing without cleanup\n",
        "/home/jab08/Dropbox/testData/james_n_no_mouth_no_jaw.jpg"
       ]
      },
      {
       "output_type": "stream",
       "stream": "stdout",
       "text": [
        "\n",
        "found landmarks! Importing them\n",
        "after construction, CppMesh cache size is 25.65MB."
       ]
      },
      {
       "output_type": "stream",
       "stream": "stdout",
       "text": [
        "\n",
        "Building new face with a texture, texture_coords, and texture_tri_index -> assuming per-triangle texturing (texture_coords per vertex will be generated)\n",
        "importing without cleanup\n",
        "/home/jab08/Dropbox/testData/james_h_no_mouth_no_jaw.jpg"
       ]
      },
      {
       "output_type": "stream",
       "stream": "stdout",
       "text": [
        "\n",
        "found landmarks! Importing them\n",
        "after construction, CppMesh cache size is 23.89MB."
       ]
      },
      {
       "output_type": "stream",
       "stream": "stdout",
       "text": [
        "\n",
        "Building new face with a texture, texture_coords, and texture_tri_index -> assuming per-triangle texturing (texture_coords per vertex will be generated)\n",
        "after construction, CppMesh cache size is 7.34MB."
       ]
      },
      {
       "output_type": "stream",
       "stream": "stdout",
       "text": [
        "\n",
        "Building new face with a texture, texture_coords, and texture_tri_index -> assuming per-triangle texturing (texture_coords per vertex will be generated)\n",
        "after construction, CppMesh cache size is 7.53MB."
       ]
      },
      {
       "output_type": "stream",
       "stream": "stdout",
       "text": [
        "\n",
        "Building new face with a texture, texture_coords, and texture_tri_index -> assuming per-triangle texturing (texture_coords per vertex will be generated)\n"
       ]
      }
     ],
     "prompt_number": 1
    },
    {
     "cell_type": "markdown",
     "metadata": {},
     "source": [
      "**Geodesic Mapping** - calculate the *geodesic signitures*, $g$, for every vertex on both faces. The dimentionality of $g$ is equal to the number of landmarks - for $n_l$ landmarks there will be $n_l$ entries in the geodesic signiture, the $i$'th entry being the geodesic distance to the $i$'th landmark.\n",
      "\n",
      "For now, `GeodesicMapping` produces a mapping that is *linear* (i.e. we minimise the sum of the squared differences for geodesic signitures between the two faces\n",
      "$$i_2 = \\underset{k}{\\operatorname{argmin}} \\sum_j^l (g_i^j - g_k^j)^2 $$"
     ]
    },
    {
     "cell_type": "code",
     "collapsed": true,
     "input": [
      "lm_l_brow_1, lm_l_brow_2 = landmarks_about('l_brow')\n",
      "lm_r_brow_1, lm_r_brow_2 = landmarks_about('r_brow')\n",
      "\n",
      "lm_brow_1 = list(lm_l_brow_1) + list(lm_r_brow_1)\n",
      "lm_brow_2 = list(lm_l_brow_2) + list(lm_r_brow_2)\n",
      "print type(lm_brow_1)\n",
      "print lm_brow_2"
     ],
     "language": "python",
     "metadata": {},
     "outputs": [
      {
       "output_type": "stream",
       "stream": "stdout",
       "text": [
        "<type 'list'>\n",
        "[2116, 6275, 6187, 1848, 3532, 4792]\n"
       ]
      }
     ],
     "prompt_number": 6
    },
    {
     "cell_type": "code",
     "collapsed": false,
     "input": [
      "geodesic_mapper = GeodesicMapping(james_mid_n, james_mid_h, signiture='vertices')\n",
      "gsig_1 = geodesic_mapper.gsig_1\n",
      "gsig_2 = geodesic_mapper.gsig_2\n",
      "f_1 = geodesic_mapper.face_1\n",
      "f_2 = geodesic_mapper.face_2"
     ],
     "language": "python",
     "metadata": {},
     "outputs": [
      {
       "output_type": "stream",
       "stream": "stdout",
       "text": [
        "calculating geodesic signiture for all landmark vertices\n",
        "no std dev supplied - creating a linear mapping"
       ]
      },
      {
       "output_type": "stream",
       "stream": "stdout",
       "text": [
        "\n",
        "after construction, CppMesh cache size is 7.53MB."
       ]
      },
      {
       "output_type": "stream",
       "stream": "stdout",
       "text": [
        "\n",
        "Building new face with a texture, texture_coords but without a texture_tri_index -> assuming per vertex texturing\n",
        "after construction, CppMesh cache size is 7.34MB."
       ]
      },
      {
       "output_type": "stream",
       "stream": "stdout",
       "text": [
        "\n",
        "Building new face with a texture, texture_coords but without a texture_tri_index -> assuming per vertex texturing\n"
       ]
      }
     ],
     "prompt_number": 2
    },
    {
     "cell_type": "code",
     "collapsed": false,
     "input": [
      "# visualise the result of the mapping\n",
      "geodesic_mapper.face_1_on_2.view();\n",
      "geodesic_mapper.face_2_on_1.view();"
     ],
     "language": "python",
     "metadata": {},
     "outputs": [],
     "prompt_number": 8
    },
    {
     "cell_type": "code",
     "collapsed": false,
     "input": [
      "geodesic_mapper.view_mapping()"
     ],
     "language": "python",
     "metadata": {},
     "outputs": [],
     "prompt_number": 3
    },
    {
     "cell_type": "code",
     "collapsed": false,
     "input": [
      "f_1 = james_mid_n\n",
      "f_2 = james_mid_h\n",
      "lm_1 = np.array(f_1.all_landmarks[0])\n",
      "lm_2 = np.array(f_2.all_landmarks[0])\n",
      "ls_1 = f_1.all_landmarks[1]\n",
      "ls_2 = f_2.all_landmarks[1]\n",
      "mouth_lm_mask_1 = all_landmark_mask(ls_1, 'mouth')\n",
      "mouth_lm_mask_2 = all_landmark_mask(ls_2, 'mouth')\n",
      "lm_mouth_1 = lm_1[mouth_lm_mask_1]\n",
      "lm_mouth_2 = lm_2[mouth_lm_mask_2]\n",
      "lm_nomouth_1 = lm_1[~mouth_lm_mask_1]\n",
      "lm_nomouth_2 = lm_2[~mouth_lm_mask_2]"
     ],
     "language": "python",
     "metadata": {},
     "outputs": [],
     "prompt_number": 2
    },
    {
     "cell_type": "code",
     "collapsed": false,
     "input": [
      "def landmarks_about(string):\n",
      "    lm_mask_1 = all_landmark_mask(ls_1, string)\n",
      "    lm_mask_2 = all_landmark_mask(ls_2, string)\n",
      "    lm_mouth_1 = lm_1[lm_mask_1]\n",
      "    lm_mouth_2 = lm_2[lm_mask_2]\n",
      "    return lm_mouth_1, lm_mouth_2"
     ],
     "language": "python",
     "metadata": {},
     "outputs": [],
     "prompt_number": 3
    },
    {
     "cell_type": "code",
     "collapsed": false,
     "input": [
      "# first we look at how isometry changes for just the mouth region\n",
      "interlandmark_gsig_1 = gsig_1[lm_mouth_1]\n",
      "interlandmark_gsig_2 = gsig_2[lm_mouth_2]\n",
      "interlandmark_gsig_ratio = interlandmark_gsig_2 / interlandmark_gsig_1\n",
      "interlandmark_gsig_ratio[np.isnan(interlandmark_gsig_ratio)] = 1\n",
      "plt.hist(interlandmark_gsig_ratio.flatten(), bins=1000);"
     ],
     "language": "python",
     "metadata": {},
     "outputs": [
      {
       "output_type": "stream",
       "stream": "stderr",
       "text": [
        "-c:4: RuntimeWarning: invalid value encountered in divide\n"
       ]
      }
     ],
     "prompt_number": 4
    },
    {
     "cell_type": "code",
     "collapsed": false,
     "input": [
      "# now considering everything but the mouth\n",
      "interlandmark_gsig_1 = gsig_1[lm_nomouth_1]\n",
      "interlandmark_gsig_2 = gsig_2[lm_nomouth_2]\n",
      "interlandmark_gsig_ratio = interlandmark_gsig_2 / interlandmark_gsig_1\n",
      "interlandmark_gsig_ratio[np.isnan(interlandmark_gsig_ratio)] = 1 \n",
      "plt.hist(interlandmark_gsig_ratio.flatten(), bins=1000);"
     ],
     "language": "python",
     "metadata": {},
     "outputs": [],
     "prompt_number": 8
    },
    {
     "cell_type": "code",
     "collapsed": false,
     "input": [
      "# find the unique closest n points\n",
      "n = 10\n",
      "c_1, ci_1 = unique_closest_n(gsig_1, n)\n",
      "c_2, ci_2 = unique_closest_n(gsig_2, n)\n",
      "# find how times each signiture occurs\n",
      "bc_1 = np.bincount(ci_1)\n",
      "bc_2 = np.bincount(ci_2)\n",
      "print bc_1.shape\n",
      "p = plt.plot(bc_1)\n",
      "p = plt.plot(bc_2)\n",
      "f_2.view_scalar_per_vertex((ci_2 == np.argmax(bc_2)).astype(np.int))\n",
      "\n",
      "f_1.view_scalar_per_vertex((ci_1 == 48).astype(np.int))"
     ],
     "language": "python",
     "metadata": {},
     "outputs": [
      {
       "output_type": "stream",
       "stream": "stdout",
       "text": [
        "(3151,)\n"
       ]
      }
     ],
     "prompt_number": 6
    },
    {
     "cell_type": "code",
     "collapsed": false,
     "input": [
      "f_2.view()"
     ],
     "language": "python",
     "metadata": {},
     "outputs": [
      {
       "output_type": "pyout",
       "prompt_number": 12,
       "text": [
        "<tvtk.pyface.ui.wx.decorated_scene.DecoratedScene at 0x20714290>"
       ]
      }
     ],
     "prompt_number": 12
    },
    {
     "cell_type": "code",
     "collapsed": false,
     "input": [
      "type('sintrg')"
     ],
     "language": "python",
     "metadata": {},
     "outputs": [
      {
       "output_type": "pyout",
       "prompt_number": 4,
       "text": [
        "str"
       ]
      }
     ],
     "prompt_number": 4
    },
    {
     "cell_type": "code",
     "collapsed": false,
     "input": [
      "mlab.figure()"
     ],
     "language": "python",
     "metadata": {},
     "outputs": [
      {
       "output_type": "pyout",
       "prompt_number": 4,
       "text": [
        "<mayavi.core.scene.Scene at 0xe654bf0>"
       ]
      }
     ],
     "prompt_number": 4
    },
    {
     "cell_type": "code",
     "collapsed": false,
     "input": [
      "a = 2"
     ],
     "language": "python",
     "metadata": {},
     "outputs": [],
     "prompt_number": 1
    },
    {
     "cell_type": "code",
     "collapsed": false,
     "input": [],
     "language": "python",
     "metadata": {},
     "outputs": []
    }
   ],
   "metadata": {}
  }
 ]
}